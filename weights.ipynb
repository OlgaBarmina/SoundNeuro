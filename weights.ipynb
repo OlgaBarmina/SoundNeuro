{
 "cells": [
  {
   "cell_type": "code",
   "execution_count": 1,
   "metadata": {
    "id": "UdsrHlDFR8EB"
   },
   "outputs": [],
   "source": [
    "import os\n",
    "import matplotlib.pyplot as plt\n",
    "import numpy as np\n",
    "import tensorflow as tf\n",
    "import librosa\n",
    "import librosa.display\n",
    "import re\n",
    "from sklearn.model_selection import train_test_split\n",
    "import math\n",
    "import keras\n",
    "from keras import backend as K"
   ]
  },
  {
   "cell_type": "code",
   "execution_count": 2,
   "metadata": {
    "colab": {
     "base_uri": "https://localhost:8080/"
    },
    "id": "LEERbDXjSmCh",
    "outputId": "a6ed1555-8301-45fa-b01a-082036833e8d"
   },
   "outputs": [
    {
     "name": "stdout",
     "output_type": "stream",
     "text": [
      "Total number of samples: 30000\n"
     ]
    }
   ],
   "source": [
    "ds_dir = '/arch/mnist_data'\n",
    "filenames = []\n",
    "\n",
    "for root, dirs, files in os.walk(ds_dir):\n",
    "    for file in files:\n",
    "        filenames.append(os.path.join(root,file))\n",
    "filenames = [re.sub(r'(\\\\)', '/', name) for name in filenames[1:]]\n",
    "\n",
    "samples_number = len(filenames)\n",
    "print('Total number of samples:', samples_number)"
   ]
  },
  {
   "cell_type": "code",
   "execution_count": 3,
   "metadata": {
    "colab": {
     "base_uri": "https://localhost:8080/"
    },
    "id": "vbE_0KGkS4xo",
    "outputId": "aacae527-a942-4555-90dd-e9c2b3e6efe6"
   },
   "outputs": [
    {
     "name": "stdout",
     "output_type": "stream",
     "text": [
      "Training data size 21000\n",
      "Test data size 6030\n",
      "Validation data size 2970\n"
     ]
    }
   ],
   "source": [
    "labels = np.array([\"0\",\"1\",\"2\",\"3\",\"4\",\"5\",\"6\",\"7\",\"8\",\"9\"])\n",
    "train_files,test_files = train_test_split(filenames, test_size=0.3, shuffle=True, random_state=1)\n",
    "test_files,val_files = train_test_split(test_files, test_size=0.33, shuffle=True, random_state=1)\n",
    "\n",
    "print('Training data size', len(train_files))\n",
    "print('Test data size', len(test_files))\n",
    "print('Validation data size', len(val_files))"
   ]
  },
  {
   "cell_type": "code",
   "execution_count": 4,
   "metadata": {
    "id": "_24GUB7FeV16"
   },
   "outputs": [],
   "source": [
    "def get_label(file_path):\n",
    "    label = re.findall(r'/([0-9])_', file_path)[0]\n",
    "    index = np.argmax(label == labels)\n",
    "    label_id = np.zeros(len(labels))\n",
    "    label_id[index] = 1\n",
    "    return label_id"
   ]
  },
  {
   "cell_type": "code",
   "execution_count": 5,
   "metadata": {
    "id": "ct0Q8zUlfj4w"
   },
   "outputs": [],
   "source": [
    "def get_ms(file_path, input_shape):\n",
    "    y, sr = librosa.load(file_path)\n",
    "    ms = librosa.feature.melspectrogram(y=y, sr=sr,n_fft=2048, hop_length=512)\n",
    "\n",
    "    ms = np.resize(ms, input_shape)\n",
    "    ms = np.log(ms + 1e-9)\n",
    "    ms = librosa.util.normalize(ms)\n",
    "    \n",
    "    ms = np.repeat(ms[..., np.newaxis], 3, -1)\n",
    "    return ms"
   ]
  },
  {
   "cell_type": "code",
   "execution_count": 6,
   "metadata": {
    "id": "4LmQusI6cFUm"
   },
   "outputs": [],
   "source": [
    "def preprocess_dataset(files, input_shape):\n",
    "    output_labels = np.array([get_label(file) for file in files])\n",
    "    output_ms = np.array([get_ms(file, input_shape) for file in files])\n",
    "    return output_ms, output_labels"
   ]
  },
  {
   "cell_type": "code",
   "execution_count": 7,
   "metadata": {},
   "outputs": [],
   "source": [
    "batch_size = 64\n",
    "\n",
    "epoch=10\n",
    "fine_tune_epochs = 15\n",
    "total_epochs =  epoch + fine_tune_epochs"
   ]
  },
  {
   "cell_type": "code",
   "execution_count": 8,
   "metadata": {},
   "outputs": [],
   "source": [
    "tf.compat.v1.enable_eager_execution()"
   ]
  },
  {
   "cell_type": "code",
   "execution_count": 9,
   "metadata": {
    "id": "uQBzV_u_j3As",
    "tags": []
   },
   "outputs": [],
   "source": [
    "input_shape = (128,44)\n",
    "train_ms,train_labels = preprocess_dataset(train_files, input_shape)\n",
    "test_ms,test_labels = preprocess_dataset(test_files, input_shape)\n",
    "val_ms,val_labels = preprocess_dataset(val_files, input_shape)\n",
    "\n",
    "train_dataset = tf.data.Dataset.from_tensor_slices((train_ms, train_labels))\n",
    "test_dataset = tf.data.Dataset.from_tensor_slices((test_ms, test_labels))\n",
    "val_dataset = tf.data.Dataset.from_tensor_slices((val_ms, val_labels))\n",
    "\n",
    "train_batches = train_dataset.batch(batch_size)\n",
    "test_batches = test_dataset.batch(batch_size)\n",
    "val_batches = val_dataset.batch(batch_size)"
   ]
  },
  {
   "cell_type": "code",
   "execution_count": 10,
   "metadata": {},
   "outputs": [],
   "source": [
    "def recall(y_true, y_pred):\n",
    "    true_positives = K.sum(K.round(K.clip(y_true * y_pred, 0, 1)))\n",
    "    possible_positives = K.sum(K.round(K.clip(y_true, 0, 1)))\n",
    "    recall = true_positives / (possible_positives + K.epsilon())\n",
    "    return recall\n",
    "\n",
    "def precision(y_true, y_pred):\n",
    "    true_positives = K.sum(K.round(K.clip(y_true * y_pred, 0, 1)))\n",
    "    predicted_positives = K.sum(K.round(K.clip(y_pred, 0, 1)))\n",
    "    precision = true_positives / (predicted_positives + K.epsilon())\n",
    "    return precision\n",
    "\n",
    "def f1_score(y_true, y_pred):\n",
    "    prec = precision(y_true, y_pred)\n",
    "    rec = recall(y_true, y_pred)\n",
    "    return 2*((prec*rec)/(prec+rec+K.epsilon()))"
   ]
  },
  {
   "cell_type": "code",
   "execution_count": 11,
   "metadata": {},
   "outputs": [],
   "source": [
    "import sklearn\n",
    "\n",
    "def metric_calc(model):\n",
    "    y_true=test_labels\n",
    "    y_pred = model.predict(test_batches, verbose=2)\n",
    "\n",
    "    y_pred = np.array([np.argmax(i) for i in y_pred])\n",
    "    y_true = np.array([np.argmax(i) for i in y_true])\n",
    "\n",
    "    accuracy = sklearn.metrics.accuracy_score(y_true, y_pred)\n",
    "    precision = sklearn.metrics.precision_score(y_true, y_pred, average='weighted', zero_division=0)\n",
    "    recall = sklearn.metrics.recall_score(y_true, y_pred, average='weighted', zero_division=0)\n",
    "    f1 = sklearn.metrics.f1_score(y_true, y_pred, average='weighted', zero_division=0)\n",
    "\n",
    "    return accuracy, precision, recall, f1"
   ]
  },
  {
   "cell_type": "markdown",
   "metadata": {},
   "source": [
    "# DenseNet121"
   ]
  },
  {
   "cell_type": "code",
   "execution_count": 14,
   "metadata": {},
   "outputs": [
    {
     "name": "stdout",
     "output_type": "stream",
     "text": [
      "Epoch 1/10\n",
      "329/329 [==============================] - 176s 519ms/step - loss: 1.3798 - accuracy: 0.5310 - f1_score: 0.4205 - precision: 0.2881 - recall: 0.7873 - val_loss: 1.4040 - val_accuracy: 0.5135 - val_f1_score: 0.4190 - val_precision: 0.2789 - val_recall: 0.8433\n",
      "Epoch 2/10\n",
      "329/329 [==============================] - 169s 515ms/step - loss: 1.0206 - accuracy: 0.6481 - f1_score: 0.4497 - precision: 0.2992 - recall: 0.9066 - val_loss: 1.1592 - val_accuracy: 0.5936 - val_f1_score: 0.4373 - val_precision: 0.2893 - val_recall: 0.8965\n",
      "Epoch 3/10\n",
      "329/329 [==============================] - 169s 515ms/step - loss: 0.9304 - accuracy: 0.6819 - f1_score: 0.4518 - precision: 0.2989 - recall: 0.9266 - val_loss: 0.9828 - val_accuracy: 0.6559 - val_f1_score: 0.4471 - val_precision: 0.2957 - val_recall: 0.9167\n",
      "Epoch 4/10\n",
      "329/329 [==============================] - 169s 515ms/step - loss: 0.8741 - accuracy: 0.7021 - f1_score: 0.4536 - precision: 0.2993 - recall: 0.9375 - val_loss: 0.9149 - val_accuracy: 0.6859 - val_f1_score: 0.4506 - val_precision: 0.2972 - val_recall: 0.9324\n",
      "Epoch 5/10\n",
      "329/329 [==============================] - 170s 516ms/step - loss: 0.8325 - accuracy: 0.7168 - f1_score: 0.4555 - precision: 0.3003 - recall: 0.9449 - val_loss: 0.8851 - val_accuracy: 0.6960 - val_f1_score: 0.4480 - val_precision: 0.2943 - val_recall: 0.9383\n",
      "Epoch 6/10\n",
      "329/329 [==============================] - 170s 516ms/step - loss: 0.8048 - accuracy: 0.7275 - f1_score: 0.4555 - precision: 0.2998 - recall: 0.9494 - val_loss: 0.8574 - val_accuracy: 0.7121 - val_f1_score: 0.4483 - val_precision: 0.2942 - val_recall: 0.9432\n",
      "Epoch 7/10\n",
      "329/329 [==============================] - 170s 516ms/step - loss: 0.7848 - accuracy: 0.7372 - f1_score: 0.4550 - precision: 0.2991 - recall: 0.9518 - val_loss: 0.8401 - val_accuracy: 0.7175 - val_f1_score: 0.4486 - val_precision: 0.2942 - val_recall: 0.9448\n",
      "Epoch 8/10\n",
      "329/329 [==============================] - 170s 517ms/step - loss: 0.7683 - accuracy: 0.7441 - f1_score: 0.4553 - precision: 0.2991 - recall: 0.9544 - val_loss: 0.8290 - val_accuracy: 0.7226 - val_f1_score: 0.4486 - val_precision: 0.2941 - val_recall: 0.9458\n",
      "Epoch 9/10\n",
      "329/329 [==============================] - 170s 516ms/step - loss: 0.7541 - accuracy: 0.7478 - f1_score: 0.4549 - precision: 0.2986 - recall: 0.9562 - val_loss: 0.8199 - val_accuracy: 0.7263 - val_f1_score: 0.4490 - val_precision: 0.2941 - val_recall: 0.9488\n",
      "Epoch 10/10\n",
      "329/329 [==============================] - 169s 515ms/step - loss: 0.7419 - accuracy: 0.7537 - f1_score: 0.4551 - precision: 0.2985 - recall: 0.9585 - val_loss: 0.8127 - val_accuracy: 0.7300 - val_f1_score: 0.4482 - val_precision: 0.2935 - val_recall: 0.9485\n"
     ]
    }
   ],
   "source": [
    "model_densenet121 = tf.keras.applications.densenet.DenseNet121(input_shape=input_shape+(3,), include_top=False, \n",
    "                                                               weights='imagenet')\n",
    "model_densenet121.trainable = False\n",
    "\n",
    "densenet121 = keras.Sequential([\n",
    "    model_densenet121,\n",
    "    keras.layers.GlobalAveragePooling2D(),\n",
    "    keras.layers.Dense(len(labels))                \n",
    "])\n",
    "\n",
    "densenet121.compile(optimizer=tf.keras.optimizers.legacy.SGD(learning_rate=1e-2, momentum=0.9, decay=1e-2/epoch),\n",
    "              loss=keras.losses.CategoricalCrossentropy(from_logits=True),\n",
    "              metrics=['accuracy', f1_score, precision, recall])\n",
    "\n",
    "history_densenet121 = densenet121.fit(train_batches,\n",
    "                    epochs=epoch,\n",
    "                    validation_data=val_batches,\n",
    "                    verbose=1,\n",
    "                    shuffle=True)"
   ]
  },
  {
   "cell_type": "code",
   "execution_count": 15,
   "metadata": {},
   "outputs": [
    {
     "name": "stdout",
     "output_type": "stream",
     "text": [
      "Epoch 10/25\n",
      "329/329 [==============================] - 797s 2s/step - loss: 0.8633 - accuracy: 0.7393 - f1_score: 0.3901 - precision: 0.2457 - recall: 0.9540 - val_loss: 0.8593 - val_accuracy: 0.7519 - val_f1_score: 0.3916 - val_precision: 0.2450 - val_recall: 0.9759\n",
      "Epoch 11/25\n",
      "329/329 [==============================] - 789s 2s/step - loss: 0.2666 - accuracy: 0.9047 - f1_score: 0.4060 - precision: 0.2550 - recall: 0.9974 - val_loss: 0.3166 - val_accuracy: 0.8939 - val_f1_score: 0.4020 - val_precision: 0.2518 - val_recall: 0.9970\n",
      "Epoch 12/25\n",
      "329/329 [==============================] - 787s 2s/step - loss: 0.1411 - accuracy: 0.9516 - f1_score: 0.4090 - precision: 0.2572 - recall: 0.9992 - val_loss: 0.1535 - val_accuracy: 0.9495 - val_f1_score: 0.4116 - val_precision: 0.2593 - val_recall: 0.9987\n",
      "Epoch 13/25\n",
      "329/329 [==============================] - 791s 2s/step - loss: 0.0863 - accuracy: 0.9701 - f1_score: 0.4125 - precision: 0.2599 - recall: 0.9999 - val_loss: 0.1143 - val_accuracy: 0.9633 - val_f1_score: 0.4155 - val_precision: 0.2623 - val_recall: 0.9993\n",
      "Epoch 14/25\n",
      "329/329 [==============================] - 792s 2s/step - loss: 0.0556 - accuracy: 0.9817 - f1_score: 0.4164 - precision: 0.2630 - recall: 1.0000 - val_loss: 0.1382 - val_accuracy: 0.9566 - val_f1_score: 0.4198 - val_precision: 0.2658 - val_recall: 0.9993\n",
      "Epoch 15/25\n",
      "329/329 [==============================] - 786s 2s/step - loss: 0.0374 - accuracy: 0.9870 - f1_score: 0.4206 - precision: 0.2663 - recall: 1.0000 - val_loss: 0.1517 - val_accuracy: 0.9542 - val_f1_score: 0.4187 - val_precision: 0.2649 - val_recall: 0.9993\n",
      "Epoch 16/25\n",
      "329/329 [==============================] - 786s 2s/step - loss: 0.0230 - accuracy: 0.9934 - f1_score: 0.4230 - precision: 0.2683 - recall: 1.0000 - val_loss: 0.1195 - val_accuracy: 0.9670 - val_f1_score: 0.4215 - val_precision: 0.2672 - val_recall: 0.9990\n",
      "Epoch 17/25\n",
      "329/329 [==============================] - 788s 2s/step - loss: 0.0161 - accuracy: 0.9949 - f1_score: 0.4236 - precision: 0.2688 - recall: 1.0000 - val_loss: 0.1023 - val_accuracy: 0.9687 - val_f1_score: 0.4212 - val_precision: 0.2669 - val_recall: 0.9993\n",
      "Epoch 18/25\n",
      "329/329 [==============================] - 790s 2s/step - loss: 0.0092 - accuracy: 0.9980 - f1_score: 0.4226 - precision: 0.2679 - recall: 1.0000 - val_loss: 0.0896 - val_accuracy: 0.9744 - val_f1_score: 0.4237 - val_precision: 0.2689 - val_recall: 0.9993\n",
      "Epoch 19/25\n",
      "329/329 [==============================] - 789s 2s/step - loss: 0.0058 - accuracy: 0.9985 - f1_score: 0.4224 - precision: 0.2678 - recall: 1.0000 - val_loss: 0.0894 - val_accuracy: 0.9761 - val_f1_score: 0.4235 - val_precision: 0.2687 - val_recall: 0.9993\n",
      "Epoch 20/25\n",
      "329/329 [==============================] - 787s 2s/step - loss: 0.0040 - accuracy: 0.9993 - f1_score: 0.4224 - precision: 0.2678 - recall: 1.0000 - val_loss: 0.1103 - val_accuracy: 0.9721 - val_f1_score: 0.4223 - val_precision: 0.2678 - val_recall: 0.9993\n",
      "Epoch 21/25\n",
      "329/329 [==============================] - 786s 2s/step - loss: 0.0021 - accuracy: 0.9998 - f1_score: 0.4231 - precision: 0.2684 - recall: 1.0000 - val_loss: 0.0850 - val_accuracy: 0.9768 - val_f1_score: 0.4247 - val_precision: 0.2696 - val_recall: 0.9993\n",
      "Epoch 22/25\n",
      "329/329 [==============================] - 790s 2s/step - loss: 0.0012 - accuracy: 1.0000 - f1_score: 0.4230 - precision: 0.2683 - recall: 1.0000 - val_loss: 0.0861 - val_accuracy: 0.9761 - val_f1_score: 0.4230 - val_precision: 0.2683 - val_recall: 0.9993\n",
      "Epoch 23/25\n",
      "329/329 [==============================] - 968s 3s/step - loss: 7.4730e-04 - accuracy: 1.0000 - f1_score: 0.4229 - precision: 0.2682 - recall: 1.0000 - val_loss: 0.0847 - val_accuracy: 0.9778 - val_f1_score: 0.4242 - val_precision: 0.2692 - val_recall: 0.9993\n",
      "Epoch 24/25\n",
      "329/329 [==============================] - 1038s 3s/step - loss: 6.0327e-04 - accuracy: 1.0000 - f1_score: 0.4231 - precision: 0.2684 - recall: 1.0000 - val_loss: 0.0847 - val_accuracy: 0.9781 - val_f1_score: 0.4240 - val_precision: 0.2691 - val_recall: 0.9993\n",
      "Epoch 25/25\n",
      "329/329 [==============================] - 1041s 3s/step - loss: 5.2508e-04 - accuracy: 1.0000 - f1_score: 0.4232 - precision: 0.2684 - recall: 1.0000 - val_loss: 0.0851 - val_accuracy: 0.9781 - val_f1_score: 0.4238 - val_precision: 0.2690 - val_recall: 0.9993\n"
     ]
    }
   ],
   "source": [
    "model_densenet121.trainable = True\n",
    "fine_tune_at = int(len(model_densenet121.layers)*0.7)\n",
    "for layer in model_densenet121.layers[:fine_tune_at]:\n",
    "    layer.trainble = False\n",
    "    \n",
    "densenet121.compile(optimizer=keras.optimizers.SGD(learning_rate=1e-2, momentum=0.9, decay=1e-2/fine_tune_epochs),\n",
    "              loss=keras.losses.CategoricalCrossentropy(from_logits=True),\n",
    "              metrics=['accuracy', f1_score, precision, recall])\n",
    "\n",
    "history_densenet121_fine = densenet121.fit(train_batches,\n",
    "                    epochs=total_epochs,\n",
    "                    initial_epoch=history_densenet121.epoch[-1],\n",
    "                    validation_data=val_batches, \n",
    "                    verbose=1,\n",
    "                    shuffle=True)"
   ]
  },
  {
   "cell_type": "code",
   "execution_count": 16,
   "metadata": {},
   "outputs": [
    {
     "name": "stdout",
     "output_type": "stream",
     "text": [
      "95/95 - 71s - 71s/epoch - 750ms/step\n"
     ]
    },
    {
     "data": {
      "text/plain": [
       "(0.9800995024875622,\n",
       " 0.9801142486092799,\n",
       " 0.9800995024875622,\n",
       " 0.9800800624688556)"
      ]
     },
     "execution_count": 16,
     "metadata": {},
     "output_type": "execute_result"
    }
   ],
   "source": [
    "metric_calc(densenet121)"
   ]
  },
  {
   "cell_type": "code",
   "execution_count": 17,
   "metadata": {},
   "outputs": [
    {
     "name": "stdout",
     "output_type": "stream",
     "text": [
      "95/95 - 64s - loss: 0.0853 - accuracy: 0.9801 - f1_score: 0.4243 - precision: 0.2693 - recall: 0.9997 - 64s/epoch - 676ms/step\n"
     ]
    }
   ],
   "source": [
    "test_loss, test_acc, test_f1, test_prec, test_rec = densenet121.evaluate(test_batches, verbose=2)"
   ]
  },
  {
   "cell_type": "code",
   "execution_count": 18,
   "metadata": {},
   "outputs": [
    {
     "name": "stderr",
     "output_type": "stream",
     "text": [
      "WARNING:absl:Found untraced functions such as _jit_compiled_convolution_op, _jit_compiled_convolution_op, _jit_compiled_convolution_op, _jit_compiled_convolution_op, _jit_compiled_convolution_op while saving (showing 5 of 120). These functions will not be directly callable after loading.\n"
     ]
    },
    {
     "name": "stdout",
     "output_type": "stream",
     "text": [
      "INFO:tensorflow:Assets written to: models/densenet121_weights\\assets\n"
     ]
    },
    {
     "name": "stderr",
     "output_type": "stream",
     "text": [
      "INFO:tensorflow:Assets written to: models/densenet121_weights\\assets\n"
     ]
    }
   ],
   "source": [
    "densenet121.save(\"models/densenet121_weights\")"
   ]
  },
  {
   "cell_type": "markdown",
   "metadata": {},
   "source": [
    "# DenseNet169"
   ]
  },
  {
   "cell_type": "code",
   "execution_count": 19,
   "metadata": {},
   "outputs": [
    {
     "name": "stdout",
     "output_type": "stream",
     "text": [
      "Epoch 1/10\n",
      "329/329 [==============================] - 222s 650ms/step - loss: 1.3188 - accuracy: 0.5439 - f1_score: 0.3874 - precision: 0.2519 - recall: 0.8470 - val_loss: 1.1399 - val_accuracy: 0.5990 - val_f1_score: 0.3912 - val_precision: 0.2481 - val_recall: 0.9259\n",
      "Epoch 2/10\n",
      "329/329 [==============================] - 246s 749ms/step - loss: 0.9373 - accuracy: 0.6795 - f1_score: 0.4123 - precision: 0.2637 - recall: 0.9460 - val_loss: 0.9948 - val_accuracy: 0.6519 - val_f1_score: 0.3970 - val_precision: 0.2514 - val_recall: 0.9438\n",
      "Epoch 3/10\n",
      "329/329 [==============================] - 324s 985ms/step - loss: 0.8490 - accuracy: 0.7111 - f1_score: 0.4112 - precision: 0.2619 - recall: 0.9579 - val_loss: 0.8917 - val_accuracy: 0.6875 - val_f1_score: 0.4071 - val_precision: 0.2588 - val_recall: 0.9541\n",
      "Epoch 4/10\n",
      "329/329 [==============================] - 327s 993ms/step - loss: 0.7929 - accuracy: 0.7310 - f1_score: 0.4111 - precision: 0.2613 - recall: 0.9644 - val_loss: 0.8759 - val_accuracy: 0.6886 - val_f1_score: 0.4054 - val_precision: 0.2571 - val_recall: 0.9581\n",
      "Epoch 5/10\n",
      "329/329 [==============================] - 325s 988ms/step - loss: 0.7560 - accuracy: 0.7445 - f1_score: 0.4109 - precision: 0.2609 - recall: 0.9684 - val_loss: 0.8481 - val_accuracy: 0.6980 - val_f1_score: 0.4035 - val_precision: 0.2554 - val_recall: 0.9618\n",
      "Epoch 6/10\n",
      "329/329 [==============================] - 324s 985ms/step - loss: 0.7304 - accuracy: 0.7570 - f1_score: 0.4106 - precision: 0.2605 - recall: 0.9706 - val_loss: 0.8168 - val_accuracy: 0.7192 - val_f1_score: 0.4046 - val_precision: 0.2560 - val_recall: 0.9641\n",
      "Epoch 7/10\n",
      "329/329 [==============================] - 325s 987ms/step - loss: 0.7093 - accuracy: 0.7654 - f1_score: 0.4108 - precision: 0.2604 - recall: 0.9731 - val_loss: 0.7933 - val_accuracy: 0.7269 - val_f1_score: 0.4066 - val_precision: 0.2575 - val_recall: 0.9654\n",
      "Epoch 8/10\n",
      "329/329 [==============================] - 323s 983ms/step - loss: 0.6919 - accuracy: 0.7711 - f1_score: 0.4102 - precision: 0.2599 - recall: 0.9741 - val_loss: 0.7777 - val_accuracy: 0.7374 - val_f1_score: 0.4075 - val_precision: 0.2582 - val_recall: 0.9674\n",
      "Epoch 9/10\n",
      "329/329 [==============================] - 323s 983ms/step - loss: 0.6776 - accuracy: 0.7772 - f1_score: 0.4100 - precision: 0.2596 - recall: 0.9755 - val_loss: 0.7669 - val_accuracy: 0.7394 - val_f1_score: 0.4086 - val_precision: 0.2588 - val_recall: 0.9704\n",
      "Epoch 10/10\n",
      "329/329 [==============================] - 323s 981ms/step - loss: 0.6659 - accuracy: 0.7806 - f1_score: 0.4099 - precision: 0.2595 - recall: 0.9765 - val_loss: 0.7589 - val_accuracy: 0.7394 - val_f1_score: 0.4082 - val_precision: 0.2584 - val_recall: 0.9724\n"
     ]
    }
   ],
   "source": [
    "model_densenet169 = tf.keras.applications.densenet.DenseNet169(input_shape=input_shape+(3,), include_top=False, \n",
    "                                                               weights='imagenet')\n",
    "model_densenet169.trainable = False\n",
    "\n",
    "densenet169 = keras.Sequential([\n",
    "    model_densenet169,\n",
    "    keras.layers.GlobalAveragePooling2D(),\n",
    "    keras.layers.Dense(len(labels))                  \n",
    "])\n",
    "\n",
    "densenet169.compile(optimizer=tf.keras.optimizers.legacy.SGD(learning_rate=1e-2, momentum=0.9, decay=1e-2/epoch),\n",
    "              loss=keras.losses.CategoricalCrossentropy(from_logits=True),\n",
    "              metrics=['accuracy', f1_score, precision, recall])\n",
    "\n",
    "history_densenet169 = densenet169.fit(train_batches,\n",
    "                    epochs=epoch,\n",
    "                    validation_data=val_batches, \n",
    "                    verbose=1,\n",
    "                    shuffle=True)"
   ]
  },
  {
   "cell_type": "code",
   "execution_count": 20,
   "metadata": {},
   "outputs": [
    {
     "name": "stdout",
     "output_type": "stream",
     "text": [
      "Epoch 10/25\n",
      "329/329 [==============================] - 1339s 4s/step - loss: 1.2621 - accuracy: 0.6544 - f1_score: 0.3864 - precision: 0.2441 - recall: 0.9321 - val_loss: 222833.6250 - val_accuracy: 0.1040 - val_f1_score: 0.1735 - val_precision: 0.1012 - val_recall: 0.6073\n",
      "Epoch 11/25\n",
      "329/329 [==============================] - 1531s 5s/step - loss: 0.7691 - accuracy: 0.7851 - f1_score: 0.3922 - precision: 0.2449 - recall: 0.9852 - val_loss: 0.9553 - val_accuracy: 0.7017 - val_f1_score: 0.3875 - val_precision: 0.2411 - val_recall: 0.9864\n",
      "Epoch 12/25\n",
      "329/329 [==============================] - 1491s 5s/step - loss: 0.3748 - accuracy: 0.8824 - f1_score: 0.4018 - precision: 0.2517 - recall: 0.9967 - val_loss: 0.9323 - val_accuracy: 0.8397 - val_f1_score: 0.3950 - val_precision: 0.2465 - val_recall: 0.9937\n",
      "Epoch 13/25\n",
      "329/329 [==============================] - 1526s 5s/step - loss: 0.2156 - accuracy: 0.9305 - f1_score: 0.4012 - precision: 0.2511 - recall: 0.9990 - val_loss: 0.1926 - val_accuracy: 0.9347 - val_f1_score: 0.4056 - val_precision: 0.2545 - val_recall: 0.9993\n",
      "Epoch 14/25\n",
      "329/329 [==============================] - 1524s 5s/step - loss: 0.1378 - accuracy: 0.9522 - f1_score: 0.4043 - precision: 0.2534 - recall: 0.9997 - val_loss: 0.1523 - val_accuracy: 0.9495 - val_f1_score: 0.4085 - val_precision: 0.2567 - val_recall: 0.9997\n",
      "Epoch 15/25\n",
      "329/329 [==============================] - 1525s 5s/step - loss: 0.0870 - accuracy: 0.9696 - f1_score: 0.4056 - precision: 0.2544 - recall: 0.9999 - val_loss: 0.1396 - val_accuracy: 0.9515 - val_f1_score: 0.4072 - val_precision: 0.2557 - val_recall: 0.9997\n",
      "Epoch 16/25\n",
      "329/329 [==============================] - 1527s 5s/step - loss: 0.0554 - accuracy: 0.9818 - f1_score: 0.4061 - precision: 0.2548 - recall: 1.0000 - val_loss: 0.1422 - val_accuracy: 0.9529 - val_f1_score: 0.4091 - val_precision: 0.2572 - val_recall: 0.9997\n",
      "Epoch 17/25\n",
      "329/329 [==============================] - 1513s 5s/step - loss: 0.0375 - accuracy: 0.9882 - f1_score: 0.4059 - precision: 0.2547 - recall: 1.0000 - val_loss: 0.1450 - val_accuracy: 0.9512 - val_f1_score: 0.4091 - val_precision: 0.2572 - val_recall: 0.9997\n",
      "Epoch 18/25\n",
      "329/329 [==============================] - 1506s 5s/step - loss: 0.0247 - accuracy: 0.9927 - f1_score: 0.4043 - precision: 0.2534 - recall: 1.0000 - val_loss: 0.1153 - val_accuracy: 0.9620 - val_f1_score: 0.4056 - val_precision: 0.2544 - val_recall: 0.9997\n",
      "Epoch 19/25\n",
      "329/329 [==============================] - 1493s 5s/step - loss: 0.0156 - accuracy: 0.9955 - f1_score: 0.4039 - precision: 0.2531 - recall: 1.0000 - val_loss: 0.1185 - val_accuracy: 0.9653 - val_f1_score: 0.4046 - val_precision: 0.2537 - val_recall: 0.9997\n",
      "Epoch 20/25\n",
      "329/329 [==============================] - 1495s 5s/step - loss: 0.0105 - accuracy: 0.9970 - f1_score: 0.4031 - precision: 0.2525 - recall: 1.0000 - val_loss: 0.1280 - val_accuracy: 0.9646 - val_f1_score: 0.4068 - val_precision: 0.2554 - val_recall: 0.9997\n",
      "Epoch 21/25\n",
      "329/329 [==============================] - 1486s 5s/step - loss: 0.0061 - accuracy: 0.9984 - f1_score: 0.4017 - precision: 0.2513 - recall: 1.0000 - val_loss: 0.1379 - val_accuracy: 0.9646 - val_f1_score: 0.4033 - val_precision: 0.2526 - val_recall: 0.9997\n",
      "Epoch 22/25\n",
      "329/329 [==============================] - 1486s 5s/step - loss: 0.0060 - accuracy: 0.9986 - f1_score: 0.4027 - precision: 0.2522 - recall: 1.0000 - val_loss: 0.1356 - val_accuracy: 0.9680 - val_f1_score: 0.4042 - val_precision: 0.2534 - val_recall: 0.9997\n",
      "Epoch 23/25\n",
      "329/329 [==============================] - 1488s 5s/step - loss: 0.0034 - accuracy: 0.9990 - f1_score: 0.4013 - precision: 0.2511 - recall: 1.0000 - val_loss: 0.1265 - val_accuracy: 0.9684 - val_f1_score: 0.4021 - val_precision: 0.2517 - val_recall: 0.9997\n",
      "Epoch 24/25\n",
      "329/329 [==============================] - 1480s 4s/step - loss: 0.0014 - accuracy: 0.9999 - f1_score: 0.4009 - precision: 0.2507 - recall: 1.0000 - val_loss: 0.1217 - val_accuracy: 0.9697 - val_f1_score: 0.4047 - val_precision: 0.2538 - val_recall: 0.9997\n",
      "Epoch 25/25\n",
      "329/329 [==============================] - 1478s 4s/step - loss: 9.9314e-04 - accuracy: 0.9998 - f1_score: 0.4012 - precision: 0.2510 - recall: 1.0000 - val_loss: 0.1183 - val_accuracy: 0.9721 - val_f1_score: 0.4048 - val_precision: 0.2539 - val_recall: 0.9997\n"
     ]
    }
   ],
   "source": [
    "model_densenet169.trainable = True\n",
    "fine_tune_at = int(len(model_densenet169.layers)*0.7)\n",
    "for layer in model_densenet169.layers[:fine_tune_at]:\n",
    "    layer.trainble = False\n",
    "    \n",
    "densenet169.compile(optimizer=keras.optimizers.SGD(learning_rate=1e-2, momentum=0.9, decay=1e-2/fine_tune_epochs),\n",
    "              loss=keras.losses.CategoricalCrossentropy(from_logits=True),\n",
    "              metrics=['accuracy', f1_score, precision, recall])\n",
    "\n",
    "history_densenet169_fine = densenet169.fit(train_batches,\n",
    "                    epochs=total_epochs,\n",
    "                    initial_epoch=history_densenet169.epoch[-1],\n",
    "                    validation_data=val_batches,\n",
    "                    verbose=1,\n",
    "                    shuffle=True)"
   ]
  },
  {
   "cell_type": "code",
   "execution_count": 21,
   "metadata": {},
   "outputs": [
    {
     "name": "stdout",
     "output_type": "stream",
     "text": [
      "95/95 - 107s - 107s/epoch - 1s/step\n"
     ]
    },
    {
     "data": {
      "text/plain": [
       "(0.9733001658374792,\n",
       " 0.9732944548117296,\n",
       " 0.9733001658374792,\n",
       " 0.9732878687409516)"
      ]
     },
     "execution_count": 21,
     "metadata": {},
     "output_type": "execute_result"
    }
   ],
   "source": [
    "metric_calc(densenet169)"
   ]
  },
  {
   "cell_type": "code",
   "execution_count": 22,
   "metadata": {},
   "outputs": [
    {
     "name": "stdout",
     "output_type": "stream",
     "text": [
      "95/95 - 99s - loss: 0.1249 - accuracy: 0.9733 - f1_score: 0.4019 - precision: 0.2515 - recall: 0.9998 - 99s/epoch - 1s/step\n"
     ]
    }
   ],
   "source": [
    "test_loss, test_acc, test_f1, test_prec, test_rec = densenet169.evaluate(test_batches, verbose=2)"
   ]
  },
  {
   "cell_type": "code",
   "execution_count": 23,
   "metadata": {},
   "outputs": [
    {
     "name": "stderr",
     "output_type": "stream",
     "text": [
      "WARNING:absl:Found untraced functions such as _jit_compiled_convolution_op, _jit_compiled_convolution_op, _jit_compiled_convolution_op, _jit_compiled_convolution_op, _jit_compiled_convolution_op while saving (showing 5 of 168). These functions will not be directly callable after loading.\n"
     ]
    },
    {
     "name": "stdout",
     "output_type": "stream",
     "text": [
      "INFO:tensorflow:Assets written to: models/densenet169_weights\\assets\n"
     ]
    },
    {
     "name": "stderr",
     "output_type": "stream",
     "text": [
      "INFO:tensorflow:Assets written to: models/densenet169_weights\\assets\n"
     ]
    }
   ],
   "source": [
    "densenet169.save(\"models/densenet169_weights\")"
   ]
  },
  {
   "cell_type": "markdown",
   "metadata": {},
   "source": [
    "# DenseNet201"
   ]
  },
  {
   "cell_type": "code",
   "execution_count": 24,
   "metadata": {},
   "outputs": [
    {
     "name": "stdout",
     "output_type": "stream",
     "text": [
      "Epoch 1/10\n",
      "329/329 [==============================] - 382s 1s/step - loss: 1.2442 - accuracy: 0.5761 - f1_score: 0.3697 - precision: 0.2334 - recall: 0.8916 - val_loss: 0.9608 - val_accuracy: 0.6825 - val_f1_score: 0.3933 - val_precision: 0.2479 - val_recall: 0.9525\n",
      "Epoch 2/10\n",
      "329/329 [==============================] - 369s 1s/step - loss: 0.8563 - accuracy: 0.7107 - f1_score: 0.3923 - precision: 0.2463 - recall: 0.9654 - val_loss: 0.8324 - val_accuracy: 0.7253 - val_f1_score: 0.3913 - val_precision: 0.2452 - val_recall: 0.9684\n",
      "Epoch 3/10\n",
      "329/329 [==============================] - 368s 1s/step - loss: 0.7599 - accuracy: 0.7432 - f1_score: 0.3938 - precision: 0.2468 - recall: 0.9748 - val_loss: 0.7705 - val_accuracy: 0.7475 - val_f1_score: 0.3904 - val_precision: 0.2442 - val_recall: 0.9734\n",
      "Epoch 4/10\n",
      "329/329 [==============================] - 368s 1s/step - loss: 0.7053 - accuracy: 0.7615 - f1_score: 0.3933 - precision: 0.2462 - recall: 0.9779 - val_loss: 0.7495 - val_accuracy: 0.7505 - val_f1_score: 0.3900 - val_precision: 0.2437 - val_recall: 0.9767\n",
      "Epoch 5/10\n",
      "329/329 [==============================] - 368s 1s/step - loss: 0.6726 - accuracy: 0.7747 - f1_score: 0.3939 - precision: 0.2465 - recall: 0.9806 - val_loss: 0.7177 - val_accuracy: 0.7657 - val_f1_score: 0.3902 - val_precision: 0.2437 - val_recall: 0.9781\n",
      "Epoch 6/10\n",
      "329/329 [==============================] - 368s 1s/step - loss: 0.6496 - accuracy: 0.7829 - f1_score: 0.3934 - precision: 0.2460 - recall: 0.9823 - val_loss: 0.7018 - val_accuracy: 0.7667 - val_f1_score: 0.3906 - val_precision: 0.2440 - val_recall: 0.9791\n",
      "Epoch 7/10\n",
      "329/329 [==============================] - 368s 1s/step - loss: 0.6314 - accuracy: 0.7880 - f1_score: 0.3926 - precision: 0.2453 - recall: 0.9836 - val_loss: 0.6931 - val_accuracy: 0.7667 - val_f1_score: 0.3899 - val_precision: 0.2434 - val_recall: 0.9797\n",
      "Epoch 8/10\n",
      "329/329 [==============================] - 368s 1s/step - loss: 0.6160 - accuracy: 0.7948 - f1_score: 0.3927 - precision: 0.2453 - recall: 0.9849 - val_loss: 0.6839 - val_accuracy: 0.7717 - val_f1_score: 0.3890 - val_precision: 0.2427 - val_recall: 0.9797\n",
      "Epoch 9/10\n",
      "329/329 [==============================] - 492s 1s/step - loss: 0.6027 - accuracy: 0.7987 - f1_score: 0.3927 - precision: 0.2452 - recall: 0.9858 - val_loss: 0.6742 - val_accuracy: 0.7737 - val_f1_score: 0.3881 - val_precision: 0.2419 - val_recall: 0.9807\n",
      "Epoch 10/10\n",
      "329/329 [==============================] - 565s 2s/step - loss: 0.5914 - accuracy: 0.8031 - f1_score: 0.3926 - precision: 0.2451 - recall: 0.9864 - val_loss: 0.6645 - val_accuracy: 0.7785 - val_f1_score: 0.3887 - val_precision: 0.2423 - val_recall: 0.9817\n"
     ]
    }
   ],
   "source": [
    "model_densenet201 = tf.keras.applications.densenet.DenseNet201(input_shape=input_shape+(3,), include_top=False, \n",
    "                                                               weights='imagenet')\n",
    "model_densenet201.trainable = False\n",
    "\n",
    "densenet201 = keras.Sequential([\n",
    "    model_densenet201,\n",
    "    keras.layers.GlobalAveragePooling2D(),\n",
    "    keras.layers.Dense(len(labels))                  \n",
    "])\n",
    "\n",
    "densenet201.compile(optimizer=tf.keras.optimizers.legacy.SGD(learning_rate=1e-2, momentum=0.9, decay=1e-2/epoch),\n",
    "              loss=keras.losses.CategoricalCrossentropy(from_logits=True),\n",
    "              metrics=['accuracy', f1_score, precision, recall])\n",
    "\n",
    "history_densenet201 = densenet201.fit(train_batches,\n",
    "                    epochs=epoch,\n",
    "                    validation_data=val_batches,                                     \n",
    "                    verbose=1,\n",
    "                    shuffle=True)"
   ]
  },
  {
   "cell_type": "code",
   "execution_count": 25,
   "metadata": {},
   "outputs": [
    {
     "name": "stdout",
     "output_type": "stream",
     "text": [
      "Epoch 10/25\n",
      "329/329 [==============================] - 1865s 6s/step - loss: 0.6988 - accuracy: 0.7940 - f1_score: 0.3836 - precision: 0.2387 - recall: 0.9781 - val_loss: 0.8185 - val_accuracy: 0.7623 - val_f1_score: 0.3607 - val_precision: 0.2205 - val_recall: 0.9917\n",
      "Epoch 11/25\n",
      "329/329 [==============================] - 1824s 6s/step - loss: 0.1823 - accuracy: 0.9366 - f1_score: 0.4108 - precision: 0.2586 - recall: 0.9991 - val_loss: 0.2034 - val_accuracy: 0.9313 - val_f1_score: 0.4093 - val_precision: 0.2574 - val_recall: 0.9993\n",
      "Epoch 12/25\n",
      "329/329 [==============================] - 2060s 6s/step - loss: 0.0925 - accuracy: 0.9677 - f1_score: 0.4096 - precision: 0.2576 - recall: 0.9998 - val_loss: 0.1537 - val_accuracy: 0.9495 - val_f1_score: 0.4092 - val_precision: 0.2573 - val_recall: 0.9993\n",
      "Epoch 13/25\n",
      "329/329 [==============================] - 1525s 5s/step - loss: 0.0513 - accuracy: 0.9830 - f1_score: 0.4118 - precision: 0.2594 - recall: 1.0000 - val_loss: 0.1680 - val_accuracy: 0.9512 - val_f1_score: 0.4152 - val_precision: 0.2621 - val_recall: 0.9990\n",
      "Epoch 14/25\n",
      "329/329 [==============================] - 1527s 5s/step - loss: 0.0457 - accuracy: 0.9864 - f1_score: 0.4120 - precision: 0.2595 - recall: 0.9999 - val_loss: 1.2728 - val_accuracy: 0.8872 - val_f1_score: 0.4111 - val_precision: 0.2590 - val_recall: 0.9973\n",
      "Epoch 15/25\n",
      "329/329 [==============================] - 1529s 5s/step - loss: 0.0438 - accuracy: 0.9853 - f1_score: 0.4119 - precision: 0.2594 - recall: 1.0000 - val_loss: 0.1095 - val_accuracy: 0.9650 - val_f1_score: 0.4118 - val_precision: 0.2593 - val_recall: 1.0000\n",
      "Epoch 16/25\n",
      "329/329 [==============================] - 1524s 5s/step - loss: 0.0187 - accuracy: 0.9937 - f1_score: 0.4116 - precision: 0.2592 - recall: 1.0000 - val_loss: 0.1090 - val_accuracy: 0.9673 - val_f1_score: 0.4123 - val_precision: 0.2597 - val_recall: 0.9993\n",
      "Epoch 17/25\n",
      "329/329 [==============================] - 2056s 6s/step - loss: 0.0086 - accuracy: 0.9979 - f1_score: 0.4132 - precision: 0.2604 - recall: 1.0000 - val_loss: 0.0859 - val_accuracy: 0.9754 - val_f1_score: 0.4154 - val_precision: 0.2622 - val_recall: 1.0000\n",
      "Epoch 18/25\n",
      "329/329 [==============================] - 2100s 6s/step - loss: 0.0061 - accuracy: 0.9984 - f1_score: 0.4140 - precision: 0.2611 - recall: 1.0000 - val_loss: 0.0724 - val_accuracy: 0.9808 - val_f1_score: 0.4158 - val_precision: 0.2625 - val_recall: 0.9997\n",
      "Epoch 19/25\n",
      "329/329 [==============================] - 2066s 6s/step - loss: 0.0031 - accuracy: 0.9995 - f1_score: 0.4142 - precision: 0.2613 - recall: 1.0000 - val_loss: 0.0790 - val_accuracy: 0.9801 - val_f1_score: 0.4166 - val_precision: 0.2632 - val_recall: 1.0000\n",
      "Epoch 20/25\n",
      "329/329 [==============================] - 1517s 5s/step - loss: 9.2329e-04 - accuracy: 1.0000 - f1_score: 0.4145 - precision: 0.2615 - recall: 1.0000 - val_loss: 0.0696 - val_accuracy: 0.9832 - val_f1_score: 0.4162 - val_precision: 0.2628 - val_recall: 1.0000\n",
      "Epoch 21/25\n",
      "329/329 [==============================] - 1513s 5s/step - loss: 5.8525e-04 - accuracy: 1.0000 - f1_score: 0.4142 - precision: 0.2613 - recall: 1.0000 - val_loss: 0.0702 - val_accuracy: 0.9822 - val_f1_score: 0.4171 - val_precision: 0.2636 - val_recall: 1.0000\n",
      "Epoch 22/25\n",
      "329/329 [==============================] - 1524s 5s/step - loss: 4.5884e-04 - accuracy: 1.0000 - f1_score: 0.4141 - precision: 0.2612 - recall: 1.0000 - val_loss: 0.0702 - val_accuracy: 0.9825 - val_f1_score: 0.4167 - val_precision: 0.2632 - val_recall: 1.0000\n",
      "Epoch 23/25\n",
      "329/329 [==============================] - 2061s 6s/step - loss: 3.9066e-04 - accuracy: 1.0000 - f1_score: 0.4141 - precision: 0.2611 - recall: 1.0000 - val_loss: 0.0703 - val_accuracy: 0.9825 - val_f1_score: 0.4169 - val_precision: 0.2634 - val_recall: 1.0000\n",
      "Epoch 24/25\n",
      "329/329 [==============================] - 2079s 6s/step - loss: 3.4441e-04 - accuracy: 1.0000 - f1_score: 0.4140 - precision: 0.2610 - recall: 1.0000 - val_loss: 0.0706 - val_accuracy: 0.9828 - val_f1_score: 0.4168 - val_precision: 0.2633 - val_recall: 1.0000\n",
      "Epoch 25/25\n",
      "329/329 [==============================] - 2070s 6s/step - loss: 3.1022e-04 - accuracy: 1.0000 - f1_score: 0.4139 - precision: 0.2610 - recall: 1.0000 - val_loss: 0.0708 - val_accuracy: 0.9822 - val_f1_score: 0.4166 - val_precision: 0.2632 - val_recall: 1.0000\n"
     ]
    }
   ],
   "source": [
    "model_densenet201.trainable = True\n",
    "fine_tune_at = int(len(model_densenet201.layers)*0.7)\n",
    "for layer in model_densenet201.layers[:fine_tune_at]:\n",
    "    layer.trainble = False\n",
    "    \n",
    "densenet201.compile(optimizer=keras.optimizers.SGD(learning_rate=1e-2, momentum=0.9, decay=1e-2/fine_tune_epochs),\n",
    "              loss=keras.losses.CategoricalCrossentropy(from_logits=True),\n",
    "              metrics=['accuracy', f1_score, precision, recall])\n",
    "\n",
    "history_densenet201_fine = densenet201.fit(train_batches,\n",
    "                    epochs=total_epochs,\n",
    "                    initial_epoch=history_densenet201.epoch[-1],\n",
    "                    validation_data=val_batches, \n",
    "                    verbose=1,\n",
    "                    shuffle=True)"
   ]
  },
  {
   "cell_type": "code",
   "execution_count": 26,
   "metadata": {},
   "outputs": [
    {
     "name": "stdout",
     "output_type": "stream",
     "text": [
      "95/95 - 164s - 164s/epoch - 2s/step\n"
     ]
    },
    {
     "data": {
      "text/plain": [
       "(0.9837479270315092,\n",
       " 0.9837436243558704,\n",
       " 0.9837479270315092,\n",
       " 0.9837319471256245)"
      ]
     },
     "execution_count": 26,
     "metadata": {},
     "output_type": "execute_result"
    }
   ],
   "source": [
    "metric_calc(densenet201)"
   ]
  },
  {
   "cell_type": "code",
   "execution_count": 27,
   "metadata": {},
   "outputs": [
    {
     "name": "stdout",
     "output_type": "stream",
     "text": [
      "95/95 - 155s - loss: 0.0667 - accuracy: 0.9837 - f1_score: 0.4172 - precision: 0.2637 - recall: 0.9997 - 155s/epoch - 2s/step\n"
     ]
    }
   ],
   "source": [
    "test_loss, test_acc, test_f1, test_prec, test_rec = densenet201.evaluate(test_batches, verbose=2)"
   ]
  },
  {
   "cell_type": "code",
   "execution_count": 28,
   "metadata": {},
   "outputs": [
    {
     "name": "stderr",
     "output_type": "stream",
     "text": [
      "WARNING:absl:Found untraced functions such as _jit_compiled_convolution_op, _jit_compiled_convolution_op, _jit_compiled_convolution_op, _jit_compiled_convolution_op, _jit_compiled_convolution_op while saving (showing 5 of 200). These functions will not be directly callable after loading.\n"
     ]
    },
    {
     "name": "stdout",
     "output_type": "stream",
     "text": [
      "INFO:tensorflow:Assets written to: models/densenet201_weights\\assets\n"
     ]
    },
    {
     "name": "stderr",
     "output_type": "stream",
     "text": [
      "INFO:tensorflow:Assets written to: models/densenet201_weights\\assets\n"
     ]
    }
   ],
   "source": [
    "densenet201.save(\"models/densenet201_weights\")"
   ]
  },
  {
   "cell_type": "markdown",
   "metadata": {},
   "source": [
    "# MobileNet"
   ]
  },
  {
   "cell_type": "code",
   "execution_count": 29,
   "metadata": {},
   "outputs": [
    {
     "name": "stdout",
     "output_type": "stream",
     "text": [
      "WARNING:tensorflow:`input_shape` is undefined or non-square, or `rows` is not in [128, 160, 192, 224]. Weights for input shape (224, 224) will be loaded as the default.\n"
     ]
    },
    {
     "name": "stderr",
     "output_type": "stream",
     "text": [
      "WARNING:tensorflow:`input_shape` is undefined or non-square, or `rows` is not in [128, 160, 192, 224]. Weights for input shape (224, 224) will be loaded as the default.\n"
     ]
    },
    {
     "name": "stdout",
     "output_type": "stream",
     "text": [
      "Epoch 1/10\n",
      "329/329 [==============================] - 68s 202ms/step - loss: 1.5784 - accuracy: 0.4619 - f1_score: 0.3500 - precision: 0.2269 - recall: 0.7794 - val_loss: 1.3567 - val_accuracy: 0.5438 - val_f1_score: 0.3709 - val_precision: 0.2349 - val_recall: 0.8825\n",
      "Epoch 2/10\n",
      "329/329 [==============================] - 62s 187ms/step - loss: 1.2782 - accuracy: 0.5725 - f1_score: 0.3794 - precision: 0.2403 - recall: 0.9016 - val_loss: 1.2385 - val_accuracy: 0.5865 - val_f1_score: 0.3767 - val_precision: 0.2378 - val_recall: 0.9074\n",
      "Epoch 3/10\n",
      "329/329 [==============================] - 92s 280ms/step - loss: 1.1925 - accuracy: 0.6035 - f1_score: 0.3818 - precision: 0.2410 - recall: 0.9193 - val_loss: 1.1829 - val_accuracy: 0.6084 - val_f1_score: 0.3792 - val_precision: 0.2391 - val_recall: 0.9161\n",
      "Epoch 4/10\n",
      "329/329 [==============================] - 89s 272ms/step - loss: 1.1448 - accuracy: 0.6220 - f1_score: 0.3826 - precision: 0.2411 - recall: 0.9277 - val_loss: 1.1524 - val_accuracy: 0.6148 - val_f1_score: 0.3792 - val_precision: 0.2389 - val_recall: 0.9194\n",
      "Epoch 5/10\n",
      "329/329 [==============================] - 90s 272ms/step - loss: 1.1134 - accuracy: 0.6338 - f1_score: 0.3825 - precision: 0.2406 - recall: 0.9329 - val_loss: 1.1330 - val_accuracy: 0.6205 - val_f1_score: 0.3794 - val_precision: 0.2388 - val_recall: 0.9231\n",
      "Epoch 6/10\n",
      "329/329 [==============================] - 90s 272ms/step - loss: 1.0908 - accuracy: 0.6413 - f1_score: 0.3825 - precision: 0.2404 - recall: 0.9365 - val_loss: 1.1191 - val_accuracy: 0.6246 - val_f1_score: 0.3788 - val_precision: 0.2383 - val_recall: 0.9244\n",
      "Epoch 7/10\n",
      "329/329 [==============================] - 89s 272ms/step - loss: 1.0735 - accuracy: 0.6476 - f1_score: 0.3825 - precision: 0.2402 - recall: 0.9387 - val_loss: 1.1083 - val_accuracy: 0.6293 - val_f1_score: 0.3790 - val_precision: 0.2382 - val_recall: 0.9264\n",
      "Epoch 8/10\n",
      "329/329 [==============================] - 89s 272ms/step - loss: 1.0597 - accuracy: 0.6521 - f1_score: 0.3822 - precision: 0.2399 - recall: 0.9406 - val_loss: 1.0993 - val_accuracy: 0.6327 - val_f1_score: 0.3786 - val_precision: 0.2379 - val_recall: 0.9284\n",
      "Epoch 9/10\n",
      "329/329 [==============================] - 90s 272ms/step - loss: 1.0483 - accuracy: 0.6560 - f1_score: 0.3821 - precision: 0.2397 - recall: 0.9424 - val_loss: 1.0915 - val_accuracy: 0.6370 - val_f1_score: 0.3782 - val_precision: 0.2375 - val_recall: 0.9295\n",
      "Epoch 10/10\n",
      "329/329 [==============================] - 90s 273ms/step - loss: 1.0387 - accuracy: 0.6597 - f1_score: 0.3821 - precision: 0.2396 - recall: 0.9438 - val_loss: 1.0846 - val_accuracy: 0.6391 - val_f1_score: 0.3785 - val_precision: 0.2375 - val_recall: 0.9315\n"
     ]
    }
   ],
   "source": [
    "model_mobilenet = tf.keras.applications.mobilenet.MobileNet(input_shape=input_shape+(3,), include_top=False, \n",
    "                                               weights='imagenet')\n",
    "model_mobilenet.trainable = False\n",
    "\n",
    "mobilenet = keras.Sequential([\n",
    "    model_mobilenet,\n",
    "    keras.layers.GlobalAveragePooling2D(),\n",
    "    keras.layers.Dense(len(labels))                  \n",
    "])\n",
    "\n",
    "mobilenet.compile(optimizer=tf.keras.optimizers.legacy.SGD(learning_rate=1e-2, momentum=0.9, decay=1e-2/epoch),\n",
    "              loss=keras.losses.CategoricalCrossentropy(from_logits=True),\n",
    "              metrics=['accuracy', f1_score, precision, recall])\n",
    "\n",
    "history_mobilenet = mobilenet.fit(train_batches,\n",
    "                    epochs=epoch,\n",
    "                    validation_data=val_batches, \n",
    "                    verbose=1,\n",
    "                    shuffle=True)"
   ]
  },
  {
   "cell_type": "code",
   "execution_count": 30,
   "metadata": {},
   "outputs": [
    {
     "name": "stdout",
     "output_type": "stream",
     "text": [
      "Epoch 10/25\n",
      "329/329 [==============================] - 454s 1s/step - loss: 0.7606 - accuracy: 0.8023 - f1_score: 0.3773 - precision: 0.2338 - recall: 0.9797 - val_loss: 0.2846 - val_accuracy: 0.8983 - val_f1_score: 0.4072 - val_precision: 0.2559 - val_recall: 0.9977\n",
      "Epoch 11/25\n",
      "329/329 [==============================] - 443s 1s/step - loss: 0.1413 - accuracy: 0.9501 - f1_score: 0.4034 - precision: 0.2528 - recall: 0.9987 - val_loss: 0.1939 - val_accuracy: 0.9350 - val_f1_score: 0.4051 - val_precision: 0.2541 - val_recall: 0.9990\n",
      "Epoch 12/25\n",
      "329/329 [==============================] - 443s 1s/step - loss: 0.0553 - accuracy: 0.9820 - f1_score: 0.4073 - precision: 0.2558 - recall: 0.9999 - val_loss: 0.1077 - val_accuracy: 0.9653 - val_f1_score: 0.4097 - val_precision: 0.2577 - val_recall: 0.9997\n",
      "Epoch 13/25\n",
      "329/329 [==============================] - 443s 1s/step - loss: 0.0223 - accuracy: 0.9933 - f1_score: 0.4086 - precision: 0.2568 - recall: 1.0000 - val_loss: 0.1068 - val_accuracy: 0.9667 - val_f1_score: 0.4114 - val_precision: 0.2591 - val_recall: 0.9997\n",
      "Epoch 14/25\n",
      "329/329 [==============================] - 444s 1s/step - loss: 0.0092 - accuracy: 0.9981 - f1_score: 0.4084 - precision: 0.2566 - recall: 1.0000 - val_loss: 0.0883 - val_accuracy: 0.9737 - val_f1_score: 0.4122 - val_precision: 0.2597 - val_recall: 0.9997\n",
      "Epoch 15/25\n",
      "329/329 [==============================] - 443s 1s/step - loss: 0.0040 - accuracy: 0.9996 - f1_score: 0.4081 - precision: 0.2564 - recall: 1.0000 - val_loss: 0.0898 - val_accuracy: 0.9721 - val_f1_score: 0.4117 - val_precision: 0.2593 - val_recall: 0.9997\n",
      "Epoch 16/25\n",
      "329/329 [==============================] - 444s 1s/step - loss: 0.0021 - accuracy: 0.9999 - f1_score: 0.4080 - precision: 0.2563 - recall: 1.0000 - val_loss: 0.0870 - val_accuracy: 0.9754 - val_f1_score: 0.4114 - val_precision: 0.2590 - val_recall: 0.9997\n",
      "Epoch 17/25\n",
      "329/329 [==============================] - 443s 1s/step - loss: 0.0013 - accuracy: 1.0000 - f1_score: 0.4084 - precision: 0.2566 - recall: 1.0000 - val_loss: 0.0867 - val_accuracy: 0.9754 - val_f1_score: 0.4116 - val_precision: 0.2592 - val_recall: 0.9997\n",
      "Epoch 18/25\n",
      "329/329 [==============================] - 443s 1s/step - loss: 0.0010 - accuracy: 1.0000 - f1_score: 0.4085 - precision: 0.2567 - recall: 1.0000 - val_loss: 0.0871 - val_accuracy: 0.9761 - val_f1_score: 0.4116 - val_precision: 0.2592 - val_recall: 0.9997\n",
      "Epoch 19/25\n",
      "329/329 [==============================] - 443s 1s/step - loss: 8.4970e-04 - accuracy: 1.0000 - f1_score: 0.4087 - precision: 0.2569 - recall: 1.0000 - val_loss: 0.0874 - val_accuracy: 0.9768 - val_f1_score: 0.4115 - val_precision: 0.2592 - val_recall: 0.9997\n",
      "Epoch 20/25\n",
      "329/329 [==============================] - 443s 1s/step - loss: 7.4297e-04 - accuracy: 1.0000 - f1_score: 0.4088 - precision: 0.2570 - recall: 1.0000 - val_loss: 0.0878 - val_accuracy: 0.9771 - val_f1_score: 0.4120 - val_precision: 0.2596 - val_recall: 0.9997\n",
      "Epoch 21/25\n",
      "329/329 [==============================] - 442s 1s/step - loss: 6.6536e-04 - accuracy: 1.0000 - f1_score: 0.4090 - precision: 0.2571 - recall: 1.0000 - val_loss: 0.0882 - val_accuracy: 0.9774 - val_f1_score: 0.4123 - val_precision: 0.2598 - val_recall: 0.9997\n",
      "Epoch 22/25\n",
      "329/329 [==============================] - 443s 1s/step - loss: 6.0491e-04 - accuracy: 1.0000 - f1_score: 0.4092 - precision: 0.2573 - recall: 1.0000 - val_loss: 0.0885 - val_accuracy: 0.9778 - val_f1_score: 0.4124 - val_precision: 0.2598 - val_recall: 0.9997\n",
      "Epoch 23/25\n",
      "329/329 [==============================] - 444s 1s/step - loss: 5.5757e-04 - accuracy: 1.0000 - f1_score: 0.4092 - precision: 0.2573 - recall: 1.0000 - val_loss: 0.0888 - val_accuracy: 0.9781 - val_f1_score: 0.4124 - val_precision: 0.2598 - val_recall: 0.9997\n",
      "Epoch 24/25\n",
      "329/329 [==============================] - 443s 1s/step - loss: 5.1894e-04 - accuracy: 1.0000 - f1_score: 0.4093 - precision: 0.2574 - recall: 1.0000 - val_loss: 0.0891 - val_accuracy: 0.9781 - val_f1_score: 0.4126 - val_precision: 0.2600 - val_recall: 0.9997\n",
      "Epoch 25/25\n",
      "329/329 [==============================] - 443s 1s/step - loss: 4.8718e-04 - accuracy: 1.0000 - f1_score: 0.4094 - precision: 0.2574 - recall: 1.0000 - val_loss: 0.0894 - val_accuracy: 0.9785 - val_f1_score: 0.4128 - val_precision: 0.2601 - val_recall: 0.9997\n"
     ]
    }
   ],
   "source": [
    "model_mobilenet.trainable = True\n",
    "fine_tune_at = int(len(model_mobilenet.layers)*0.7)\n",
    "for layer in model_mobilenet.layers[:fine_tune_at]:\n",
    "    layer.trainble = False\n",
    "    \n",
    "mobilenet.compile(optimizer=keras.optimizers.SGD(learning_rate=1e-2, momentum=0.9, decay=1e-2/fine_tune_epochs),\n",
    "              loss=keras.losses.CategoricalCrossentropy(from_logits=True),\n",
    "              metrics=['accuracy', f1_score, precision, recall])\n",
    "\n",
    "history_mobilenet_fine = mobilenet.fit(train_batches,\n",
    "                    epochs=total_epochs,\n",
    "                    initial_epoch=history_mobilenet.epoch[-1],\n",
    "                    validation_data=val_batches,\n",
    "                    verbose=1,\n",
    "                    shuffle=True)"
   ]
  },
  {
   "cell_type": "code",
   "execution_count": 31,
   "metadata": {},
   "outputs": [
    {
     "name": "stdout",
     "output_type": "stream",
     "text": [
      "95/95 - 23s - 23s/epoch - 247ms/step\n"
     ]
    },
    {
     "data": {
      "text/plain": [
       "(0.9772802653399668, 0.977389287279158, 0.9772802653399668, 0.9772595963702106)"
      ]
     },
     "execution_count": 31,
     "metadata": {},
     "output_type": "execute_result"
    }
   ],
   "source": [
    "metric_calc(mobilenet)"
   ]
  },
  {
   "cell_type": "code",
   "execution_count": 32,
   "metadata": {},
   "outputs": [
    {
     "name": "stdout",
     "output_type": "stream",
     "text": [
      "95/95 - 22s - loss: 0.1028 - accuracy: 0.9773 - f1_score: 0.4100 - precision: 0.2579 - recall: 0.9995 - 22s/epoch - 229ms/step\n"
     ]
    }
   ],
   "source": [
    "test_loss, test_acc, test_f1, test_prec, test_rec = mobilenet.evaluate(test_batches, verbose=2)"
   ]
  },
  {
   "cell_type": "code",
   "execution_count": 33,
   "metadata": {},
   "outputs": [
    {
     "name": "stderr",
     "output_type": "stream",
     "text": [
      "WARNING:absl:Function `_wrapped_model` contains input name(s) mobilenet_1.00_224_input with unsupported characters which will be renamed to mobilenet_1_00_224_input in the SavedModel.\n",
      "WARNING:absl:Found untraced functions such as _jit_compiled_convolution_op, _jit_compiled_convolution_op, _jit_compiled_convolution_op, _jit_compiled_convolution_op, _jit_compiled_convolution_op while saving (showing 5 of 27). These functions will not be directly callable after loading.\n"
     ]
    },
    {
     "name": "stdout",
     "output_type": "stream",
     "text": [
      "INFO:tensorflow:Assets written to: models/mobilenet_weights\\assets\n"
     ]
    },
    {
     "name": "stderr",
     "output_type": "stream",
     "text": [
      "INFO:tensorflow:Assets written to: models/mobilenet_weights\\assets\n"
     ]
    }
   ],
   "source": [
    "mobilenet.save(\"models/mobilenet_weights\")"
   ]
  },
  {
   "cell_type": "markdown",
   "metadata": {},
   "source": [
    "# MobileNetV2"
   ]
  },
  {
   "cell_type": "code",
   "execution_count": 12,
   "metadata": {},
   "outputs": [
    {
     "name": "stdout",
     "output_type": "stream",
     "text": [
      "WARNING:tensorflow:`input_shape` is undefined or non-square, or `rows` is not in [96, 128, 160, 192, 224]. Weights for input shape (224, 224) will be loaded as the default.\n",
      "Epoch 1/10\n",
      "329/329 [==============================] - 85s 249ms/step - loss: 1.5312 - accuracy: 0.4722 - f1_score: 0.3249 - precision: 0.2008 - recall: 0.8524 - val_loss: 1.3027 - val_accuracy: 0.5539 - val_f1_score: 0.3468 - val_precision: 0.2133 - val_recall: 0.9274\n",
      "Epoch 2/10\n",
      "329/329 [==============================] - 85s 258ms/step - loss: 1.1871 - accuracy: 0.5984 - f1_score: 0.3498 - precision: 0.2152 - recall: 0.9348 - val_loss: 1.1748 - val_accuracy: 0.5970 - val_f1_score: 0.3527 - val_precision: 0.2168 - val_recall: 0.9450\n",
      "Epoch 3/10\n",
      "329/329 [==============================] - 85s 258ms/step - loss: 1.0919 - accuracy: 0.6339 - f1_score: 0.3541 - precision: 0.2177 - recall: 0.9483 - val_loss: 1.1129 - val_accuracy: 0.6226 - val_f1_score: 0.3547 - val_precision: 0.2181 - val_recall: 0.9503\n",
      "Epoch 4/10\n",
      "329/329 [==============================] - 85s 260ms/step - loss: 1.0379 - accuracy: 0.6529 - f1_score: 0.3557 - precision: 0.2186 - recall: 0.9544 - val_loss: 1.0744 - val_accuracy: 0.6374 - val_f1_score: 0.3564 - val_precision: 0.2192 - val_recall: 0.9536\n",
      "Epoch 5/10\n",
      "329/329 [==============================] - 86s 261ms/step - loss: 1.0007 - accuracy: 0.6671 - f1_score: 0.3567 - precision: 0.2191 - recall: 0.9584 - val_loss: 1.0518 - val_accuracy: 0.6478 - val_f1_score: 0.3555 - val_precision: 0.2186 - val_recall: 0.9520\n",
      "Epoch 6/10\n",
      "329/329 [==============================] - 86s 260ms/step - loss: 0.9733 - accuracy: 0.6782 - f1_score: 0.3577 - precision: 0.2198 - recall: 0.9614 - val_loss: 1.0361 - val_accuracy: 0.6539 - val_f1_score: 0.3555 - val_precision: 0.2186 - val_recall: 0.9513\n",
      "Epoch 7/10\n",
      "329/329 [==============================] - 86s 261ms/step - loss: 0.9519 - accuracy: 0.6854 - f1_score: 0.3587 - precision: 0.2204 - recall: 0.9641 - val_loss: 1.0240 - val_accuracy: 0.6572 - val_f1_score: 0.3557 - val_precision: 0.2188 - val_recall: 0.9520\n",
      "Epoch 8/10\n",
      "329/329 [==============================] - 86s 262ms/step - loss: 0.9345 - accuracy: 0.6912 - f1_score: 0.3590 - precision: 0.2205 - recall: 0.9655 - val_loss: 1.0142 - val_accuracy: 0.6596 - val_f1_score: 0.3549 - val_precision: 0.2181 - val_recall: 0.9523\n",
      "Epoch 9/10\n",
      "329/329 [==============================] - 85s 259ms/step - loss: 0.9202 - accuracy: 0.6968 - f1_score: 0.3593 - precision: 0.2207 - recall: 0.9667 - val_loss: 1.0065 - val_accuracy: 0.6623 - val_f1_score: 0.3555 - val_precision: 0.2185 - val_recall: 0.9533\n",
      "Epoch 10/10\n",
      "329/329 [==============================] - 86s 260ms/step - loss: 0.9081 - accuracy: 0.7018 - f1_score: 0.3592 - precision: 0.2206 - recall: 0.9672 - val_loss: 1.0004 - val_accuracy: 0.6636 - val_f1_score: 0.3557 - val_precision: 0.2187 - val_recall: 0.9540\n"
     ]
    }
   ],
   "source": [
    "model_mobilenetv2 = tf.keras.applications.mobilenet_v2.MobileNetV2(input_shape=input_shape+(3,), include_top=False, \n",
    "                                               weights='imagenet', alpha=1.0)\n",
    "model_mobilenetv2.trainable = False\n",
    "\n",
    "mobilenetv2 = keras.Sequential([\n",
    "    model_mobilenetv2,\n",
    "    keras.layers.GlobalAveragePooling2D(),\n",
    "    keras.layers.Dense(len(labels))                  \n",
    "])\n",
    "\n",
    "mobilenetv2.compile(optimizer=tf.keras.optimizers.legacy.SGD(learning_rate=1e-2, momentum=0.9, decay=1e-2/epoch),\n",
    "              loss=keras.losses.CategoricalCrossentropy(from_logits=True),\n",
    "              metrics=['accuracy', f1_score, precision, recall])\n",
    "\n",
    "history_mobilenetv2 = mobilenetv2.fit(train_batches,\n",
    "                    epochs=epoch,\n",
    "                    validation_data=val_batches, \n",
    "                    verbose=1,\n",
    "                    shuffle=True)"
   ]
  },
  {
   "cell_type": "code",
   "execution_count": 13,
   "metadata": {},
   "outputs": [
    {
     "name": "stdout",
     "output_type": "stream",
     "text": [
      "Epoch 10/25\n",
      "329/329 [==============================] - 329s 972ms/step - loss: 1.1461 - accuracy: 0.6142 - f1_score: 0.3878 - precision: 0.2554 - recall: 0.8407 - val_loss: 7.9879 - val_accuracy: 0.1387 - val_f1_score: 0.1871 - val_precision: 0.1140 - val_recall: 0.5218\n",
      "Epoch 11/25\n",
      "329/329 [==============================] - 327s 995ms/step - loss: 0.2842 - accuracy: 0.9017 - f1_score: 0.4504 - precision: 0.2911 - recall: 0.9965 - val_loss: 5.7285 - val_accuracy: 0.2232 - val_f1_score: 0.2349 - val_precision: 0.1458 - val_recall: 0.6044\n",
      "Epoch 12/25\n",
      "329/329 [==============================] - 328s 998ms/step - loss: 0.1369 - accuracy: 0.9521 - f1_score: 0.4459 - precision: 0.2870 - recall: 0.9994 - val_loss: 5.9491 - val_accuracy: 0.2027 - val_f1_score: 0.2977 - val_precision: 0.1855 - val_recall: 0.7531\n",
      "Epoch 13/25\n",
      "329/329 [==============================] - 327s 995ms/step - loss: 0.0801 - accuracy: 0.9717 - f1_score: 0.4488 - precision: 0.2894 - recall: 0.9999 - val_loss: 4.9517 - val_accuracy: 0.2690 - val_f1_score: 0.3442 - val_precision: 0.2144 - val_recall: 0.8731\n",
      "Epoch 14/25\n",
      "329/329 [==============================] - 327s 995ms/step - loss: 0.0442 - accuracy: 0.9853 - f1_score: 0.4488 - precision: 0.2894 - recall: 1.0000 - val_loss: 2.6353 - val_accuracy: 0.5199 - val_f1_score: 0.3796 - val_precision: 0.2366 - val_recall: 0.9600\n",
      "Epoch 15/25\n",
      "329/329 [==============================] - 327s 995ms/step - loss: 0.0262 - accuracy: 0.9909 - f1_score: 0.4506 - precision: 0.2909 - recall: 1.0000 - val_loss: 1.3794 - val_accuracy: 0.7061 - val_f1_score: 0.3995 - val_precision: 0.2505 - val_recall: 0.9867\n",
      "Epoch 16/25\n",
      "329/329 [==============================] - 331s 1s/step - loss: 0.0164 - accuracy: 0.9948 - f1_score: 0.4503 - precision: 0.2907 - recall: 1.0000 - val_loss: 0.7043 - val_accuracy: 0.8357 - val_f1_score: 0.4116 - val_precision: 0.2593 - val_recall: 0.9987\n",
      "Epoch 17/25\n",
      "329/329 [==============================] - 328s 998ms/step - loss: 0.0121 - accuracy: 0.9964 - f1_score: 0.4499 - precision: 0.2903 - recall: 1.0000 - val_loss: 0.4588 - val_accuracy: 0.8946 - val_f1_score: 0.4179 - val_precision: 0.2643 - val_recall: 0.9987\n",
      "Epoch 18/25\n",
      "329/329 [==============================] - 304s 923ms/step - loss: 0.0069 - accuracy: 0.9984 - f1_score: 0.4494 - precision: 0.2899 - recall: 1.0000 - val_loss: 0.2796 - val_accuracy: 0.9333 - val_f1_score: 0.4313 - val_precision: 0.2749 - val_recall: 1.0000\n",
      "Epoch 19/25\n",
      "329/329 [==============================] - 316s 961ms/step - loss: 0.0021 - accuracy: 0.9997 - f1_score: 0.4493 - precision: 0.2898 - recall: 1.0000 - val_loss: 0.1717 - val_accuracy: 0.9599 - val_f1_score: 0.4364 - val_precision: 0.2792 - val_recall: 1.0000\n",
      "Epoch 20/25\n",
      "329/329 [==============================] - 327s 994ms/step - loss: 8.4417e-04 - accuracy: 1.0000 - f1_score: 0.4493 - precision: 0.2898 - recall: 1.0000 - val_loss: 0.1470 - val_accuracy: 0.9660 - val_f1_score: 0.4415 - val_precision: 0.2834 - val_recall: 1.0000\n",
      "Epoch 21/25\n",
      "329/329 [==============================] - 328s 997ms/step - loss: 4.3465e-04 - accuracy: 1.0000 - f1_score: 0.4496 - precision: 0.2900 - recall: 1.0000 - val_loss: 0.1365 - val_accuracy: 0.9694 - val_f1_score: 0.4455 - val_precision: 0.2867 - val_recall: 1.0000\n",
      "Epoch 22/25\n",
      "329/329 [==============================] - 327s 995ms/step - loss: 3.2328e-04 - accuracy: 1.0000 - f1_score: 0.4496 - precision: 0.2900 - recall: 1.0000 - val_loss: 0.1274 - val_accuracy: 0.9734 - val_f1_score: 0.4482 - val_precision: 0.2889 - val_recall: 1.0000\n",
      "Epoch 23/25\n",
      "329/329 [==============================] - 328s 997ms/step - loss: 2.7316e-04 - accuracy: 1.0000 - f1_score: 0.4497 - precision: 0.2901 - recall: 1.0000 - val_loss: 0.1225 - val_accuracy: 0.9741 - val_f1_score: 0.4497 - val_precision: 0.2901 - val_recall: 0.9997\n",
      "Epoch 24/25\n",
      "329/329 [==============================] - 327s 995ms/step - loss: 2.4050e-04 - accuracy: 1.0000 - f1_score: 0.4497 - precision: 0.2901 - recall: 1.0000 - val_loss: 0.1198 - val_accuracy: 0.9751 - val_f1_score: 0.4504 - val_precision: 0.2908 - val_recall: 0.9997\n",
      "Epoch 25/25\n",
      "329/329 [==============================] - 328s 996ms/step - loss: 2.1684e-04 - accuracy: 1.0000 - f1_score: 0.4498 - precision: 0.2902 - recall: 1.0000 - val_loss: 0.1184 - val_accuracy: 0.9764 - val_f1_score: 0.4499 - val_precision: 0.2903 - val_recall: 0.9997\n"
     ]
    }
   ],
   "source": [
    "model_mobilenetv2.trainable = True\n",
    "fine_tune_at = int(len(model_mobilenetv2.layers)*0.7)\n",
    "for layer in model_mobilenetv2.layers[:fine_tune_at]:\n",
    "    layer.trainble = False\n",
    "    \n",
    "mobilenetv2.compile(optimizer=keras.optimizers.SGD(learning_rate=1e-2, momentum=0.9, decay=1e-2/fine_tune_epochs),\n",
    "              loss=keras.losses.CategoricalCrossentropy(from_logits=True),\n",
    "              metrics=['accuracy', f1_score, precision, recall])\n",
    "\n",
    "history_mobilenetv2_fine = mobilenetv2.fit(train_batches,\n",
    "                    epochs=total_epochs,\n",
    "                    initial_epoch=history_mobilenetv2.epoch[-1],\n",
    "                    validation_data=val_batches,\n",
    "                    verbose=1,\n",
    "                    shuffle=True)"
   ]
  },
  {
   "cell_type": "code",
   "execution_count": 14,
   "metadata": {},
   "outputs": [
    {
     "name": "stdout",
     "output_type": "stream",
     "text": [
      "95/95 - 24s - 24s/epoch - 257ms/step\n"
     ]
    },
    {
     "data": {
      "text/plain": [
       "(0.9739635157545605,\n",
       " 0.9741467723333136,\n",
       " 0.9739635157545605,\n",
       " 0.9739541479157715)"
      ]
     },
     "execution_count": 14,
     "metadata": {},
     "output_type": "execute_result"
    }
   ],
   "source": [
    "metric_calc(mobilenetv2)"
   ]
  },
  {
   "cell_type": "code",
   "execution_count": 15,
   "metadata": {},
   "outputs": [
    {
     "name": "stdout",
     "output_type": "stream",
     "text": [
      "95/95 - 21s - loss: 0.1386 - accuracy: 0.9740 - f1_score: 0.4516 - precision: 0.2918 - recall: 0.9993 - 21s/epoch - 221ms/step\n"
     ]
    }
   ],
   "source": [
    "test_loss, test_acc, test_f1, test_prec, test_rec = mobilenetv2.evaluate(test_batches, verbose=2)"
   ]
  },
  {
   "cell_type": "code",
   "execution_count": 16,
   "metadata": {},
   "outputs": [
    {
     "name": "stderr",
     "output_type": "stream",
     "text": [
      "WARNING:absl:Function `_wrapped_model` contains input name(s) mobilenetv2_1.00_224_input with unsupported characters which will be renamed to mobilenetv2_1_00_224_input in the SavedModel.\n",
      "WARNING:absl:Found untraced functions such as _jit_compiled_convolution_op, _jit_compiled_convolution_op, _jit_compiled_convolution_op, _jit_compiled_convolution_op, _jit_compiled_convolution_op while saving (showing 5 of 52). These functions will not be directly callable after loading.\n"
     ]
    },
    {
     "name": "stdout",
     "output_type": "stream",
     "text": [
      "INFO:tensorflow:Assets written to: models/mobilenetv2_weights\\assets\n"
     ]
    },
    {
     "name": "stderr",
     "output_type": "stream",
     "text": [
      "INFO:tensorflow:Assets written to: models/mobilenetv2_weights\\assets\n"
     ]
    }
   ],
   "source": [
    "mobilenetv2.save(\"models/mobilenetv2_weights\")"
   ]
  },
  {
   "cell_type": "markdown",
   "metadata": {},
   "source": [
    "# MobileNetV3Large"
   ]
  },
  {
   "cell_type": "code",
   "execution_count": 12,
   "metadata": {},
   "outputs": [
    {
     "name": "stdout",
     "output_type": "stream",
     "text": [
      "WARNING:tensorflow:`input_shape` is undefined or non-square, or `rows` is not 224. Weights for input shape (224, 224) will be loaded as the default.\n"
     ]
    },
    {
     "name": "stderr",
     "output_type": "stream",
     "text": [
      "D:\\anaconda3\\lib\\site-packages\\keras\\optimizers\\optimizer_v2\\gradient_descent.py:111: UserWarning: The `lr` argument is deprecated, use `learning_rate` instead.\n",
      "  super().__init__(name, **kwargs)\n"
     ]
    },
    {
     "name": "stdout",
     "output_type": "stream",
     "text": [
      "Epoch 1/10\n",
      "329/329 [==============================] - 54s 152ms/step - loss: 1.6782 - accuracy: 0.4201 - f1_score: 0.3726 - precision: 0.2606 - recall: 0.6618 - val_loss: 1.4808 - val_accuracy: 0.4865 - val_f1_score: 0.4044 - val_precision: 0.2756 - val_recall: 0.7610\n",
      "Epoch 2/10\n",
      "329/329 [==============================] - 49s 150ms/step - loss: 1.3364 - accuracy: 0.5467 - f1_score: 0.4229 - precision: 0.2858 - recall: 0.8151 - val_loss: 1.3211 - val_accuracy: 0.5451 - val_f1_score: 0.4163 - val_precision: 0.2778 - val_recall: 0.8322\n",
      "Epoch 3/10\n",
      "329/329 [==============================] - 49s 149ms/step - loss: 1.2451 - accuracy: 0.5786 - f1_score: 0.4275 - precision: 0.2861 - recall: 0.8469 - val_loss: 1.2523 - val_accuracy: 0.5673 - val_f1_score: 0.4194 - val_precision: 0.2784 - val_recall: 0.8516\n",
      "Epoch 4/10\n",
      "329/329 [==============================] - 49s 149ms/step - loss: 1.1890 - accuracy: 0.6007 - f1_score: 0.4313 - precision: 0.2876 - recall: 0.8640 - val_loss: 1.2083 - val_accuracy: 0.5842 - val_f1_score: 0.4204 - val_precision: 0.2777 - val_recall: 0.8667\n",
      "Epoch 5/10\n",
      "329/329 [==============================] - 49s 149ms/step - loss: 1.1503 - accuracy: 0.6160 - f1_score: 0.4327 - precision: 0.2878 - recall: 0.8739 - val_loss: 1.1675 - val_accuracy: 0.6131 - val_f1_score: 0.4217 - val_precision: 0.2783 - val_recall: 0.8717\n",
      "Epoch 6/10\n",
      "329/329 [==============================] - 49s 149ms/step - loss: 1.1234 - accuracy: 0.6270 - f1_score: 0.4338 - precision: 0.2878 - recall: 0.8818 - val_loss: 1.1419 - val_accuracy: 0.6259 - val_f1_score: 0.4244 - val_precision: 0.2803 - val_recall: 0.8747\n",
      "Epoch 7/10\n",
      "329/329 [==============================] - 49s 150ms/step - loss: 1.1023 - accuracy: 0.6350 - f1_score: 0.4342 - precision: 0.2875 - recall: 0.8879 - val_loss: 1.1248 - val_accuracy: 0.6337 - val_f1_score: 0.4278 - val_precision: 0.2825 - val_recall: 0.8820\n",
      "Epoch 8/10\n",
      "329/329 [==============================] - 50s 152ms/step - loss: 1.0849 - accuracy: 0.6411 - f1_score: 0.4349 - precision: 0.2877 - recall: 0.8920 - val_loss: 1.1120 - val_accuracy: 0.6330 - val_f1_score: 0.4286 - val_precision: 0.2826 - val_recall: 0.8878\n",
      "Epoch 9/10\n",
      "329/329 [==============================] - 50s 153ms/step - loss: 1.0705 - accuracy: 0.6472 - f1_score: 0.4359 - precision: 0.2880 - recall: 0.8971 - val_loss: 1.1022 - val_accuracy: 0.6347 - val_f1_score: 0.4276 - val_precision: 0.2814 - val_recall: 0.8915\n",
      "Epoch 10/10\n",
      "329/329 [==============================] - 50s 152ms/step - loss: 1.0584 - accuracy: 0.6504 - f1_score: 0.4364 - precision: 0.2882 - recall: 0.9002 - val_loss: 1.0939 - val_accuracy: 0.6357 - val_f1_score: 0.4266 - val_precision: 0.2803 - val_recall: 0.8942\n"
     ]
    }
   ],
   "source": [
    "model_mobilenetv3large = tf.keras.applications.MobileNetV3Large(input_shape=input_shape+(3,), include_top=False, \n",
    "                                               weights='imagenet', include_preprocessing=False, alpha=1.0)\n",
    "model_mobilenetv3large.trainable = False\n",
    "\n",
    "mobilenetv3large = keras.Sequential([\n",
    "    model_mobilenetv3large,\n",
    "    keras.layers.GlobalAveragePooling2D(),\n",
    "    keras.layers.Dense(len(labels))                 \n",
    "])\n",
    "\n",
    "mobilenetv3large.compile(optimizer=tf.keras.optimizers.SGD(lr=1e-2, momentum=0.9, decay=1e-2/epoch),\n",
    "              loss=keras.losses.CategoricalCrossentropy(from_logits=True),\n",
    "              metrics=['accuracy', f1_score, precision, recall])\n",
    "\n",
    "history_mobilenetv3large = mobilenetv3large.fit(train_batches,\n",
    "                    epochs=epoch,\n",
    "                    validation_data=val_batches,\n",
    "                    verbose=1,\n",
    "                    shuffle=True)"
   ]
  },
  {
   "cell_type": "code",
   "execution_count": 13,
   "metadata": {},
   "outputs": [
    {
     "name": "stdout",
     "output_type": "stream",
     "text": [
      "Epoch 10/25\n",
      "329/329 [==============================] - 193s 568ms/step - loss: 0.5577 - accuracy: 0.8205 - f1_score: 0.3822 - precision: 0.2375 - recall: 0.9793 - val_loss: 16.5784 - val_accuracy: 0.1633 - val_f1_score: 0.2004 - val_precision: 0.1204 - val_recall: 0.5987\n",
      "Epoch 11/25\n",
      "329/329 [==============================] - 186s 565ms/step - loss: 0.1113 - accuracy: 0.9620 - f1_score: 0.3974 - precision: 0.2480 - recall: 0.9996 - val_loss: 4.8150 - val_accuracy: 0.2758 - val_f1_score: 0.2426 - val_precision: 0.1452 - val_recall: 0.7359\n",
      "Epoch 12/25\n",
      "329/329 [==============================] - 186s 564ms/step - loss: 0.0310 - accuracy: 0.9916 - f1_score: 0.3990 - precision: 0.2493 - recall: 1.0000 - val_loss: 2.2299 - val_accuracy: 0.4791 - val_f1_score: 0.3399 - val_precision: 0.2080 - val_recall: 0.9292\n",
      "Epoch 13/25\n",
      "329/329 [==============================] - 186s 564ms/step - loss: 0.0088 - accuracy: 0.9986 - f1_score: 0.4008 - precision: 0.2506 - recall: 1.0000 - val_loss: 1.0228 - val_accuracy: 0.7091 - val_f1_score: 0.3762 - val_precision: 0.2326 - val_recall: 0.9834\n",
      "Epoch 14/25\n",
      "329/329 [==============================] - 186s 566ms/step - loss: 0.0033 - accuracy: 0.9999 - f1_score: 0.4013 - precision: 0.2511 - recall: 1.0000 - val_loss: 0.5684 - val_accuracy: 0.8266 - val_f1_score: 0.3930 - val_precision: 0.2450 - val_recall: 0.9937\n",
      "Epoch 15/25\n",
      "329/329 [==============================] - 186s 564ms/step - loss: 0.0017 - accuracy: 1.0000 - f1_score: 0.4017 - precision: 0.2514 - recall: 1.0000 - val_loss: 0.4129 - val_accuracy: 0.8758 - val_f1_score: 0.4009 - val_precision: 0.2509 - val_recall: 0.9970\n",
      "Epoch 16/25\n",
      "329/329 [==============================] - 186s 565ms/step - loss: 0.0013 - accuracy: 1.0000 - f1_score: 0.4020 - precision: 0.2516 - recall: 1.0000 - val_loss: 0.3047 - val_accuracy: 0.9135 - val_f1_score: 0.4070 - val_precision: 0.2557 - val_recall: 0.9983\n",
      "Epoch 17/25\n",
      "329/329 [==============================] - 187s 568ms/step - loss: 0.0010 - accuracy: 1.0000 - f1_score: 0.4025 - precision: 0.2520 - recall: 1.0000 - val_loss: 0.2364 - val_accuracy: 0.9337 - val_f1_score: 0.4081 - val_precision: 0.2565 - val_recall: 0.9980\n",
      "Epoch 18/25\n",
      "329/329 [==============================] - 186s 565ms/step - loss: 8.9456e-04 - accuracy: 1.0000 - f1_score: 0.4027 - precision: 0.2521 - recall: 1.0000 - val_loss: 0.1891 - val_accuracy: 0.9458 - val_f1_score: 0.4084 - val_precision: 0.2567 - val_recall: 0.9993\n",
      "Epoch 19/25\n",
      "329/329 [==============================] - 187s 568ms/step - loss: 7.9452e-04 - accuracy: 1.0000 - f1_score: 0.4029 - precision: 0.2523 - recall: 1.0000 - val_loss: 0.1573 - val_accuracy: 0.9525 - val_f1_score: 0.4082 - val_precision: 0.2565 - val_recall: 0.9997\n",
      "Epoch 20/25\n",
      "329/329 [==============================] - 186s 567ms/step - loss: 7.1956e-04 - accuracy: 1.0000 - f1_score: 0.4030 - precision: 0.2524 - recall: 1.0000 - val_loss: 0.1378 - val_accuracy: 0.9603 - val_f1_score: 0.4087 - val_precision: 0.2569 - val_recall: 1.0000\n",
      "Epoch 21/25\n",
      "329/329 [==============================] - 186s 565ms/step - loss: 6.6115e-04 - accuracy: 1.0000 - f1_score: 0.4032 - precision: 0.2525 - recall: 1.0000 - val_loss: 0.1273 - val_accuracy: 0.9640 - val_f1_score: 0.4090 - val_precision: 0.2572 - val_recall: 0.9997\n",
      "Epoch 22/25\n",
      "329/329 [==============================] - 186s 566ms/step - loss: 6.1421e-04 - accuracy: 1.0000 - f1_score: 0.4033 - precision: 0.2526 - recall: 1.0000 - val_loss: 0.1221 - val_accuracy: 0.9670 - val_f1_score: 0.4089 - val_precision: 0.2570 - val_recall: 0.9997\n",
      "Epoch 23/25\n",
      "329/329 [==============================] - 186s 566ms/step - loss: 5.7555e-04 - accuracy: 1.0000 - f1_score: 0.4035 - precision: 0.2528 - recall: 1.0000 - val_loss: 0.1198 - val_accuracy: 0.9667 - val_f1_score: 0.4087 - val_precision: 0.2569 - val_recall: 0.9997\n",
      "Epoch 24/25\n",
      "329/329 [==============================] - 186s 565ms/step - loss: 5.4315e-04 - accuracy: 1.0000 - f1_score: 0.4035 - precision: 0.2528 - recall: 1.0000 - val_loss: 0.1191 - val_accuracy: 0.9670 - val_f1_score: 0.4080 - val_precision: 0.2563 - val_recall: 0.9997\n",
      "Epoch 25/25\n",
      "329/329 [==============================] - 186s 566ms/step - loss: 5.1557e-04 - accuracy: 1.0000 - f1_score: 0.4037 - precision: 0.2529 - recall: 1.0000 - val_loss: 0.1191 - val_accuracy: 0.9670 - val_f1_score: 0.4078 - val_precision: 0.2562 - val_recall: 0.9997\n"
     ]
    }
   ],
   "source": [
    "model_mobilenetv3large.trainable = True\n",
    "fine_tune_at = int(len(model_mobilenetv3large.layers)*0.7)\n",
    "for layer in model_mobilenetv3large.layers[:fine_tune_at]:\n",
    "    layer.trainble = False\n",
    "\n",
    "mobilenetv3large.compile(optimizer=keras.optimizers.SGD(lr=1e-2, momentum=0.9, decay=1e-2/fine_tune_epochs),\n",
    "              loss=keras.losses.CategoricalCrossentropy(from_logits=True),\n",
    "              metrics=['accuracy', f1_score, precision, recall])\n",
    "\n",
    "history_mobilenetv3large_fine = mobilenetv3large.fit(train_batches,\n",
    "                    epochs=total_epochs,\n",
    "                    initial_epoch=history_mobilenetv3large.epoch[-1],\n",
    "                    validation_data=val_batches,\n",
    "                    verbose=1,\n",
    "                    shuffle=True)"
   ]
  },
  {
   "cell_type": "code",
   "execution_count": 14,
   "metadata": {},
   "outputs": [
    {
     "name": "stdout",
     "output_type": "stream",
     "text": [
      "95/95 - 13s - 13s/epoch - 141ms/step\n"
     ]
    },
    {
     "data": {
      "text/plain": [
       "(0.966832504145937, 0.9668456535032656, 0.966832504145937, 0.9667717093801858)"
      ]
     },
     "execution_count": 14,
     "metadata": {},
     "output_type": "execute_result"
    }
   ],
   "source": [
    "metric_calc(mobilenetv3large)"
   ]
  },
  {
   "cell_type": "code",
   "execution_count": 15,
   "metadata": {},
   "outputs": [
    {
     "name": "stdout",
     "output_type": "stream",
     "text": [
      "95/95 - 12s - loss: 0.1354 - accuracy: 0.9668 - f1_score: 0.4060 - precision: 0.2548 - recall: 0.9993 - 12s/epoch - 128ms/step\n"
     ]
    }
   ],
   "source": [
    "test_loss, test_acc, test_f1, test_prec, test_rec = mobilenetv3large.evaluate(test_batches, verbose=2)"
   ]
  },
  {
   "cell_type": "code",
   "execution_count": 16,
   "metadata": {},
   "outputs": [
    {
     "name": "stderr",
     "output_type": "stream",
     "text": [
      "WARNING:absl:Function `_wrapped_model` contains input name(s) MobilenetV3large_input with unsupported characters which will be renamed to mobilenetv3large_input in the SavedModel.\n",
      "WARNING:absl:Found untraced functions such as _jit_compiled_convolution_op, _jit_compiled_convolution_op, _jit_compiled_convolution_op, _jit_compiled_convolution_op, _jit_compiled_convolution_op while saving (showing 5 of 62). These functions will not be directly callable after loading.\n"
     ]
    },
    {
     "name": "stdout",
     "output_type": "stream",
     "text": [
      "INFO:tensorflow:Assets written to: models/mobilenetv3large_weights\\assets\n"
     ]
    },
    {
     "name": "stderr",
     "output_type": "stream",
     "text": [
      "INFO:tensorflow:Assets written to: models/mobilenetv3large_weights\\assets\n"
     ]
    }
   ],
   "source": [
    "mobilenetv3large.save(\"models/mobilenetv3large_weights\")"
   ]
  },
  {
   "cell_type": "markdown",
   "metadata": {},
   "source": [
    "# MobileNetV3Small"
   ]
  },
  {
   "cell_type": "code",
   "execution_count": 17,
   "metadata": {},
   "outputs": [
    {
     "name": "stdout",
     "output_type": "stream",
     "text": [
      "WARNING:tensorflow:`input_shape` is undefined or non-square, or `rows` is not 224. Weights for input shape (224, 224) will be loaded as the default.\n"
     ]
    },
    {
     "name": "stderr",
     "output_type": "stream",
     "text": [
      "WARNING:tensorflow:`input_shape` is undefined or non-square, or `rows` is not 224. Weights for input shape (224, 224) will be loaded as the default.\n"
     ]
    },
    {
     "name": "stdout",
     "output_type": "stream",
     "text": [
      "Epoch 1/10\n",
      "329/329 [==============================] - 44s 119ms/step - loss: 1.7808 - accuracy: 0.3858 - f1_score: 0.3062 - precision: 0.1909 - recall: 0.7747 - val_loss: 1.5626 - val_accuracy: 0.4448 - val_f1_score: 0.3296 - val_precision: 0.2032 - val_recall: 0.8732\n",
      "Epoch 2/10\n",
      "329/329 [==============================] - 37s 113ms/step - loss: 1.4464 - accuracy: 0.5174 - f1_score: 0.3383 - precision: 0.2084 - recall: 0.8983 - val_loss: 1.3767 - val_accuracy: 0.5434 - val_f1_score: 0.3422 - val_precision: 0.2102 - val_recall: 0.9206\n",
      "Epoch 3/10\n",
      "329/329 [==============================] - 37s 113ms/step - loss: 1.3348 - accuracy: 0.5601 - f1_score: 0.3438 - precision: 0.2113 - recall: 0.9230 - val_loss: 1.2996 - val_accuracy: 0.5741 - val_f1_score: 0.3457 - val_precision: 0.2122 - val_recall: 0.9332\n",
      "Epoch 4/10\n",
      "329/329 [==============================] - 37s 112ms/step - loss: 1.2717 - accuracy: 0.5827 - f1_score: 0.3465 - precision: 0.2128 - recall: 0.9343 - val_loss: 1.2518 - val_accuracy: 0.5933 - val_f1_score: 0.3484 - val_precision: 0.2137 - val_recall: 0.9418\n",
      "Epoch 5/10\n",
      "329/329 [==============================] - 37s 113ms/step - loss: 1.2300 - accuracy: 0.5992 - f1_score: 0.3482 - precision: 0.2137 - recall: 0.9399 - val_loss: 1.2166 - val_accuracy: 0.6000 - val_f1_score: 0.3493 - val_precision: 0.2141 - val_recall: 0.9472\n",
      "Epoch 6/10\n",
      "329/329 [==============================] - 37s 113ms/step - loss: 1.1994 - accuracy: 0.6099 - f1_score: 0.3493 - precision: 0.2143 - recall: 0.9443 - val_loss: 1.1908 - val_accuracy: 0.6088 - val_f1_score: 0.3494 - val_precision: 0.2141 - val_recall: 0.9492\n",
      "Epoch 7/10\n",
      "329/329 [==============================] - 37s 113ms/step - loss: 1.1755 - accuracy: 0.6181 - f1_score: 0.3499 - precision: 0.2146 - recall: 0.9473 - val_loss: 1.1715 - val_accuracy: 0.6155 - val_f1_score: 0.3507 - val_precision: 0.2150 - val_recall: 0.9508\n",
      "Epoch 8/10\n",
      "329/329 [==============================] - 37s 113ms/step - loss: 1.1562 - accuracy: 0.6277 - f1_score: 0.3504 - precision: 0.2148 - recall: 0.9497 - val_loss: 1.1560 - val_accuracy: 0.6236 - val_f1_score: 0.3514 - val_precision: 0.2155 - val_recall: 0.9522\n",
      "Epoch 9/10\n",
      "329/329 [==============================] - 37s 113ms/step - loss: 1.1402 - accuracy: 0.6342 - f1_score: 0.3507 - precision: 0.2150 - recall: 0.9512 - val_loss: 1.1431 - val_accuracy: 0.6256 - val_f1_score: 0.3520 - val_precision: 0.2159 - val_recall: 0.9545\n",
      "Epoch 10/10\n",
      "329/329 [==============================] - 37s 113ms/step - loss: 1.1266 - accuracy: 0.6381 - f1_score: 0.3509 - precision: 0.2151 - recall: 0.9526 - val_loss: 1.1322 - val_accuracy: 0.6316 - val_f1_score: 0.3527 - val_precision: 0.2163 - val_recall: 0.9555\n"
     ]
    }
   ],
   "source": [
    "model_mobilenetv3small = tf.keras.applications.MobileNetV3Small(input_shape=input_shape+(3,), include_top=False, \n",
    "                                               weights='imagenet', include_preprocessing=False, alpha=1.0)\n",
    "model_mobilenetv3small.trainable = False\n",
    "\n",
    "mobilenetv3small = keras.Sequential([\n",
    "    model_mobilenetv3small,\n",
    "    keras.layers.GlobalAveragePooling2D(),\n",
    "    keras.layers.Dense(len(labels))                   \n",
    "])\n",
    "\n",
    "mobilenetv3small.compile(optimizer=tf.keras.optimizers.legacy.SGD(learning_rate=1e-2, momentum=0.9, decay=1e-2/epoch),\n",
    "              loss=keras.losses.CategoricalCrossentropy(from_logits=True),\n",
    "              metrics=['accuracy', f1_score, precision, recall])\n",
    "\n",
    "history_mobilenetv3small = mobilenetv3small.fit(train_batches,\n",
    "                    epochs=epoch,\n",
    "                    validation_data=val_batches,\n",
    "                    verbose=1,\n",
    "                    shuffle=True)"
   ]
  },
  {
   "cell_type": "code",
   "execution_count": 18,
   "metadata": {},
   "outputs": [
    {
     "name": "stdout",
     "output_type": "stream",
     "text": [
      "Epoch 10/25\n",
      "329/329 [==============================] - 136s 376ms/step - loss: 0.6765 - accuracy: 0.7708 - f1_score: 0.3675 - precision: 0.2267 - recall: 0.9711 - val_loss: 2.7791 - val_accuracy: 0.2939 - val_f1_score: 0.2466 - val_precision: 0.1498 - val_recall: 0.6979\n",
      "Epoch 11/25\n",
      "329/329 [==============================] - 121s 369ms/step - loss: 0.1951 - accuracy: 0.9316 - f1_score: 0.3780 - precision: 0.2331 - recall: 0.9987 - val_loss: 2.2002 - val_accuracy: 0.3680 - val_f1_score: 0.3040 - val_precision: 0.1861 - val_recall: 0.8300\n",
      "Epoch 12/25\n",
      "329/329 [==============================] - 121s 368ms/step - loss: 0.0940 - accuracy: 0.9718 - f1_score: 0.3795 - precision: 0.2342 - recall: 0.9997 - val_loss: 2.0366 - val_accuracy: 0.4182 - val_f1_score: 0.3391 - val_precision: 0.2087 - val_recall: 0.9051\n",
      "Epoch 13/25\n",
      "329/329 [==============================] - 121s 368ms/step - loss: 0.0449 - accuracy: 0.9892 - f1_score: 0.3803 - precision: 0.2348 - recall: 1.0000 - val_loss: 1.3039 - val_accuracy: 0.6061 - val_f1_score: 0.3697 - val_precision: 0.2284 - val_recall: 0.9701\n",
      "Epoch 14/25\n",
      "329/329 [==============================] - 122s 370ms/step - loss: 0.0219 - accuracy: 0.9965 - f1_score: 0.3812 - precision: 0.2355 - recall: 1.0000 - val_loss: 0.7523 - val_accuracy: 0.7646 - val_f1_score: 0.3786 - val_precision: 0.2342 - val_recall: 0.9877\n",
      "Epoch 15/25\n",
      "329/329 [==============================] - 122s 370ms/step - loss: 0.0115 - accuracy: 0.9992 - f1_score: 0.3817 - precision: 0.2359 - recall: 1.0000 - val_loss: 0.5561 - val_accuracy: 0.8350 - val_f1_score: 0.3812 - val_precision: 0.2359 - val_recall: 0.9930\n",
      "Epoch 16/25\n",
      "329/329 [==============================] - 121s 369ms/step - loss: 0.0063 - accuracy: 1.0000 - f1_score: 0.3819 - precision: 0.2360 - recall: 1.0000 - val_loss: 0.4298 - val_accuracy: 0.8751 - val_f1_score: 0.3814 - val_precision: 0.2360 - val_recall: 0.9947\n",
      "Epoch 17/25\n",
      "329/329 [==============================] - 121s 369ms/step - loss: 0.0043 - accuracy: 1.0000 - f1_score: 0.3823 - precision: 0.2364 - recall: 1.0000 - val_loss: 0.3493 - val_accuracy: 0.9034 - val_f1_score: 0.3815 - val_precision: 0.2359 - val_recall: 0.9973\n",
      "Epoch 18/25\n",
      "329/329 [==============================] - 121s 368ms/step - loss: 0.0034 - accuracy: 1.0000 - f1_score: 0.3824 - precision: 0.2365 - recall: 1.0000 - val_loss: 0.3036 - val_accuracy: 0.9168 - val_f1_score: 0.3845 - val_precision: 0.2381 - val_recall: 0.9980\n",
      "Epoch 19/25\n",
      "329/329 [==============================] - 121s 369ms/step - loss: 0.0028 - accuracy: 1.0000 - f1_score: 0.3825 - precision: 0.2365 - recall: 1.0000 - val_loss: 0.2755 - val_accuracy: 0.9239 - val_f1_score: 0.3842 - val_precision: 0.2379 - val_recall: 0.9987\n",
      "Epoch 20/25\n",
      "329/329 [==============================] - 121s 368ms/step - loss: 0.0024 - accuracy: 1.0000 - f1_score: 0.3827 - precision: 0.2366 - recall: 1.0000 - val_loss: 0.2593 - val_accuracy: 0.9293 - val_f1_score: 0.3846 - val_precision: 0.2382 - val_recall: 0.9987\n",
      "Epoch 21/25\n",
      "329/329 [==============================] - 121s 369ms/step - loss: 0.0021 - accuracy: 1.0000 - f1_score: 0.3829 - precision: 0.2368 - recall: 1.0000 - val_loss: 0.2508 - val_accuracy: 0.9316 - val_f1_score: 0.3857 - val_precision: 0.2390 - val_recall: 0.9990\n",
      "Epoch 22/25\n",
      "329/329 [==============================] - 122s 370ms/step - loss: 0.0019 - accuracy: 1.0000 - f1_score: 0.3831 - precision: 0.2370 - recall: 1.0000 - val_loss: 0.2466 - val_accuracy: 0.9343 - val_f1_score: 0.3847 - val_precision: 0.2383 - val_recall: 0.9993\n",
      "Epoch 23/25\n",
      "329/329 [==============================] - 122s 371ms/step - loss: 0.0017 - accuracy: 1.0000 - f1_score: 0.3832 - precision: 0.2370 - recall: 1.0000 - val_loss: 0.2451 - val_accuracy: 0.9350 - val_f1_score: 0.3847 - val_precision: 0.2383 - val_recall: 0.9993\n",
      "Epoch 24/25\n",
      "329/329 [==============================] - 123s 374ms/step - loss: 0.0016 - accuracy: 1.0000 - f1_score: 0.3833 - precision: 0.2371 - recall: 1.0000 - val_loss: 0.2446 - val_accuracy: 0.9360 - val_f1_score: 0.3847 - val_precision: 0.2382 - val_recall: 0.9993\n",
      "Epoch 25/25\n",
      "329/329 [==============================] - 121s 369ms/step - loss: 0.0015 - accuracy: 1.0000 - f1_score: 0.3833 - precision: 0.2371 - recall: 1.0000 - val_loss: 0.2451 - val_accuracy: 0.9370 - val_f1_score: 0.3848 - val_precision: 0.2383 - val_recall: 0.9993\n"
     ]
    }
   ],
   "source": [
    "model_mobilenetv3small.trainable = True\n",
    "fine_tune_at = int(len(model_mobilenetv3small.layers)*0.7)\n",
    "for layer in model_mobilenetv3small.layers[:fine_tune_at]:\n",
    "    layer.trainble = False\n",
    "\n",
    "mobilenetv3small.compile(optimizer=keras.optimizers.SGD(learning_rate=1e-2, momentum=0.9, decay=1e-2/fine_tune_epochs),\n",
    "              loss=keras.losses.CategoricalCrossentropy(from_logits=True),\n",
    "              metrics=['accuracy', f1_score, precision, recall])\n",
    "\n",
    "history_mobilenetv3small_fine = mobilenetv3small.fit(train_batches,\n",
    "                    epochs=total_epochs,\n",
    "                    initial_epoch=history_mobilenetv3small.epoch[-1],\n",
    "                    validation_data=val_batches, \n",
    "                    verbose=1,\n",
    "                    shuffle=True)"
   ]
  },
  {
   "cell_type": "code",
   "execution_count": 19,
   "metadata": {},
   "outputs": [
    {
     "name": "stdout",
     "output_type": "stream",
     "text": [
      "95/95 - 11s - 11s/epoch - 118ms/step\n"
     ]
    },
    {
     "data": {
      "text/plain": [
       "(0.9464344941956883, 0.946906624899922, 0.9464344941956883, 0.9462917351515817)"
      ]
     },
     "execution_count": 19,
     "metadata": {},
     "output_type": "execute_result"
    }
   ],
   "source": [
    "metric_calc(mobilenetv3small)"
   ]
  },
  {
   "cell_type": "code",
   "execution_count": 20,
   "metadata": {},
   "outputs": [
    {
     "name": "stdout",
     "output_type": "stream",
     "text": [
      "95/95 - 9s - loss: 0.2329 - accuracy: 0.9464 - f1_score: 0.3842 - precision: 0.2379 - recall: 0.9980 - 9s/epoch - 94ms/step\n"
     ]
    }
   ],
   "source": [
    "test_loss, test_acc, test_f1, test_prec, test_rec = mobilenetv3small.evaluate(test_batches, verbose=2)"
   ]
  },
  {
   "cell_type": "code",
   "execution_count": 21,
   "metadata": {},
   "outputs": [
    {
     "name": "stderr",
     "output_type": "stream",
     "text": [
      "WARNING:absl:Function `_wrapped_model` contains input name(s) MobilenetV3small_input with unsupported characters which will be renamed to mobilenetv3small_input in the SavedModel.\n",
      "WARNING:absl:Found untraced functions such as _jit_compiled_convolution_op, _jit_compiled_convolution_op, _jit_compiled_convolution_op, _jit_compiled_convolution_op, _jit_compiled_convolution_op while saving (showing 5 of 52). These functions will not be directly callable after loading.\n"
     ]
    },
    {
     "name": "stdout",
     "output_type": "stream",
     "text": [
      "INFO:tensorflow:Assets written to: models/mobilenetv3small_weights\\assets\n"
     ]
    },
    {
     "name": "stderr",
     "output_type": "stream",
     "text": [
      "INFO:tensorflow:Assets written to: models/mobilenetv3small_weights\\assets\n"
     ]
    }
   ],
   "source": [
    "mobilenetv3small.save(\"models/mobilenetv3small_weights\")"
   ]
  },
  {
   "cell_type": "markdown",
   "metadata": {},
   "source": [
    "# RegNetX002"
   ]
  },
  {
   "cell_type": "code",
   "execution_count": 22,
   "metadata": {},
   "outputs": [
    {
     "name": "stdout",
     "output_type": "stream",
     "text": [
      "Epoch 1/10\n",
      "329/329 [==============================] - 47s 133ms/step - loss: 7.3072 - accuracy: 0.2074 - f1_score: 0.2171 - precision: 0.1303 - recall: 0.6626 - val_loss: 5.8811 - val_accuracy: 0.1684 - val_f1_score: 0.2376 - val_precision: 0.1417 - val_recall: 0.7349\n",
      "Epoch 2/10\n",
      "329/329 [==============================] - 42s 128ms/step - loss: 2.6577 - accuracy: 0.3346 - f1_score: 0.2892 - precision: 0.1794 - recall: 0.7511 - val_loss: 2.4279 - val_accuracy: 0.2973 - val_f1_score: 0.2980 - val_precision: 0.1895 - val_recall: 0.6987\n",
      "Epoch 3/10\n",
      "329/329 [==============================] - 37s 114ms/step - loss: 1.8723 - accuracy: 0.4031 - f1_score: 0.3243 - precision: 0.2046 - recall: 0.7850 - val_loss: 2.0161 - val_accuracy: 0.3593 - val_f1_score: 0.3183 - val_precision: 0.2025 - val_recall: 0.7438\n",
      "Epoch 4/10\n",
      "329/329 [==============================] - 38s 114ms/step - loss: 1.6799 - accuracy: 0.4354 - f1_score: 0.3403 - precision: 0.2158 - recall: 0.8061 - val_loss: 1.9735 - val_accuracy: 0.3263 - val_f1_score: 0.3428 - val_precision: 0.2200 - val_recall: 0.7764\n",
      "Epoch 5/10\n",
      "329/329 [==============================] - 44s 133ms/step - loss: 1.5718 - accuracy: 0.4608 - f1_score: 0.3512 - precision: 0.2238 - recall: 0.8183 - val_loss: 2.1666 - val_accuracy: 0.3051 - val_f1_score: 0.3385 - val_precision: 0.2184 - val_recall: 0.7527\n",
      "Epoch 6/10\n",
      "329/329 [==============================] - 48s 147ms/step - loss: 1.4879 - accuracy: 0.4853 - f1_score: 0.3605 - precision: 0.2303 - recall: 0.8321 - val_loss: 1.8967 - val_accuracy: 0.3569 - val_f1_score: 0.3444 - val_precision: 0.2197 - val_recall: 0.7972\n",
      "Epoch 7/10\n",
      "329/329 [==============================] - 38s 114ms/step - loss: 1.4552 - accuracy: 0.4989 - f1_score: 0.3641 - precision: 0.2329 - recall: 0.8365 - val_loss: 1.8330 - val_accuracy: 0.3805 - val_f1_score: 0.3405 - val_precision: 0.2174 - val_recall: 0.7863\n",
      "Epoch 8/10\n",
      "329/329 [==============================] - 38s 114ms/step - loss: 1.4332 - accuracy: 0.5061 - f1_score: 0.3665 - precision: 0.2345 - recall: 0.8410 - val_loss: 1.7705 - val_accuracy: 0.4101 - val_f1_score: 0.3354 - val_precision: 0.2139 - val_recall: 0.7775\n",
      "Epoch 9/10\n",
      "329/329 [==============================] - 38s 114ms/step - loss: 1.4021 - accuracy: 0.5128 - f1_score: 0.3698 - precision: 0.2366 - recall: 0.8478 - val_loss: 1.6368 - val_accuracy: 0.4444 - val_f1_score: 0.3437 - val_precision: 0.2199 - val_recall: 0.7878\n",
      "Epoch 10/10\n",
      "329/329 [==============================] - 38s 115ms/step - loss: 1.3717 - accuracy: 0.5253 - f1_score: 0.3730 - precision: 0.2388 - recall: 0.8529 - val_loss: 1.5157 - val_accuracy: 0.4811 - val_f1_score: 0.3547 - val_precision: 0.2275 - val_recall: 0.8051\n"
     ]
    }
   ],
   "source": [
    "model_regnetx002 = tf.keras.applications.regnet.RegNetX002(input_shape=input_shape+(3,), include_top=False, \n",
    "                                               include_preprocessing=False, weights='imagenet')\n",
    "model_regnetx002.trainable = False\n",
    "\n",
    "regnetx002 = keras.Sequential([\n",
    "    model_regnetx002,\n",
    "    keras.layers.GlobalAveragePooling2D(),\n",
    "    keras.layers.Dense(len(labels))                  \n",
    "])\n",
    "\n",
    "regnetx002.compile(optimizer=tf.keras.optimizers.legacy.SGD(learning_rate=1e-2, momentum=0.9, decay=1e-2/epoch),\n",
    "              loss=keras.losses.CategoricalCrossentropy(from_logits=True),\n",
    "              metrics=['accuracy', f1_score, precision, recall])\n",
    "\n",
    "history_regnetx002 = regnetx002.fit(train_batches,\n",
    "                    epochs=epoch,\n",
    "                    validation_data=val_batches, \n",
    "                    verbose=1,\n",
    "                    shuffle=True)"
   ]
  },
  {
   "cell_type": "code",
   "execution_count": 23,
   "metadata": {},
   "outputs": [
    {
     "name": "stdout",
     "output_type": "stream",
     "text": [
      "Epoch 10/25\n",
      "329/329 [==============================] - 2075s 6s/step - loss: 0.9228 - accuracy: 0.7117 - f1_score: 0.3791 - precision: 0.2368 - recall: 0.9502 - val_loss: 0.4346 - val_accuracy: 0.8411 - val_f1_score: 0.3949 - val_precision: 0.2464 - val_recall: 0.9947\n",
      "Epoch 11/25\n",
      "329/329 [==============================] - 2544s 8s/step - loss: 0.2874 - accuracy: 0.8991 - f1_score: 0.4083 - precision: 0.2568 - recall: 0.9966 - val_loss: 0.2751 - val_accuracy: 0.9104 - val_f1_score: 0.4014 - val_precision: 0.2513 - val_recall: 0.9970\n",
      "Epoch 12/25\n",
      "329/329 [==============================] - 2553s 8s/step - loss: 0.1520 - accuracy: 0.9465 - f1_score: 0.4093 - precision: 0.2574 - recall: 0.9993 - val_loss: 0.2150 - val_accuracy: 0.9316 - val_f1_score: 0.4049 - val_precision: 0.2540 - val_recall: 0.9980\n",
      "Epoch 13/25\n",
      "329/329 [==============================] - 2562s 8s/step - loss: 0.0855 - accuracy: 0.9717 - f1_score: 0.4113 - precision: 0.2590 - recall: 0.9999 - val_loss: 0.1912 - val_accuracy: 0.9404 - val_f1_score: 0.4112 - val_precision: 0.2590 - val_recall: 0.9980\n",
      "Epoch 14/25\n",
      "329/329 [==============================] - 2566s 8s/step - loss: 0.0475 - accuracy: 0.9849 - f1_score: 0.4138 - precision: 0.2610 - recall: 1.0000 - val_loss: 0.1637 - val_accuracy: 0.9481 - val_f1_score: 0.4169 - val_precision: 0.2635 - val_recall: 0.9977\n",
      "Epoch 15/25\n",
      "329/329 [==============================] - 2563s 8s/step - loss: 0.0208 - accuracy: 0.9947 - f1_score: 0.4135 - precision: 0.2607 - recall: 1.0000 - val_loss: 0.1538 - val_accuracy: 0.9562 - val_f1_score: 0.4154 - val_precision: 0.2623 - val_recall: 0.9987\n",
      "Epoch 16/25\n",
      "329/329 [==============================] - 2562s 8s/step - loss: 0.0092 - accuracy: 0.9984 - f1_score: 0.4142 - precision: 0.2612 - recall: 1.0000 - val_loss: 0.1550 - val_accuracy: 0.9579 - val_f1_score: 0.4139 - val_precision: 0.2611 - val_recall: 0.9983\n",
      "Epoch 17/25\n",
      "329/329 [==============================] - 2570s 8s/step - loss: 0.0038 - accuracy: 0.9996 - f1_score: 0.4146 - precision: 0.2615 - recall: 1.0000 - val_loss: 0.1355 - val_accuracy: 0.9623 - val_f1_score: 0.4170 - val_precision: 0.2636 - val_recall: 0.9987\n",
      "Epoch 18/25\n",
      "329/329 [==============================] - 2569s 8s/step - loss: 0.0016 - accuracy: 1.0000 - f1_score: 0.4145 - precision: 0.2615 - recall: 1.0000 - val_loss: 0.1323 - val_accuracy: 0.9636 - val_f1_score: 0.4178 - val_precision: 0.2642 - val_recall: 0.9987\n",
      "Epoch 19/25\n",
      "329/329 [==============================] - 2566s 8s/step - loss: 0.0011 - accuracy: 1.0000 - f1_score: 0.4154 - precision: 0.2622 - recall: 1.0000 - val_loss: 0.1343 - val_accuracy: 0.9636 - val_f1_score: 0.4178 - val_precision: 0.2642 - val_recall: 0.9987\n",
      "Epoch 20/25\n",
      "329/329 [==============================] - 2575s 8s/step - loss: 8.8623e-04 - accuracy: 1.0000 - f1_score: 0.4156 - precision: 0.2624 - recall: 1.0000 - val_loss: 0.1357 - val_accuracy: 0.9636 - val_f1_score: 0.4181 - val_precision: 0.2645 - val_recall: 0.9987\n",
      "Epoch 21/25\n",
      "329/329 [==============================] - 2576s 8s/step - loss: 7.6765e-04 - accuracy: 1.0000 - f1_score: 0.4159 - precision: 0.2626 - recall: 1.0000 - val_loss: 0.1369 - val_accuracy: 0.9630 - val_f1_score: 0.4184 - val_precision: 0.2647 - val_recall: 0.9987\n",
      "Epoch 22/25\n",
      "329/329 [==============================] - 2572s 8s/step - loss: 6.8449e-04 - accuracy: 1.0000 - f1_score: 0.4160 - precision: 0.2627 - recall: 1.0000 - val_loss: 0.1377 - val_accuracy: 0.9626 - val_f1_score: 0.4185 - val_precision: 0.2648 - val_recall: 0.9987\n",
      "Epoch 23/25\n",
      "329/329 [==============================] - 2574s 8s/step - loss: 6.2187e-04 - accuracy: 1.0000 - f1_score: 0.4161 - precision: 0.2628 - recall: 1.0000 - val_loss: 0.1385 - val_accuracy: 0.9626 - val_f1_score: 0.4186 - val_precision: 0.2648 - val_recall: 0.9987\n",
      "Epoch 24/25\n",
      "329/329 [==============================] - 2584s 8s/step - loss: 5.7294e-04 - accuracy: 1.0000 - f1_score: 0.4163 - precision: 0.2629 - recall: 1.0000 - val_loss: 0.1391 - val_accuracy: 0.9626 - val_f1_score: 0.4186 - val_precision: 0.2648 - val_recall: 0.9987\n",
      "Epoch 25/25\n",
      "329/329 [==============================] - 2544s 8s/step - loss: 5.3347e-04 - accuracy: 1.0000 - f1_score: 0.4164 - precision: 0.2630 - recall: 1.0000 - val_loss: 0.1397 - val_accuracy: 0.9626 - val_f1_score: 0.4189 - val_precision: 0.2651 - val_recall: 0.9987\n"
     ]
    }
   ],
   "source": [
    "model_regnetx002.trainable = True\n",
    "fine_tune_at = int(len(model_regnetx002.layers)*0.7)\n",
    "for layer in model_regnetx002.layers[:fine_tune_at]:\n",
    "    layer.trainble = False\n",
    "    \n",
    "regnetx002.compile(optimizer=keras.optimizers.SGD(learning_rate=1e-2, momentum=0.9, decay=1e-2/fine_tune_epochs),\n",
    "              loss=keras.losses.CategoricalCrossentropy(from_logits=True),\n",
    "              metrics=['accuracy', f1_score, precision, recall])\n",
    "\n",
    "history_regnetx002_fine = regnetx002.fit(train_batches,\n",
    "                    epochs=total_epochs,\n",
    "                    initial_epoch=history_regnetx002.epoch[-1],\n",
    "                    validation_data=val_batches, \n",
    "                    verbose=1,\n",
    "                    shuffle=True)"
   ]
  },
  {
   "cell_type": "code",
   "execution_count": 25,
   "metadata": {},
   "outputs": [
    {
     "name": "stdout",
     "output_type": "stream",
     "text": [
      "95/95 - 17s - 17s/epoch - 179ms/step\n"
     ]
    },
    {
     "data": {
      "text/plain": [
       "(0.9615257048092869,\n",
       " 0.9616615091885057,\n",
       " 0.9615257048092869,\n",
       " 0.9615432887329942)"
      ]
     },
     "execution_count": 25,
     "metadata": {},
     "output_type": "execute_result"
    }
   ],
   "source": [
    "metric_calc(regnetx002)"
   ]
  },
  {
   "cell_type": "code",
   "execution_count": 26,
   "metadata": {},
   "outputs": [
    {
     "name": "stdout",
     "output_type": "stream",
     "text": [
      "95/95 - 16s - loss: 0.1551 - accuracy: 0.9615 - f1_score: 0.4184 - precision: 0.2647 - recall: 0.9985 - 16s/epoch - 164ms/step\n"
     ]
    }
   ],
   "source": [
    "test_loss, test_acc, test_f1, test_prec, test_rec = regnetx002.evaluate(test_batches, verbose=2)"
   ]
  },
  {
   "cell_type": "code",
   "execution_count": 27,
   "metadata": {},
   "outputs": [
    {
     "name": "stderr",
     "output_type": "stream",
     "text": [
      "WARNING:absl:Found untraced functions such as _jit_compiled_convolution_op, _jit_compiled_convolution_op, _jit_compiled_convolution_op, _jit_compiled_convolution_op, _jit_compiled_convolution_op while saving (showing 5 of 31). These functions will not be directly callable after loading.\n"
     ]
    },
    {
     "name": "stdout",
     "output_type": "stream",
     "text": [
      "INFO:tensorflow:Assets written to: models/regnetx002_weights\\assets\n"
     ]
    },
    {
     "name": "stderr",
     "output_type": "stream",
     "text": [
      "INFO:tensorflow:Assets written to: models/regnetx002_weights\\assets\n"
     ]
    }
   ],
   "source": [
    "regnetx002.save(\"models/regnetx002_weights\")"
   ]
  },
  {
   "cell_type": "markdown",
   "metadata": {},
   "source": [
    "# RegNetX004"
   ]
  },
  {
   "cell_type": "code",
   "execution_count": 28,
   "metadata": {},
   "outputs": [
    {
     "name": "stdout",
     "output_type": "stream",
     "text": [
      "Epoch 1/10\n",
      "329/329 [==============================] - 72s 203ms/step - loss: 2.1188 - accuracy: 0.2641 - f1_score: 0.2824 - precision: 0.1911 - recall: 0.5494 - val_loss: 2.3427 - val_accuracy: 0.1990 - val_f1_score: 0.2837 - val_precision: 0.1868 - val_recall: 0.5894\n",
      "Epoch 2/10\n",
      "329/329 [==============================] - 60s 183ms/step - loss: 1.7822 - accuracy: 0.3680 - f1_score: 0.3398 - precision: 0.2256 - recall: 0.6922 - val_loss: 2.0886 - val_accuracy: 0.2458 - val_f1_score: 0.3212 - val_precision: 0.2105 - val_recall: 0.6778\n",
      "Epoch 3/10\n",
      "329/329 [==============================] - 60s 183ms/step - loss: 1.6436 - accuracy: 0.4174 - f1_score: 0.3602 - precision: 0.2382 - recall: 0.7411 - val_loss: 1.7479 - val_accuracy: 0.3431 - val_f1_score: 0.3488 - val_precision: 0.2290 - val_recall: 0.7319\n",
      "Epoch 4/10\n",
      "329/329 [==============================] - 72s 218ms/step - loss: 1.5591 - accuracy: 0.4509 - f1_score: 0.3724 - precision: 0.2455 - recall: 0.7740 - val_loss: 1.6043 - val_accuracy: 0.4017 - val_f1_score: 0.3658 - val_precision: 0.2388 - val_recall: 0.7823\n",
      "Epoch 5/10\n",
      "329/329 [==============================] - 97s 295ms/step - loss: 1.5059 - accuracy: 0.4731 - f1_score: 0.3783 - precision: 0.2485 - recall: 0.7944 - val_loss: 1.5550 - val_accuracy: 0.4226 - val_f1_score: 0.3669 - val_precision: 0.2382 - val_recall: 0.7996\n",
      "Epoch 6/10\n",
      "329/329 [==============================] - 97s 295ms/step - loss: 1.4743 - accuracy: 0.4849 - f1_score: 0.3826 - precision: 0.2507 - recall: 0.8099 - val_loss: 1.5181 - val_accuracy: 0.4522 - val_f1_score: 0.3683 - val_precision: 0.2382 - val_recall: 0.8125\n",
      "Epoch 7/10\n",
      "329/329 [==============================] - 97s 295ms/step - loss: 1.4523 - accuracy: 0.4927 - f1_score: 0.3833 - precision: 0.2504 - recall: 0.8182 - val_loss: 1.4929 - val_accuracy: 0.4636 - val_f1_score: 0.3726 - val_precision: 0.2411 - val_recall: 0.8212\n",
      "Epoch 8/10\n",
      "329/329 [==============================] - 97s 296ms/step - loss: 1.4326 - accuracy: 0.5019 - f1_score: 0.3852 - precision: 0.2513 - recall: 0.8262 - val_loss: 1.4776 - val_accuracy: 0.4744 - val_f1_score: 0.3779 - val_precision: 0.2450 - val_recall: 0.8272\n",
      "Epoch 9/10\n",
      "329/329 [==============================] - 98s 297ms/step - loss: 1.4142 - accuracy: 0.5103 - f1_score: 0.3871 - precision: 0.2523 - recall: 0.8324 - val_loss: 1.4505 - val_accuracy: 0.4875 - val_f1_score: 0.3818 - val_precision: 0.2475 - val_recall: 0.8351\n",
      "Epoch 10/10\n",
      "329/329 [==============================] - 98s 297ms/step - loss: 1.3972 - accuracy: 0.5179 - f1_score: 0.3893 - precision: 0.2537 - recall: 0.8381 - val_loss: 1.4188 - val_accuracy: 0.5040 - val_f1_score: 0.3839 - val_precision: 0.2487 - val_recall: 0.8428\n"
     ]
    }
   ],
   "source": [
    "model_regnetx004 = tf.keras.applications.regnet.RegNetX004(input_shape=input_shape+(3,), include_top=False, \n",
    "                                               include_preprocessing=False, weights='imagenet')\n",
    "model_regnetx004.trainable = False\n",
    "\n",
    "regnetx004 = keras.Sequential([\n",
    "    model_regnetx004,\n",
    "    keras.layers.GlobalAveragePooling2D(),\n",
    "    keras.layers.Dense(len(labels))                  \n",
    "])\n",
    "\n",
    "regnetx004.compile(optimizer=tf.keras.optimizers.legacy.SGD(learning_rate=1e-2, momentum=0.9, decay=1e-2/epoch),\n",
    "              loss=keras.losses.CategoricalCrossentropy(from_logits=True),\n",
    "              metrics=['accuracy', f1_score, precision, recall])\n",
    "\n",
    "history_regnetx004 = regnetx004.fit(train_batches,\n",
    "                    epochs=epoch,\n",
    "                    validation_data=val_batches, \n",
    "                    verbose=1,\n",
    "                    shuffle=True)"
   ]
  },
  {
   "cell_type": "code",
   "execution_count": 29,
   "metadata": {},
   "outputs": [
    {
     "name": "stdout",
     "output_type": "stream",
     "text": [
      "Epoch 10/25\n",
      "329/329 [==============================] - 2474s 7s/step - loss: 0.9691 - accuracy: 0.6861 - f1_score: 0.3609 - precision: 0.2221 - recall: 0.9655 - val_loss: 0.4905 - val_accuracy: 0.8256 - val_f1_score: 0.3956 - val_precision: 0.2469 - val_recall: 0.9960\n",
      "Epoch 11/25\n",
      "329/329 [==============================] - 2470s 8s/step - loss: 0.3318 - accuracy: 0.8827 - f1_score: 0.3944 - precision: 0.2459 - recall: 0.9975 - val_loss: 0.2967 - val_accuracy: 0.8976 - val_f1_score: 0.3965 - val_precision: 0.2474 - val_recall: 0.9990\n",
      "Epoch 12/25\n",
      "329/329 [==============================] - 2481s 8s/step - loss: 0.1846 - accuracy: 0.9350 - f1_score: 0.4006 - precision: 0.2506 - recall: 0.9994 - val_loss: 0.2201 - val_accuracy: 0.9259 - val_f1_score: 0.3995 - val_precision: 0.2498 - val_recall: 0.9987\n",
      "Epoch 13/25\n",
      "329/329 [==============================] - 2486s 8s/step - loss: 0.1116 - accuracy: 0.9608 - f1_score: 0.4020 - precision: 0.2516 - recall: 0.9998 - val_loss: 0.2297 - val_accuracy: 0.9296 - val_f1_score: 0.4035 - val_precision: 0.2529 - val_recall: 0.9987\n",
      "Epoch 14/25\n",
      "329/329 [==============================] - 2072s 6s/step - loss: 0.0667 - accuracy: 0.9785 - f1_score: 0.4038 - precision: 0.2530 - recall: 1.0000 - val_loss: 0.2129 - val_accuracy: 0.9313 - val_f1_score: 0.4083 - val_precision: 0.2566 - val_recall: 0.9987\n",
      "Epoch 15/25\n",
      "329/329 [==============================] - 1741s 5s/step - loss: 0.0434 - accuracy: 0.9868 - f1_score: 0.4063 - precision: 0.2550 - recall: 1.0000 - val_loss: 0.2069 - val_accuracy: 0.9397 - val_f1_score: 0.4113 - val_precision: 0.2590 - val_recall: 0.9983\n",
      "Epoch 16/25\n",
      "329/329 [==============================] - 1726s 5s/step - loss: 0.0257 - accuracy: 0.9928 - f1_score: 0.4066 - precision: 0.2552 - recall: 1.0000 - val_loss: 0.2093 - val_accuracy: 0.9428 - val_f1_score: 0.4086 - val_precision: 0.2569 - val_recall: 0.9990\n",
      "Epoch 17/25\n",
      "329/329 [==============================] - 1836s 6s/step - loss: 0.0153 - accuracy: 0.9957 - f1_score: 0.4065 - precision: 0.2551 - recall: 1.0000 - val_loss: 0.1896 - val_accuracy: 0.9502 - val_f1_score: 0.4093 - val_precision: 0.2574 - val_recall: 0.9993\n",
      "Epoch 18/25\n",
      "329/329 [==============================] - 2090s 6s/step - loss: 0.0088 - accuracy: 0.9982 - f1_score: 0.4071 - precision: 0.2556 - recall: 1.0000 - val_loss: 0.1713 - val_accuracy: 0.9552 - val_f1_score: 0.4079 - val_precision: 0.2563 - val_recall: 0.9990\n",
      "Epoch 19/25\n",
      "329/329 [==============================] - 2026s 6s/step - loss: 0.0043 - accuracy: 0.9994 - f1_score: 0.4076 - precision: 0.2560 - recall: 1.0000 - val_loss: 0.1669 - val_accuracy: 0.9566 - val_f1_score: 0.4094 - val_precision: 0.2575 - val_recall: 0.9990\n",
      "Epoch 20/25\n",
      "329/329 [==============================] - 2014s 6s/step - loss: 0.0024 - accuracy: 0.9999 - f1_score: 0.4074 - precision: 0.2558 - recall: 1.0000 - val_loss: 0.1664 - val_accuracy: 0.9576 - val_f1_score: 0.4096 - val_precision: 0.2576 - val_recall: 0.9993\n",
      "Epoch 21/25\n",
      "329/329 [==============================] - 2051s 6s/step - loss: 0.0013 - accuracy: 1.0000 - f1_score: 0.4080 - precision: 0.2564 - recall: 1.0000 - val_loss: 0.1612 - val_accuracy: 0.9603 - val_f1_score: 0.4094 - val_precision: 0.2575 - val_recall: 0.9993\n",
      "Epoch 22/25\n",
      "329/329 [==============================] - 2058s 6s/step - loss: 9.2186e-04 - accuracy: 1.0000 - f1_score: 0.4081 - precision: 0.2564 - recall: 1.0000 - val_loss: 0.1620 - val_accuracy: 0.9603 - val_f1_score: 0.4093 - val_precision: 0.2574 - val_recall: 0.9993\n",
      "Epoch 23/25\n",
      "329/329 [==============================] - 2116s 6s/step - loss: 7.6094e-04 - accuracy: 1.0000 - f1_score: 0.4082 - precision: 0.2565 - recall: 1.0000 - val_loss: 0.1629 - val_accuracy: 0.9609 - val_f1_score: 0.4091 - val_precision: 0.2573 - val_recall: 0.9993\n",
      "Epoch 24/25\n",
      "329/329 [==============================] - 2094s 6s/step - loss: 6.6710e-04 - accuracy: 1.0000 - f1_score: 0.4085 - precision: 0.2567 - recall: 1.0000 - val_loss: 0.1638 - val_accuracy: 0.9616 - val_f1_score: 0.4094 - val_precision: 0.2575 - val_recall: 0.9993\n",
      "Epoch 25/25\n",
      "329/329 [==============================] - 1716s 5s/step - loss: 6.0127e-04 - accuracy: 1.0000 - f1_score: 0.4087 - precision: 0.2569 - recall: 1.0000 - val_loss: 0.1647 - val_accuracy: 0.9613 - val_f1_score: 0.4097 - val_precision: 0.2577 - val_recall: 0.9993\n"
     ]
    }
   ],
   "source": [
    "model_regnetx004.trainable = True\n",
    "fine_tune_at = int(len(model_regnetx004.layers)*0.7)\n",
    "for layer in model_regnetx004.layers[:fine_tune_at]:\n",
    "    layer.trainble = False\n",
    "    \n",
    "regnetx004.compile(optimizer=keras.optimizers.SGD(learning_rate=1e-2, momentum=0.9, decay=1e-2/fine_tune_epochs),\n",
    "              loss=keras.losses.CategoricalCrossentropy(from_logits=True),\n",
    "              metrics=['accuracy', f1_score, precision, recall])\n",
    "\n",
    "history_regnetx004_fine = regnetx004.fit(train_batches,\n",
    "                    epochs=total_epochs,\n",
    "                    initial_epoch=history_regnetx004.epoch[-1],\n",
    "                    validation_data=val_batches, \n",
    "                    verbose=1,\n",
    "                    shuffle=True)"
   ]
  },
  {
   "cell_type": "code",
   "execution_count": 30,
   "metadata": {},
   "outputs": [
    {
     "name": "stdout",
     "output_type": "stream",
     "text": [
      "95/95 - 16s - 16s/epoch - 172ms/step\n"
     ]
    },
    {
     "data": {
      "text/plain": [
       "(0.9641791044776119, 0.9641392755341324, 0.9641791044776119, 0.964123742001244)"
      ]
     },
     "execution_count": 30,
     "metadata": {},
     "output_type": "execute_result"
    }
   ],
   "source": [
    "metric_calc(regnetx004)"
   ]
  },
  {
   "cell_type": "code",
   "execution_count": 31,
   "metadata": {},
   "outputs": [
    {
     "name": "stdout",
     "output_type": "stream",
     "text": [
      "95/95 - 13s - loss: 0.1535 - accuracy: 0.9642 - f1_score: 0.4097 - precision: 0.2577 - recall: 0.9995 - 13s/epoch - 140ms/step\n"
     ]
    }
   ],
   "source": [
    "test_loss, test_acc, test_f1, test_prec, test_rec = regnetx004.evaluate(test_batches, verbose=2)"
   ]
  },
  {
   "cell_type": "code",
   "execution_count": 32,
   "metadata": {},
   "outputs": [
    {
     "name": "stderr",
     "output_type": "stream",
     "text": [
      "WARNING:absl:Found untraced functions such as _jit_compiled_convolution_op, _jit_compiled_convolution_op, _jit_compiled_convolution_op, _jit_compiled_convolution_op, _jit_compiled_convolution_op while saving (showing 5 of 49). These functions will not be directly callable after loading.\n"
     ]
    },
    {
     "name": "stdout",
     "output_type": "stream",
     "text": [
      "INFO:tensorflow:Assets written to: models/regnetx004_weights\\assets\n"
     ]
    },
    {
     "name": "stderr",
     "output_type": "stream",
     "text": [
      "INFO:tensorflow:Assets written to: models/regnetx004_weights\\assets\n"
     ]
    }
   ],
   "source": [
    "regnetx004.save(\"models/regnetx004_weights\")"
   ]
  },
  {
   "cell_type": "markdown",
   "metadata": {},
   "source": [
    "# RegNetX006"
   ]
  },
  {
   "cell_type": "code",
   "execution_count": 12,
   "metadata": {},
   "outputs": [
    {
     "name": "stdout",
     "output_type": "stream",
     "text": [
      "Epoch 1/10\n",
      "329/329 [==============================] - 75s 217ms/step - loss: 10.0199 - accuracy: 0.1722 - f1_score: 0.1983 - precision: 0.1166 - recall: 0.6729 - val_loss: 8.4986 - val_accuracy: 0.1559 - val_f1_score: 0.2205 - val_precision: 0.1321 - val_recall: 0.6661\n",
      "Epoch 2/10\n",
      "329/329 [==============================] - 71s 215ms/step - loss: 2.6874 - accuracy: 0.3153 - f1_score: 0.2638 - precision: 0.1582 - recall: 0.7976 - val_loss: 2.4879 - val_accuracy: 0.2471 - val_f1_score: 0.2631 - val_precision: 0.1591 - val_recall: 0.7594\n",
      "Epoch 3/10\n",
      "329/329 [==============================] - 71s 214ms/step - loss: 1.8625 - accuracy: 0.3879 - f1_score: 0.2866 - precision: 0.1725 - recall: 0.8506 - val_loss: 2.2196 - val_accuracy: 0.3636 - val_f1_score: 0.2553 - val_precision: 0.1544 - val_recall: 0.7367\n",
      "Epoch 4/10\n",
      "329/329 [==============================] - 71s 215ms/step - loss: 1.7573 - accuracy: 0.4134 - f1_score: 0.2935 - precision: 0.1767 - recall: 0.8674 - val_loss: 2.0551 - val_accuracy: 0.3111 - val_f1_score: 0.3086 - val_precision: 0.1890 - val_recall: 0.8414\n",
      "Epoch 5/10\n",
      "329/329 [==============================] - 70s 214ms/step - loss: 1.6190 - accuracy: 0.4459 - f1_score: 0.3014 - precision: 0.1816 - recall: 0.8879 - val_loss: 2.2937 - val_accuracy: 0.2859 - val_f1_score: 0.2843 - val_precision: 0.1721 - val_recall: 0.8180\n",
      "Epoch 6/10\n",
      "329/329 [==============================] - 70s 214ms/step - loss: 1.5355 - accuracy: 0.4673 - f1_score: 0.3069 - precision: 0.1849 - recall: 0.9036 - val_loss: 2.0103 - val_accuracy: 0.3253 - val_f1_score: 0.2886 - val_precision: 0.1735 - val_recall: 0.8589\n",
      "Epoch 7/10\n",
      "329/329 [==============================] - 70s 214ms/step - loss: 1.5050 - accuracy: 0.4775 - f1_score: 0.3081 - precision: 0.1856 - recall: 0.9074 - val_loss: 1.8101 - val_accuracy: 0.3717 - val_f1_score: 0.3068 - val_precision: 0.1858 - val_recall: 0.8785\n",
      "Epoch 8/10\n",
      "329/329 [==============================] - 70s 214ms/step - loss: 1.4706 - accuracy: 0.4923 - f1_score: 0.3100 - precision: 0.1868 - recall: 0.9106 - val_loss: 1.7289 - val_accuracy: 0.4010 - val_f1_score: 0.3054 - val_precision: 0.1858 - val_recall: 0.8584\n",
      "Epoch 9/10\n",
      "329/329 [==============================] - 70s 214ms/step - loss: 1.4295 - accuracy: 0.5067 - f1_score: 0.3118 - precision: 0.1879 - recall: 0.9164 - val_loss: 1.7211 - val_accuracy: 0.4030 - val_f1_score: 0.3105 - val_precision: 0.1893 - val_recall: 0.8647\n",
      "Epoch 10/10\n",
      "329/329 [==============================] - 70s 213ms/step - loss: 1.3957 - accuracy: 0.5176 - f1_score: 0.3135 - precision: 0.1889 - recall: 0.9223 - val_loss: 1.6584 - val_accuracy: 0.4158 - val_f1_score: 0.3142 - val_precision: 0.1914 - val_recall: 0.8770\n"
     ]
    }
   ],
   "source": [
    "model_regnetx006 = tf.keras.applications.regnet.RegNetX006(input_shape=input_shape+(3,), include_top=False, \n",
    "                                               include_preprocessing=False, weights='imagenet')\n",
    "model_regnetx006.trainable = False\n",
    "\n",
    "regnetx006 = keras.Sequential([\n",
    "    model_regnetx006,\n",
    "    keras.layers.GlobalAveragePooling2D(),\n",
    "    keras.layers.Dense(len(labels))                  \n",
    "])\n",
    "\n",
    "regnetx006.compile(optimizer=tf.keras.optimizers.legacy.SGD(learning_rate=1e-2, momentum=0.9, decay=1e-2/epoch),\n",
    "              loss=keras.losses.CategoricalCrossentropy(from_logits=True),\n",
    "              metrics=['accuracy', f1_score, precision, recall])\n",
    "\n",
    "history_regnetx006 = regnetx006.fit(train_batches,\n",
    "                    epochs=epoch,\n",
    "                    validation_data=val_batches, \n",
    "                    verbose=1,\n",
    "                    shuffle=True)"
   ]
  },
  {
   "cell_type": "code",
   "execution_count": 13,
   "metadata": {},
   "outputs": [
    {
     "name": "stdout",
     "output_type": "stream",
     "text": [
      "Epoch 10/25\n",
      "329/329 [==============================] - 1590s 5s/step - loss: 0.7808 - accuracy: 0.7467 - f1_score: 0.4011 - precision: 0.2536 - recall: 0.9590 - val_loss: 0.3376 - val_accuracy: 0.8785 - val_f1_score: 0.4211 - val_precision: 0.2670 - val_recall: 0.9960\n",
      "Epoch 11/25\n",
      "329/329 [==============================] - 1590s 5s/step - loss: 0.2345 - accuracy: 0.9176 - f1_score: 0.4253 - precision: 0.2703 - recall: 0.9979 - val_loss: 0.1974 - val_accuracy: 0.9337 - val_f1_score: 0.4208 - val_precision: 0.2666 - val_recall: 0.9983\n",
      "Epoch 12/25\n",
      "329/329 [==============================] - 1582s 5s/step - loss: 0.1138 - accuracy: 0.9603 - f1_score: 0.4272 - precision: 0.2717 - recall: 0.9996 - val_loss: 0.1578 - val_accuracy: 0.9458 - val_f1_score: 0.4308 - val_precision: 0.2747 - val_recall: 0.9983\n",
      "Epoch 13/25\n",
      "329/329 [==============================] - 1578s 5s/step - loss: 0.0599 - accuracy: 0.9801 - f1_score: 0.4276 - precision: 0.2720 - recall: 0.9998 - val_loss: 0.1331 - val_accuracy: 0.9559 - val_f1_score: 0.4339 - val_precision: 0.2772 - val_recall: 0.9993\n",
      "Epoch 14/25\n",
      "329/329 [==============================] - 1586s 5s/step - loss: 0.0285 - accuracy: 0.9919 - f1_score: 0.4302 - precision: 0.2741 - recall: 1.0000 - val_loss: 0.1261 - val_accuracy: 0.9589 - val_f1_score: 0.4352 - val_precision: 0.2782 - val_recall: 0.9997\n",
      "Epoch 15/25\n",
      "329/329 [==============================] - 1580s 5s/step - loss: 0.0158 - accuracy: 0.9963 - f1_score: 0.4303 - precision: 0.2742 - recall: 1.0000 - val_loss: 0.1093 - val_accuracy: 0.9687 - val_f1_score: 0.4347 - val_precision: 0.2778 - val_recall: 0.9990\n",
      "Epoch 16/25\n",
      "329/329 [==============================] - 1583s 5s/step - loss: 0.0072 - accuracy: 0.9986 - f1_score: 0.4306 - precision: 0.2745 - recall: 1.0000 - val_loss: 0.1439 - val_accuracy: 0.9606 - val_f1_score: 0.4315 - val_precision: 0.2752 - val_recall: 0.9990\n",
      "Epoch 17/25\n",
      "329/329 [==============================] - 1590s 5s/step - loss: 0.0031 - accuracy: 0.9998 - f1_score: 0.4302 - precision: 0.2741 - recall: 1.0000 - val_loss: 0.1077 - val_accuracy: 0.9710 - val_f1_score: 0.4346 - val_precision: 0.2778 - val_recall: 0.9990\n",
      "Epoch 18/25\n",
      "329/329 [==============================] - 1592s 5s/step - loss: 0.0015 - accuracy: 1.0000 - f1_score: 0.4308 - precision: 0.2746 - recall: 1.0000 - val_loss: 0.1039 - val_accuracy: 0.9721 - val_f1_score: 0.4348 - val_precision: 0.2779 - val_recall: 0.9993\n",
      "Epoch 19/25\n",
      "329/329 [==============================] - 1592s 5s/step - loss: 0.0011 - accuracy: 1.0000 - f1_score: 0.4309 - precision: 0.2747 - recall: 1.0000 - val_loss: 0.1041 - val_accuracy: 0.9717 - val_f1_score: 0.4352 - val_precision: 0.2782 - val_recall: 0.9993\n",
      "Epoch 20/25\n",
      "329/329 [==============================] - 1578s 5s/step - loss: 8.9405e-04 - accuracy: 1.0000 - f1_score: 0.4312 - precision: 0.2749 - recall: 1.0000 - val_loss: 0.1048 - val_accuracy: 0.9721 - val_f1_score: 0.4357 - val_precision: 0.2786 - val_recall: 0.9993\n",
      "Epoch 21/25\n",
      "329/329 [==============================] - 1565s 5s/step - loss: 7.7822e-04 - accuracy: 1.0000 - f1_score: 0.4315 - precision: 0.2751 - recall: 1.0000 - val_loss: 0.1056 - val_accuracy: 0.9721 - val_f1_score: 0.4360 - val_precision: 0.2789 - val_recall: 0.9993\n",
      "Epoch 22/25\n",
      "329/329 [==============================] - 1563s 5s/step - loss: 6.9590e-04 - accuracy: 1.0000 - f1_score: 0.4316 - precision: 0.2753 - recall: 1.0000 - val_loss: 0.1062 - val_accuracy: 0.9727 - val_f1_score: 0.4363 - val_precision: 0.2792 - val_recall: 0.9993\n",
      "Epoch 23/25\n",
      "329/329 [==============================] - 1558s 5s/step - loss: 6.3335e-04 - accuracy: 1.0000 - f1_score: 0.4320 - precision: 0.2755 - recall: 1.0000 - val_loss: 0.1069 - val_accuracy: 0.9727 - val_f1_score: 0.4368 - val_precision: 0.2795 - val_recall: 0.9993\n",
      "Epoch 24/25\n",
      "329/329 [==============================] - 1562s 5s/step - loss: 5.8402e-04 - accuracy: 1.0000 - f1_score: 0.4322 - precision: 0.2758 - recall: 1.0000 - val_loss: 0.1074 - val_accuracy: 0.9727 - val_f1_score: 0.4372 - val_precision: 0.2799 - val_recall: 0.9993\n",
      "Epoch 25/25\n",
      "329/329 [==============================] - 1563s 5s/step - loss: 5.4401e-04 - accuracy: 1.0000 - f1_score: 0.4324 - precision: 0.2759 - recall: 1.0000 - val_loss: 0.1079 - val_accuracy: 0.9727 - val_f1_score: 0.4374 - val_precision: 0.2801 - val_recall: 0.9993\n"
     ]
    }
   ],
   "source": [
    "model_regnetx006.trainable = True\n",
    "fine_tune_at = int(len(model_regnetx006.layers)*0.7)\n",
    "for layer in model_regnetx006.layers[:fine_tune_at]:\n",
    "    layer.trainble = False\n",
    "    \n",
    "regnetx006.compile(optimizer=keras.optimizers.SGD(learning_rate=1e-2, momentum=0.9, decay=1e-2/fine_tune_epochs),\n",
    "              loss=keras.losses.CategoricalCrossentropy(from_logits=True),\n",
    "              metrics=['accuracy', f1_score, precision, recall])\n",
    "\n",
    "history_regnetx006_fine = regnetx006.fit(train_batches,\n",
    "                    epochs=total_epochs,\n",
    "                    initial_epoch=history_regnetx006.epoch[-1],\n",
    "                    validation_data=val_batches, \n",
    "                    verbose=1,\n",
    "                    shuffle=True)"
   ]
  },
  {
   "cell_type": "code",
   "execution_count": 14,
   "metadata": {},
   "outputs": [
    {
     "name": "stdout",
     "output_type": "stream",
     "text": [
      "95/95 - 19s - 19s/epoch - 203ms/step\n"
     ]
    },
    {
     "data": {
      "text/plain": [
       "(0.9703150912106135,\n",
       " 0.9703389094199214,\n",
       " 0.9703150912106135,\n",
       " 0.9702828484728316)"
      ]
     },
     "execution_count": 14,
     "metadata": {},
     "output_type": "execute_result"
    }
   ],
   "source": [
    "metric_calc(regnetx006)"
   ]
  },
  {
   "cell_type": "code",
   "execution_count": 15,
   "metadata": {},
   "outputs": [
    {
     "name": "stdout",
     "output_type": "stream",
     "text": [
      "95/95 - 15s - loss: 0.1161 - accuracy: 0.9703 - f1_score: 0.4361 - precision: 0.2790 - recall: 0.9990 - 15s/epoch - 161ms/step\n"
     ]
    }
   ],
   "source": [
    "test_loss, test_acc, test_f1, test_prec, test_rec = regnetx006.evaluate(test_batches, verbose=2)"
   ]
  },
  {
   "cell_type": "code",
   "execution_count": 16,
   "metadata": {},
   "outputs": [
    {
     "name": "stderr",
     "output_type": "stream",
     "text": [
      "WARNING:absl:Found untraced functions such as _jit_compiled_convolution_op, _jit_compiled_convolution_op, _jit_compiled_convolution_op, _jit_compiled_convolution_op, _jit_compiled_convolution_op while saving (showing 5 of 37). These functions will not be directly callable after loading.\n"
     ]
    },
    {
     "name": "stdout",
     "output_type": "stream",
     "text": [
      "INFO:tensorflow:Assets written to: models/regnetx006_weights\\assets\n"
     ]
    },
    {
     "name": "stderr",
     "output_type": "stream",
     "text": [
      "INFO:tensorflow:Assets written to: models/regnetx006_weights\\assets\n"
     ]
    }
   ],
   "source": [
    "regnetx006.save(\"models/regnetx006_weights\")"
   ]
  },
  {
   "cell_type": "markdown",
   "metadata": {},
   "source": [
    "# RegNetY002"
   ]
  },
  {
   "cell_type": "code",
   "execution_count": 19,
   "metadata": {},
   "outputs": [
    {
     "name": "stdout",
     "output_type": "stream",
     "text": [
      "Epoch 1/10\n",
      "329/329 [==============================] - 45s 126ms/step - loss: 2.1973 - accuracy: 0.2028 - f1_score: 0.1655 - precision: 0.2107 - recall: 0.1607 - val_loss: 2.1019 - val_accuracy: 0.2620 - val_f1_score: 0.2822 - val_precision: 0.2464 - val_recall: 0.3329\n",
      "Epoch 2/10\n",
      "329/329 [==============================] - 38s 117ms/step - loss: 2.0542 - accuracy: 0.2952 - f1_score: 0.3084 - precision: 0.2425 - recall: 0.4302 - val_loss: 2.0215 - val_accuracy: 0.2916 - val_f1_score: 0.3228 - val_precision: 0.2382 - val_recall: 0.5037\n",
      "Epoch 3/10\n",
      "329/329 [==============================] - 39s 117ms/step - loss: 1.9884 - accuracy: 0.3308 - f1_score: 0.3302 - precision: 0.2388 - recall: 0.5379 - val_loss: 1.9745 - val_accuracy: 0.3155 - val_f1_score: 0.3321 - val_precision: 0.2341 - val_recall: 0.5739\n",
      "Epoch 4/10\n",
      "329/329 [==============================] - 39s 118ms/step - loss: 1.9465 - accuracy: 0.3501 - f1_score: 0.3372 - precision: 0.2362 - recall: 0.5913 - val_loss: 1.9415 - val_accuracy: 0.3343 - val_f1_score: 0.3371 - val_precision: 0.2324 - val_recall: 0.6155\n",
      "Epoch 5/10\n",
      "329/329 [==============================] - 38s 117ms/step - loss: 1.9162 - accuracy: 0.3646 - f1_score: 0.3405 - precision: 0.2344 - recall: 0.6248 - val_loss: 1.9165 - val_accuracy: 0.3512 - val_f1_score: 0.3400 - val_precision: 0.2317 - val_recall: 0.6406\n",
      "Epoch 6/10\n",
      "329/329 [==============================] - 38s 117ms/step - loss: 1.8928 - accuracy: 0.3727 - f1_score: 0.3435 - precision: 0.2339 - recall: 0.6484 - val_loss: 1.8966 - val_accuracy: 0.3596 - val_f1_score: 0.3410 - val_precision: 0.2304 - val_recall: 0.6578\n",
      "Epoch 7/10\n",
      "329/329 [==============================] - 38s 117ms/step - loss: 1.8740 - accuracy: 0.3815 - f1_score: 0.3462 - precision: 0.2339 - recall: 0.6677 - val_loss: 1.8803 - val_accuracy: 0.3643 - val_f1_score: 0.3427 - val_precision: 0.2301 - val_recall: 0.6728\n",
      "Epoch 8/10\n",
      "329/329 [==============================] - 39s 118ms/step - loss: 1.8584 - accuracy: 0.3873 - f1_score: 0.3474 - precision: 0.2335 - recall: 0.6806 - val_loss: 1.8666 - val_accuracy: 0.3737 - val_f1_score: 0.3433 - val_precision: 0.2293 - val_recall: 0.6848\n",
      "Epoch 9/10\n",
      "329/329 [==============================] - 38s 117ms/step - loss: 1.8452 - accuracy: 0.3927 - f1_score: 0.3487 - precision: 0.2333 - recall: 0.6922 - val_loss: 1.8549 - val_accuracy: 0.3785 - val_f1_score: 0.3451 - val_precision: 0.2296 - val_recall: 0.6961\n",
      "Epoch 10/10\n",
      "329/329 [==============================] - 38s 117ms/step - loss: 1.8337 - accuracy: 0.3969 - f1_score: 0.3490 - precision: 0.2327 - recall: 0.6998 - val_loss: 1.8446 - val_accuracy: 0.3825 - val_f1_score: 0.3477 - val_precision: 0.2307 - val_recall: 0.7074\n"
     ]
    }
   ],
   "source": [
    "model_regnety002 = tf.keras.applications.regnet.RegNetY002(input_shape=input_shape+(3,), include_top=False, \n",
    "                                               include_preprocessing=False, weights='imagenet')\n",
    "model_regnety002.trainable = False\n",
    "\n",
    "regnety002 = keras.Sequential([\n",
    "    model_regnety002,\n",
    "    keras.layers.GlobalAveragePooling2D(),\n",
    "    keras.layers.Dense(len(labels))                  \n",
    "])\n",
    "\n",
    "regnety002.compile(optimizer=tf.keras.optimizers.legacy.SGD(learning_rate=1e-2, momentum=0.9, decay=1e-2/epoch),\n",
    "              loss=keras.losses.CategoricalCrossentropy(from_logits=True),\n",
    "              metrics=['accuracy', f1_score, precision, recall])\n",
    "\n",
    "history_regnety002 = regnety002.fit(train_batches,\n",
    "                    epochs=epoch,\n",
    "                    validation_data=val_batches, \n",
    "                    verbose=1,\n",
    "                    shuffle=True)"
   ]
  },
  {
   "cell_type": "code",
   "execution_count": 20,
   "metadata": {},
   "outputs": [
    {
     "name": "stdout",
     "output_type": "stream",
     "text": [
      "Epoch 10/25\n",
      "329/329 [==============================] - 1799s 5s/step - loss: 1.3935 - accuracy: 0.5120 - f1_score: 0.3409 - precision: 0.2181 - recall: 0.8268 - val_loss: 1.2636 - val_accuracy: 0.5380 - val_f1_score: 0.3504 - val_precision: 0.2155 - val_recall: 0.9377\n",
      "Epoch 11/25\n",
      "329/329 [==============================] - 1800s 5s/step - loss: 0.6894 - accuracy: 0.7591 - f1_score: 0.3527 - precision: 0.2148 - recall: 0.9858 - val_loss: 0.6059 - val_accuracy: 0.7889 - val_f1_score: 0.3534 - val_precision: 0.2151 - val_recall: 0.9900\n",
      "Epoch 12/25\n",
      "329/329 [==============================] - 1822s 6s/step - loss: 0.4760 - accuracy: 0.8333 - f1_score: 0.3553 - precision: 0.2163 - recall: 0.9936 - val_loss: 0.4667 - val_accuracy: 0.8370 - val_f1_score: 0.3610 - val_precision: 0.2207 - val_recall: 0.9930\n",
      "Epoch 13/25\n",
      "329/329 [==============================] - 1828s 6s/step - loss: 0.3561 - accuracy: 0.8789 - f1_score: 0.3588 - precision: 0.2188 - recall: 0.9967 - val_loss: 0.4168 - val_accuracy: 0.8545 - val_f1_score: 0.3569 - val_precision: 0.2175 - val_recall: 0.9950\n",
      "Epoch 14/25\n",
      "329/329 [==============================] - 1799s 5s/step - loss: 0.2851 - accuracy: 0.9068 - f1_score: 0.3606 - precision: 0.2201 - recall: 0.9976 - val_loss: 0.3738 - val_accuracy: 0.8684 - val_f1_score: 0.3639 - val_precision: 0.2227 - val_recall: 0.9950\n",
      "Epoch 15/25\n",
      "329/329 [==============================] - 1791s 5s/step - loss: 0.2382 - accuracy: 0.9237 - f1_score: 0.3614 - precision: 0.2207 - recall: 0.9982 - val_loss: 0.3361 - val_accuracy: 0.8848 - val_f1_score: 0.3615 - val_precision: 0.2208 - val_recall: 0.9967\n",
      "Epoch 16/25\n",
      "329/329 [==============================] - 1818s 6s/step - loss: 0.2050 - accuracy: 0.9370 - f1_score: 0.3619 - precision: 0.2210 - recall: 0.9991 - val_loss: 0.3210 - val_accuracy: 0.8882 - val_f1_score: 0.3626 - val_precision: 0.2216 - val_recall: 0.9967\n",
      "Epoch 17/25\n",
      "329/329 [==============================] - 1811s 6s/step - loss: 0.1793 - accuracy: 0.9474 - f1_score: 0.3625 - precision: 0.2214 - recall: 0.9994 - val_loss: 0.3114 - val_accuracy: 0.8882 - val_f1_score: 0.3628 - val_precision: 0.2218 - val_recall: 0.9967\n",
      "Epoch 18/25\n",
      "329/329 [==============================] - 1791s 5s/step - loss: 0.1590 - accuracy: 0.9545 - f1_score: 0.3626 - precision: 0.2215 - recall: 0.9994 - val_loss: 0.3065 - val_accuracy: 0.8919 - val_f1_score: 0.3625 - val_precision: 0.2215 - val_recall: 0.9967\n",
      "Epoch 19/25\n",
      "329/329 [==============================] - 1778s 5s/step - loss: 0.1425 - accuracy: 0.9613 - f1_score: 0.3627 - precision: 0.2216 - recall: 0.9996 - val_loss: 0.2997 - val_accuracy: 0.8976 - val_f1_score: 0.3625 - val_precision: 0.2215 - val_recall: 0.9970\n",
      "Epoch 20/25\n",
      "329/329 [==============================] - 1842s 6s/step - loss: 0.1289 - accuracy: 0.9670 - f1_score: 0.3630 - precision: 0.2218 - recall: 0.9996 - val_loss: 0.2990 - val_accuracy: 0.8973 - val_f1_score: 0.3627 - val_precision: 0.2217 - val_recall: 0.9973\n",
      "Epoch 21/25\n",
      "329/329 [==============================] - 1869s 6s/step - loss: 0.1174 - accuracy: 0.9716 - f1_score: 0.3630 - precision: 0.2218 - recall: 0.9996 - val_loss: 0.2984 - val_accuracy: 0.8960 - val_f1_score: 0.3628 - val_precision: 0.2217 - val_recall: 0.9973\n",
      "Epoch 22/25\n",
      "329/329 [==============================] - 1803s 5s/step - loss: 0.1077 - accuracy: 0.9746 - f1_score: 0.3630 - precision: 0.2218 - recall: 0.9996 - val_loss: 0.2970 - val_accuracy: 0.8980 - val_f1_score: 0.3617 - val_precision: 0.2210 - val_recall: 0.9970\n",
      "Epoch 23/25\n",
      "329/329 [==============================] - 1812s 6s/step - loss: 0.0995 - accuracy: 0.9774 - f1_score: 0.3631 - precision: 0.2219 - recall: 0.9997 - val_loss: 0.3098 - val_accuracy: 0.8933 - val_f1_score: 0.3602 - val_precision: 0.2198 - val_recall: 0.9970\n",
      "Epoch 24/25\n",
      "329/329 [==============================] - 1788s 5s/step - loss: 0.0923 - accuracy: 0.9807 - f1_score: 0.3633 - precision: 0.2220 - recall: 0.9997 - val_loss: 0.3069 - val_accuracy: 0.8939 - val_f1_score: 0.3605 - val_precision: 0.2200 - val_recall: 0.9970\n",
      "Epoch 25/25\n",
      "329/329 [==============================] - 1765s 5s/step - loss: 0.0860 - accuracy: 0.9829 - f1_score: 0.3632 - precision: 0.2220 - recall: 0.9998 - val_loss: 0.3138 - val_accuracy: 0.8919 - val_f1_score: 0.3598 - val_precision: 0.2195 - val_recall: 0.9970\n"
     ]
    }
   ],
   "source": [
    "model_regnety002.trainable = True\n",
    "fine_tune_at = int(len(model_regnety002.layers)*0.7)\n",
    "for layer in model_regnety002.layers[:fine_tune_at]:\n",
    "    layer.trainble = False\n",
    "    \n",
    "regnety002.compile(optimizer=keras.optimizers.SGD(learning_rate=1e-2, momentum=0.9, decay=1e-2/fine_tune_epochs),\n",
    "              loss=keras.losses.CategoricalCrossentropy(from_logits=True),\n",
    "              metrics=['accuracy', f1_score, precision, recall])\n",
    "\n",
    "history_regnety002_fine = regnety002.fit(train_batches,\n",
    "                    epochs=total_epochs,\n",
    "                    initial_epoch=history_regnety002.epoch[-1],\n",
    "                    validation_data=val_batches, \n",
    "                    verbose=1,\n",
    "                    shuffle=True)"
   ]
  },
  {
   "cell_type": "code",
   "execution_count": 21,
   "metadata": {},
   "outputs": [
    {
     "name": "stdout",
     "output_type": "stream",
     "text": [
      "95/95 - 12s - 12s/epoch - 127ms/step\n"
     ]
    },
    {
     "data": {
      "text/plain": [
       "(0.896849087893864, 0.8995198741961693, 0.896849087893864, 0.8975075976650394)"
      ]
     },
     "execution_count": 21,
     "metadata": {},
     "output_type": "execute_result"
    }
   ],
   "source": [
    "metric_calc(regnety002)"
   ]
  },
  {
   "cell_type": "code",
   "execution_count": 22,
   "metadata": {},
   "outputs": [
    {
     "name": "stdout",
     "output_type": "stream",
     "text": [
      "95/95 - 10s - loss: 0.3266 - accuracy: 0.8968 - f1_score: 0.3597 - precision: 0.2195 - recall: 0.9969 - 10s/epoch - 101ms/step\n"
     ]
    }
   ],
   "source": [
    "test_loss, test_acc, test_f1, test_prec, test_rec = regnety002.evaluate(test_batches, verbose=2)"
   ]
  },
  {
   "cell_type": "code",
   "execution_count": 23,
   "metadata": {},
   "outputs": [
    {
     "name": "stderr",
     "output_type": "stream",
     "text": [
      "WARNING:absl:Found untraced functions such as _jit_compiled_convolution_op, _jit_compiled_convolution_op, _jit_compiled_convolution_op, _jit_compiled_convolution_op, _jit_compiled_convolution_op while saving (showing 5 of 57). These functions will not be directly callable after loading.\n"
     ]
    },
    {
     "name": "stdout",
     "output_type": "stream",
     "text": [
      "INFO:tensorflow:Assets written to: models/regnety002_weights\\assets\n"
     ]
    },
    {
     "name": "stderr",
     "output_type": "stream",
     "text": [
      "INFO:tensorflow:Assets written to: models/regnety002_weights\\assets\n"
     ]
    }
   ],
   "source": [
    "regnety002.save(\"models/regnety002_weights\")"
   ]
  },
  {
   "cell_type": "markdown",
   "metadata": {},
   "source": [
    "# RegNetY004"
   ]
  },
  {
   "cell_type": "code",
   "execution_count": 13,
   "metadata": {},
   "outputs": [
    {
     "name": "stdout",
     "output_type": "stream",
     "text": [
      "Epoch 1/10\n",
      "329/329 [==============================] - 81s 218ms/step - loss: 2.1550 - accuracy: 0.2495 - f1_score: 0.2030 - precision: 0.2663 - recall: 0.1875 - val_loss: 2.0522 - val_accuracy: 0.3313 - val_f1_score: 0.3225 - val_precision: 0.2946 - val_recall: 0.3578\n",
      "Epoch 2/10\n",
      "329/329 [==============================] - 69s 209ms/step - loss: 1.9815 - accuracy: 0.3444 - f1_score: 0.3505 - precision: 0.2865 - recall: 0.4587 - val_loss: 1.9534 - val_accuracy: 0.3596 - val_f1_score: 0.3534 - val_precision: 0.2670 - val_recall: 0.5241\n",
      "Epoch 3/10\n",
      "329/329 [==============================] - 69s 209ms/step - loss: 1.8993 - accuracy: 0.3770 - f1_score: 0.3709 - precision: 0.2755 - recall: 0.5707 - val_loss: 1.8959 - val_accuracy: 0.3822 - val_f1_score: 0.3601 - val_precision: 0.2583 - val_recall: 0.5959\n",
      "Epoch 4/10\n",
      "329/329 [==============================] - 69s 210ms/step - loss: 1.8483 - accuracy: 0.3961 - f1_score: 0.3753 - precision: 0.2685 - recall: 0.6254 - val_loss: 1.8569 - val_accuracy: 0.3923 - val_f1_score: 0.3647 - val_precision: 0.2555 - val_recall: 0.6383\n",
      "Epoch 5/10\n",
      "329/329 [==============================] - 69s 210ms/step - loss: 1.8126 - accuracy: 0.4065 - f1_score: 0.3781 - precision: 0.2651 - recall: 0.6611 - val_loss: 1.8279 - val_accuracy: 0.4091 - val_f1_score: 0.3672 - val_precision: 0.2538 - val_recall: 0.6648\n",
      "Epoch 6/10\n",
      "329/329 [==============================] - 69s 209ms/step - loss: 1.7859 - accuracy: 0.4162 - f1_score: 0.3789 - precision: 0.2622 - recall: 0.6847 - val_loss: 1.8053 - val_accuracy: 0.4145 - val_f1_score: 0.3721 - val_precision: 0.2552 - val_recall: 0.6879\n",
      "Epoch 7/10\n",
      "329/329 [==============================] - 68s 208ms/step - loss: 1.7648 - accuracy: 0.4235 - f1_score: 0.3790 - precision: 0.2599 - recall: 0.7014 - val_loss: 1.7871 - val_accuracy: 0.4239 - val_f1_score: 0.3742 - val_precision: 0.2548 - val_recall: 0.7059\n",
      "Epoch 8/10\n",
      "329/329 [==============================] - 68s 207ms/step - loss: 1.7477 - accuracy: 0.4285 - f1_score: 0.3793 - precision: 0.2583 - recall: 0.7144 - val_loss: 1.7721 - val_accuracy: 0.4279 - val_f1_score: 0.3750 - val_precision: 0.2541 - val_recall: 0.7172\n",
      "Epoch 9/10\n",
      "329/329 [==============================] - 68s 207ms/step - loss: 1.7334 - accuracy: 0.4333 - f1_score: 0.3795 - precision: 0.2573 - recall: 0.7246 - val_loss: 1.7594 - val_accuracy: 0.4303 - val_f1_score: 0.3749 - val_precision: 0.2529 - val_recall: 0.7251\n",
      "Epoch 10/10\n",
      "329/329 [==============================] - 68s 208ms/step - loss: 1.7212 - accuracy: 0.4369 - f1_score: 0.3795 - precision: 0.2561 - recall: 0.7334 - val_loss: 1.7486 - val_accuracy: 0.4337 - val_f1_score: 0.3752 - val_precision: 0.2522 - val_recall: 0.7336\n"
     ]
    }
   ],
   "source": [
    "model_regnety004 = tf.keras.applications.regnet.RegNetY004(input_shape=input_shape+(3,), include_top=False, \n",
    "                                               include_preprocessing=False, weights='imagenet')\n",
    "model_regnety004.trainable = False\n",
    "\n",
    "regnety004 = keras.Sequential([\n",
    "    model_regnety004,\n",
    "    keras.layers.GlobalAveragePooling2D(),\n",
    "    keras.layers.Dense(len(labels))                  \n",
    "])\n",
    "\n",
    "regnety004.compile(optimizer=tf.keras.optimizers.legacy.SGD(learning_rate=1e-2, momentum=0.9, decay=1e-2/epoch),\n",
    "              loss=keras.losses.CategoricalCrossentropy(from_logits=True),\n",
    "              metrics=['accuracy', f1_score, precision, recall])\n",
    "\n",
    "history_regnety004 = regnety004.fit(train_batches,\n",
    "                    epochs=epoch,\n",
    "                    validation_data=val_batches, \n",
    "                    verbose=1,\n",
    "                    shuffle=True)"
   ]
  },
  {
   "cell_type": "code",
   "execution_count": 14,
   "metadata": {},
   "outputs": [
    {
     "name": "stdout",
     "output_type": "stream",
     "text": [
      "Epoch 10/25\n",
      "329/329 [==============================] - 3379s 10s/step - loss: 1.4768 - accuracy: 0.4808 - f1_score: 0.3529 - precision: 0.2332 - recall: 0.7636 - val_loss: 0.9131 - val_accuracy: 0.6764 - val_f1_score: 0.3883 - val_precision: 0.2430 - val_recall: 0.9668\n",
      "Epoch 11/25\n",
      "329/329 [==============================] - 3372s 10s/step - loss: 0.6933 - accuracy: 0.7605 - f1_score: 0.3904 - precision: 0.2438 - recall: 0.9798 - val_loss: 0.5845 - val_accuracy: 0.7993 - val_f1_score: 0.3928 - val_precision: 0.2452 - val_recall: 0.9867\n",
      "Epoch 12/25\n",
      "329/329 [==============================] - 3377s 10s/step - loss: 0.4559 - accuracy: 0.8438 - f1_score: 0.3922 - precision: 0.2444 - recall: 0.9925 - val_loss: 0.4690 - val_accuracy: 0.8374 - val_f1_score: 0.3904 - val_precision: 0.2430 - val_recall: 0.9934\n",
      "Epoch 13/25\n",
      "329/329 [==============================] - 3399s 10s/step - loss: 0.3396 - accuracy: 0.8862 - f1_score: 0.3915 - precision: 0.2437 - recall: 0.9955 - val_loss: 0.4024 - val_accuracy: 0.8599 - val_f1_score: 0.3920 - val_precision: 0.2442 - val_recall: 0.9940\n",
      "Epoch 14/25\n",
      "329/329 [==============================] - 3373s 10s/step - loss: 0.2678 - accuracy: 0.9141 - f1_score: 0.3925 - precision: 0.2443 - recall: 0.9972 - val_loss: 0.3650 - val_accuracy: 0.8717 - val_f1_score: 0.3924 - val_precision: 0.2444 - val_recall: 0.9950\n",
      "Epoch 15/25\n",
      "329/329 [==============================] - 3349s 10s/step - loss: 0.2197 - accuracy: 0.9321 - f1_score: 0.3922 - precision: 0.2441 - recall: 0.9980 - val_loss: 0.3412 - val_accuracy: 0.8761 - val_f1_score: 0.3932 - val_precision: 0.2450 - val_recall: 0.9953\n",
      "Epoch 16/25\n",
      "329/329 [==============================] - 3322s 10s/step - loss: 0.1848 - accuracy: 0.9453 - f1_score: 0.3917 - precision: 0.2437 - recall: 0.9986 - val_loss: 0.3160 - val_accuracy: 0.8899 - val_f1_score: 0.3926 - val_precision: 0.2446 - val_recall: 0.9953\n",
      "Epoch 17/25\n",
      "329/329 [==============================] - 3325s 10s/step - loss: 0.1577 - accuracy: 0.9559 - f1_score: 0.3915 - precision: 0.2435 - recall: 0.9990 - val_loss: 0.3069 - val_accuracy: 0.8949 - val_f1_score: 0.3920 - val_precision: 0.2441 - val_recall: 0.9950\n",
      "Epoch 18/25\n",
      "329/329 [==============================] - 3311s 10s/step - loss: 0.1369 - accuracy: 0.9642 - f1_score: 0.3915 - precision: 0.2435 - recall: 0.9994 - val_loss: 0.3006 - val_accuracy: 0.8980 - val_f1_score: 0.3915 - val_precision: 0.2437 - val_recall: 0.9950\n",
      "Epoch 19/25\n",
      "329/329 [==============================] - 3301s 10s/step - loss: 0.1204 - accuracy: 0.9717 - f1_score: 0.3913 - precision: 0.2433 - recall: 0.9995 - val_loss: 0.2939 - val_accuracy: 0.9003 - val_f1_score: 0.3918 - val_precision: 0.2439 - val_recall: 0.9953\n",
      "Epoch 20/25\n",
      "329/329 [==============================] - 3308s 10s/step - loss: 0.1067 - accuracy: 0.9761 - f1_score: 0.3911 - precision: 0.2432 - recall: 0.9995 - val_loss: 0.2895 - val_accuracy: 0.9034 - val_f1_score: 0.3910 - val_precision: 0.2433 - val_recall: 0.9953\n",
      "Epoch 21/25\n",
      "329/329 [==============================] - 3329s 10s/step - loss: 0.0957 - accuracy: 0.9794 - f1_score: 0.3908 - precision: 0.2429 - recall: 0.9996 - val_loss: 0.2859 - val_accuracy: 0.9037 - val_f1_score: 0.3907 - val_precision: 0.2431 - val_recall: 0.9957\n",
      "Epoch 22/25\n",
      "329/329 [==============================] - 3343s 10s/step - loss: 0.0864 - accuracy: 0.9825 - f1_score: 0.3906 - precision: 0.2427 - recall: 0.9997 - val_loss: 0.2839 - val_accuracy: 0.9051 - val_f1_score: 0.3905 - val_precision: 0.2429 - val_recall: 0.9957\n",
      "Epoch 23/25\n",
      "329/329 [==============================] - 3359s 10s/step - loss: 0.0786 - accuracy: 0.9850 - f1_score: 0.3907 - precision: 0.2428 - recall: 0.9998 - val_loss: 0.2825 - val_accuracy: 0.9051 - val_f1_score: 0.3900 - val_precision: 0.2425 - val_recall: 0.9957\n",
      "Epoch 24/25\n",
      "329/329 [==============================] - 3367s 10s/step - loss: 0.0721 - accuracy: 0.9874 - f1_score: 0.3904 - precision: 0.2426 - recall: 0.9998 - val_loss: 0.2815 - val_accuracy: 0.9057 - val_f1_score: 0.3899 - val_precision: 0.2425 - val_recall: 0.9960\n",
      "Epoch 25/25\n",
      "329/329 [==============================] - 3369s 10s/step - loss: 0.0663 - accuracy: 0.9893 - f1_score: 0.3903 - precision: 0.2425 - recall: 0.9998 - val_loss: 0.2814 - val_accuracy: 0.9057 - val_f1_score: 0.3895 - val_precision: 0.2421 - val_recall: 0.9953\n"
     ]
    }
   ],
   "source": [
    "model_regnety004.trainable = True\n",
    "fine_tune_at = int(len(model_regnety004.layers)*0.7)\n",
    "for layer in model_regnety004.layers[:fine_tune_at]:\n",
    "    layer.trainble = False\n",
    "    \n",
    "regnety004.compile(optimizer=keras.optimizers.SGD(learning_rate=1e-2, momentum=0.9, decay=1e-2/fine_tune_epochs),\n",
    "              loss=keras.losses.CategoricalCrossentropy(from_logits=True),\n",
    "              metrics=['accuracy', f1_score, precision, recall])\n",
    "\n",
    "history_regnety004_fine = regnety004.fit(train_batches,\n",
    "                    epochs=total_epochs,\n",
    "                    initial_epoch=history_regnety004.epoch[-1],\n",
    "                    validation_data=val_batches, \n",
    "                    verbose=1,\n",
    "                    shuffle=True)"
   ]
  },
  {
   "cell_type": "code",
   "execution_count": 15,
   "metadata": {},
   "outputs": [
    {
     "name": "stdout",
     "output_type": "stream",
     "text": [
      "95/95 - 18s - 18s/epoch - 192ms/step\n"
     ]
    },
    {
     "data": {
      "text/plain": [
       "(0.9023217247097844,\n",
       " 0.9024547059342818,\n",
       " 0.9023217247097844,\n",
       " 0.9020754044409172)"
      ]
     },
     "execution_count": 15,
     "metadata": {},
     "output_type": "execute_result"
    }
   ],
   "source": [
    "metric_calc(regnety004)"
   ]
  },
  {
   "cell_type": "code",
   "execution_count": 16,
   "metadata": {},
   "outputs": [
    {
     "name": "stdout",
     "output_type": "stream",
     "text": [
      "95/95 - 16s - loss: 0.2907 - accuracy: 0.9023 - f1_score: 0.3912 - precision: 0.2434 - recall: 0.9964 - 16s/epoch - 172ms/step\n"
     ]
    }
   ],
   "source": [
    "test_loss, test_acc, test_f1, test_prec, test_rec = regnety004.evaluate(test_batches, verbose=2)"
   ]
  },
  {
   "cell_type": "code",
   "execution_count": 17,
   "metadata": {},
   "outputs": [
    {
     "name": "stderr",
     "output_type": "stream",
     "text": [
      "WARNING:absl:Found untraced functions such as _jit_compiled_convolution_op, _jit_compiled_convolution_op, _jit_compiled_convolution_op, _jit_compiled_convolution_op, _jit_compiled_convolution_op while saving (showing 5 of 69). These functions will not be directly callable after loading.\n"
     ]
    },
    {
     "name": "stdout",
     "output_type": "stream",
     "text": [
      "INFO:tensorflow:Assets written to: models/regnety004_weights\\assets\n"
     ]
    },
    {
     "name": "stderr",
     "output_type": "stream",
     "text": [
      "INFO:tensorflow:Assets written to: models/regnety004_weights\\assets\n"
     ]
    }
   ],
   "source": [
    "regnety004.save(\"models/regnety004_weights\")"
   ]
  },
  {
   "cell_type": "markdown",
   "metadata": {},
   "source": [
    "# RegNetY006"
   ]
  },
  {
   "cell_type": "code",
   "execution_count": 12,
   "metadata": {},
   "outputs": [
    {
     "name": "stdout",
     "output_type": "stream",
     "text": [
      "Epoch 1/10\n",
      "329/329 [==============================] - 65s 183ms/step - loss: 2.1120 - accuracy: 0.2365 - f1_score: 0.2652 - precision: 0.1888 - recall: 0.4555 - val_loss: 2.0201 - val_accuracy: 0.2818 - val_f1_score: 0.2993 - val_precision: 0.1970 - val_recall: 0.6234\n",
      "Epoch 2/10\n",
      "329/329 [==============================] - 58s 176ms/step - loss: 1.9135 - accuracy: 0.3283 - f1_score: 0.3271 - precision: 0.2224 - recall: 0.6203 - val_loss: 1.8741 - val_accuracy: 0.3542 - val_f1_score: 0.3312 - val_precision: 0.2188 - val_recall: 0.6809\n",
      "Epoch 3/10\n",
      "329/329 [==============================] - 58s 177ms/step - loss: 1.8207 - accuracy: 0.3719 - f1_score: 0.3484 - precision: 0.2338 - recall: 0.6847 - val_loss: 1.7870 - val_accuracy: 0.3953 - val_f1_score: 0.3505 - val_precision: 0.2305 - val_recall: 0.7318\n",
      "Epoch 4/10\n",
      "329/329 [==============================] - 58s 176ms/step - loss: 1.7629 - accuracy: 0.4000 - f1_score: 0.3590 - precision: 0.2392 - recall: 0.7210 - val_loss: 1.7314 - val_accuracy: 0.4236 - val_f1_score: 0.3631 - val_precision: 0.2383 - val_recall: 0.7637\n",
      "Epoch 5/10\n",
      "329/329 [==============================] - 59s 178ms/step - loss: 1.7225 - accuracy: 0.4199 - f1_score: 0.3653 - precision: 0.2421 - recall: 0.7463 - val_loss: 1.6950 - val_accuracy: 0.4374 - val_f1_score: 0.3711 - val_precision: 0.2432 - val_recall: 0.7838\n",
      "Epoch 6/10\n",
      "329/329 [==============================] - 58s 177ms/step - loss: 1.6920 - accuracy: 0.4335 - f1_score: 0.3684 - precision: 0.2431 - recall: 0.7618 - val_loss: 1.6681 - val_accuracy: 0.4566 - val_f1_score: 0.3756 - val_precision: 0.2459 - val_recall: 0.7961\n",
      "Epoch 7/10\n",
      "329/329 [==============================] - 58s 176ms/step - loss: 1.6677 - accuracy: 0.4440 - f1_score: 0.3710 - precision: 0.2441 - recall: 0.7736 - val_loss: 1.6471 - val_accuracy: 0.4717 - val_f1_score: 0.3786 - val_precision: 0.2476 - val_recall: 0.8041\n",
      "Epoch 8/10\n",
      "329/329 [==============================] - 58s 177ms/step - loss: 1.6479 - accuracy: 0.4538 - f1_score: 0.3728 - precision: 0.2447 - recall: 0.7834 - val_loss: 1.6308 - val_accuracy: 0.4751 - val_f1_score: 0.3802 - val_precision: 0.2484 - val_recall: 0.8107\n",
      "Epoch 9/10\n",
      "329/329 [==============================] - 58s 177ms/step - loss: 1.6313 - accuracy: 0.4620 - f1_score: 0.3739 - precision: 0.2450 - recall: 0.7907 - val_loss: 1.6176 - val_accuracy: 0.4815 - val_f1_score: 0.3802 - val_precision: 0.2480 - val_recall: 0.8154\n",
      "Epoch 10/10\n",
      "329/329 [==============================] - 58s 177ms/step - loss: 1.6171 - accuracy: 0.4678 - f1_score: 0.3747 - precision: 0.2451 - recall: 0.7968 - val_loss: 1.6065 - val_accuracy: 0.4838 - val_f1_score: 0.3805 - val_precision: 0.2479 - val_recall: 0.8187\n"
     ]
    }
   ],
   "source": [
    "model_regnety006 = tf.keras.applications.regnet.RegNetY006(input_shape=input_shape+(3,), include_top=False, \n",
    "                                               include_preprocessing=False, weights='imagenet')\n",
    "model_regnety006.trainable = False\n",
    "\n",
    "regnety006 = keras.Sequential([\n",
    "    model_regnety006,\n",
    "    keras.layers.GlobalAveragePooling2D(),\n",
    "    keras.layers.Dense(len(labels))                  \n",
    "])\n",
    "\n",
    "regnety006.compile(optimizer=tf.keras.optimizers.SGD(learning_rate=1e-2, momentum=0.9, decay=1e-2/epoch),\n",
    "              loss=keras.losses.CategoricalCrossentropy(from_logits=True),\n",
    "              metrics=['accuracy', f1_score, precision, recall])\n",
    "\n",
    "history_regnety006 = regnety006.fit(train_batches,\n",
    "                    epochs=epoch,\n",
    "                    validation_data=val_batches, \n",
    "                    verbose=1,\n",
    "                    shuffle=True)"
   ]
  },
  {
   "cell_type": "code",
   "execution_count": 13,
   "metadata": {},
   "outputs": [
    {
     "name": "stdout",
     "output_type": "stream",
     "text": [
      "Epoch 10/25\n",
      "329/329 [==============================] - 2457s 7s/step - loss: 0.6766 - accuracy: 0.7722 - f1_score: 0.3861 - precision: 0.2416 - recall: 0.9630 - val_loss: 0.3222 - val_accuracy: 0.8832 - val_f1_score: 0.4014 - val_precision: 0.2514 - val_recall: 0.9957\n",
      "Epoch 11/25\n",
      "329/329 [==============================] - 2442s 7s/step - loss: 0.1967 - accuracy: 0.9332 - f1_score: 0.4154 - precision: 0.2623 - recall: 0.9983 - val_loss: 0.1844 - val_accuracy: 0.9391 - val_f1_score: 0.4099 - val_precision: 0.2579 - val_recall: 0.9993\n",
      "Epoch 12/25\n",
      "329/329 [==============================] - 2441s 7s/step - loss: 0.0922 - accuracy: 0.9707 - f1_score: 0.4211 - precision: 0.2668 - recall: 0.9998 - val_loss: 0.1593 - val_accuracy: 0.9492 - val_f1_score: 0.4267 - val_precision: 0.2713 - val_recall: 0.9990\n",
      "Epoch 13/25\n",
      "329/329 [==============================] - 2441s 7s/step - loss: 0.0477 - accuracy: 0.9852 - f1_score: 0.4263 - precision: 0.2709 - recall: 0.9999 - val_loss: 0.1328 - val_accuracy: 0.9576 - val_f1_score: 0.4408 - val_precision: 0.2829 - val_recall: 0.9990\n",
      "Epoch 14/25\n",
      "329/329 [==============================] - 2444s 7s/step - loss: 0.0220 - accuracy: 0.9943 - f1_score: 0.4312 - precision: 0.2749 - recall: 1.0000 - val_loss: 0.1116 - val_accuracy: 0.9646 - val_f1_score: 0.4381 - val_precision: 0.2806 - val_recall: 0.9993\n",
      "Epoch 15/25\n",
      "329/329 [==============================] - 2444s 7s/step - loss: 0.0097 - accuracy: 0.9982 - f1_score: 0.4348 - precision: 0.2779 - recall: 1.0000 - val_loss: 0.0977 - val_accuracy: 0.9697 - val_f1_score: 0.4398 - val_precision: 0.2821 - val_recall: 0.9990\n",
      "Epoch 16/25\n",
      "329/329 [==============================] - 2444s 7s/step - loss: 0.0040 - accuracy: 0.9998 - f1_score: 0.4355 - precision: 0.2784 - recall: 1.0000 - val_loss: 0.0932 - val_accuracy: 0.9741 - val_f1_score: 0.4397 - val_precision: 0.2820 - val_recall: 0.9990\n",
      "Epoch 17/25\n",
      "329/329 [==============================] - 2445s 7s/step - loss: 0.0021 - accuracy: 1.0000 - f1_score: 0.4365 - precision: 0.2793 - recall: 1.0000 - val_loss: 0.0933 - val_accuracy: 0.9724 - val_f1_score: 0.4405 - val_precision: 0.2826 - val_recall: 0.9990\n",
      "Epoch 18/25\n",
      "329/329 [==============================] - 2443s 7s/step - loss: 0.0015 - accuracy: 1.0000 - f1_score: 0.4375 - precision: 0.2801 - recall: 1.0000 - val_loss: 0.0943 - val_accuracy: 0.9717 - val_f1_score: 0.4418 - val_precision: 0.2837 - val_recall: 0.9990\n",
      "Epoch 19/25\n",
      "329/329 [==============================] - 2360s 7s/step - loss: 0.0012 - accuracy: 1.0000 - f1_score: 0.4383 - precision: 0.2807 - recall: 1.0000 - val_loss: 0.0953 - val_accuracy: 0.9717 - val_f1_score: 0.4431 - val_precision: 0.2847 - val_recall: 0.9990\n",
      "Epoch 20/25\n",
      "329/329 [==============================] - 2400s 7s/step - loss: 0.0011 - accuracy: 1.0000 - f1_score: 0.4388 - precision: 0.2812 - recall: 1.0000 - val_loss: 0.0961 - val_accuracy: 0.9714 - val_f1_score: 0.4438 - val_precision: 0.2853 - val_recall: 0.9990\n",
      "Epoch 21/25\n",
      "329/329 [==============================] - 2409s 7s/step - loss: 9.6288e-04 - accuracy: 1.0000 - f1_score: 0.4392 - precision: 0.2815 - recall: 1.0000 - val_loss: 0.0969 - val_accuracy: 0.9714 - val_f1_score: 0.4442 - val_precision: 0.2857 - val_recall: 0.9993\n",
      "Epoch 22/25\n",
      "329/329 [==============================] - 2438s 7s/step - loss: 8.7397e-04 - accuracy: 1.0000 - f1_score: 0.4397 - precision: 0.2818 - recall: 1.0000 - val_loss: 0.0976 - val_accuracy: 0.9717 - val_f1_score: 0.4443 - val_precision: 0.2858 - val_recall: 0.9993\n",
      "Epoch 23/25\n",
      "329/329 [==============================] - 2444s 7s/step - loss: 8.0450e-04 - accuracy: 1.0000 - f1_score: 0.4399 - precision: 0.2821 - recall: 1.0000 - val_loss: 0.0981 - val_accuracy: 0.9714 - val_f1_score: 0.4448 - val_precision: 0.2862 - val_recall: 0.9993\n",
      "Epoch 24/25\n",
      "329/329 [==============================] - 2442s 7s/step - loss: 7.4833e-04 - accuracy: 1.0000 - f1_score: 0.4403 - precision: 0.2823 - recall: 1.0000 - val_loss: 0.0986 - val_accuracy: 0.9724 - val_f1_score: 0.4454 - val_precision: 0.2866 - val_recall: 0.9993\n",
      "Epoch 25/25\n",
      "329/329 [==============================] - 2443s 7s/step - loss: 7.0187e-04 - accuracy: 1.0000 - f1_score: 0.4406 - precision: 0.2826 - recall: 1.0000 - val_loss: 0.0991 - val_accuracy: 0.9724 - val_f1_score: 0.4455 - val_precision: 0.2867 - val_recall: 0.9993\n"
     ]
    }
   ],
   "source": [
    "model_regnety006.trainable = True\n",
    "fine_tune_at = int(len(model_regnety006.layers)*0.7)\n",
    "for layer in model_regnety006.layers[:fine_tune_at]:\n",
    "    layer.trainble = False\n",
    "    \n",
    "regnety006.compile(optimizer=keras.optimizers.SGD(learning_rate=1e-2, momentum=0.9, decay=1e-2/fine_tune_epochs),\n",
    "              loss=keras.losses.CategoricalCrossentropy(from_logits=True),\n",
    "              metrics=['accuracy', f1_score, precision, recall])\n",
    "\n",
    "history_regnety006_fine = regnety006.fit(train_batches,\n",
    "                    epochs=total_epochs,\n",
    "                    initial_epoch=history_regnety006.epoch[-1],\n",
    "                    validation_data=val_batches, \n",
    "                    verbose=1,\n",
    "                    shuffle=True)"
   ]
  },
  {
   "cell_type": "code",
   "execution_count": 14,
   "metadata": {},
   "outputs": [
    {
     "name": "stdout",
     "output_type": "stream",
     "text": [
      "95/95 - 15s - 15s/epoch - 161ms/step\n"
     ]
    },
    {
     "data": {
      "text/plain": [
       "(0.9754560530679933, 0.975447720879839, 0.9754560530679933, 0.9754276707940625)"
      ]
     },
     "execution_count": 14,
     "metadata": {},
     "output_type": "execute_result"
    }
   ],
   "source": [
    "metric_calc(regnety006)"
   ]
  },
  {
   "cell_type": "code",
   "execution_count": 15,
   "metadata": {},
   "outputs": [
    {
     "name": "stdout",
     "output_type": "stream",
     "text": [
      "95/95 - 14s - loss: 0.1010 - accuracy: 0.9755 - f1_score: 0.4440 - precision: 0.2855 - recall: 0.9985 - 14s/epoch - 142ms/step\n"
     ]
    }
   ],
   "source": [
    "test_loss, test_acc, test_f1, test_prec, test_rec = regnety006.evaluate(test_batches, verbose=2)"
   ]
  },
  {
   "cell_type": "code",
   "execution_count": 16,
   "metadata": {},
   "outputs": [
    {
     "name": "stderr",
     "output_type": "stream",
     "text": [
      "WARNING:absl:Found untraced functions such as _jit_compiled_convolution_op, _jit_compiled_convolution_op, _jit_compiled_convolution_op, _jit_compiled_convolution_op, _jit_compiled_convolution_op while saving (showing 5 of 65). These functions will not be directly callable after loading.\n"
     ]
    },
    {
     "name": "stdout",
     "output_type": "stream",
     "text": [
      "INFO:tensorflow:Assets written to: models/regnety006_weights\\assets\n"
     ]
    },
    {
     "name": "stderr",
     "output_type": "stream",
     "text": [
      "INFO:tensorflow:Assets written to: models/regnety006_weights\\assets\n"
     ]
    }
   ],
   "source": [
    "regnety006.save(\"models/regnety006_weights\")"
   ]
  },
  {
   "cell_type": "markdown",
   "metadata": {},
   "source": [
    "# InceptionResNetV2"
   ]
  },
  {
   "cell_type": "code",
   "execution_count": 12,
   "metadata": {},
   "outputs": [],
   "source": [
    "input_shapeIR = (128,75)\n",
    "\n",
    "train_msIR,train_labelsIR = preprocess_dataset(train_files, input_shapeIR)\n",
    "test_msIR,test_labelsIR = preprocess_dataset(test_files, input_shapeIR)\n",
    "val_msIR,val_labelsIR = preprocess_dataset(val_files, input_shapeIR)\n",
    "\n",
    "train_datasetIR = tf.data.Dataset.from_tensor_slices((train_msIR, train_labelsIR))\n",
    "test_datasetIR = tf.data.Dataset.from_tensor_slices((test_msIR, test_labelsIR))\n",
    "val_datasetIR = tf.data.Dataset.from_tensor_slices((val_msIR, val_labelsIR))\n",
    "\n",
    "train_batchesIR = train_datasetIR.batch(batch_size)\n",
    "test_batchesIR = test_datasetIR.batch(batch_size)\n",
    "val_batchesIR = val_datasetIR.batch(batch_size)"
   ]
  },
  {
   "cell_type": "code",
   "execution_count": 13,
   "metadata": {},
   "outputs": [
    {
     "name": "stdout",
     "output_type": "stream",
     "text": [
      "Downloading data from https://storage.googleapis.com/tensorflow/keras-applications/inception_resnet_v2/inception_resnet_v2_weights_tf_dim_ordering_tf_kernels_notop.h5\n",
      "219055592/219055592 [==============================] - 190s 1us/step\n",
      "Epoch 1/10\n",
      "329/329 [==============================] - 267s 777ms/step - loss: 1.4992 - accuracy: 0.4968 - f1_score: 0.3440 - precision: 0.2154 - recall: 0.8587 - val_loss: 1.3044 - val_accuracy: 0.5465 - val_f1_score: 0.3549 - val_precision: 0.2194 - val_recall: 0.9285\n",
      "Epoch 2/10\n",
      "329/329 [==============================] - 253s 769ms/step - loss: 1.0791 - accuracy: 0.6324 - f1_score: 0.3641 - precision: 0.2256 - recall: 0.9443 - val_loss: 1.0697 - val_accuracy: 0.6384 - val_f1_score: 0.3600 - val_precision: 0.2218 - val_recall: 0.9565\n",
      "Epoch 3/10\n",
      "329/329 [==============================] - 254s 771ms/step - loss: 0.9677 - accuracy: 0.6729 - f1_score: 0.3672 - precision: 0.2271 - recall: 0.9587 - val_loss: 1.0042 - val_accuracy: 0.6572 - val_f1_score: 0.3655 - val_precision: 0.2256 - val_recall: 0.9623\n",
      "Epoch 4/10\n",
      "329/329 [==============================] - 253s 771ms/step - loss: 0.9057 - accuracy: 0.6957 - f1_score: 0.3687 - precision: 0.2278 - recall: 0.9664 - val_loss: 0.9451 - val_accuracy: 0.6771 - val_f1_score: 0.3674 - val_precision: 0.2270 - val_recall: 0.9639\n",
      "Epoch 5/10\n",
      "329/329 [==============================] - 253s 768ms/step - loss: 0.8620 - accuracy: 0.7132 - f1_score: 0.3695 - precision: 0.2282 - recall: 0.9711 - val_loss: 0.9072 - val_accuracy: 0.6936 - val_f1_score: 0.3678 - val_precision: 0.2271 - val_recall: 0.9684\n",
      "Epoch 6/10\n",
      "329/329 [==============================] - 253s 768ms/step - loss: 0.8286 - accuracy: 0.7252 - f1_score: 0.3693 - precision: 0.2280 - recall: 0.9732 - val_loss: 0.8903 - val_accuracy: 0.6987 - val_f1_score: 0.3660 - val_precision: 0.2257 - val_recall: 0.9691\n",
      "Epoch 7/10\n",
      "329/329 [==============================] - 254s 772ms/step - loss: 0.8054 - accuracy: 0.7327 - f1_score: 0.3694 - precision: 0.2279 - recall: 0.9752 - val_loss: 0.8761 - val_accuracy: 0.7020 - val_f1_score: 0.3651 - val_precision: 0.2250 - val_recall: 0.9697\n",
      "Epoch 8/10\n",
      "329/329 [==============================] - 253s 769ms/step - loss: 0.7882 - accuracy: 0.7396 - f1_score: 0.3695 - precision: 0.2279 - recall: 0.9766 - val_loss: 0.8640 - val_accuracy: 0.7094 - val_f1_score: 0.3648 - val_precision: 0.2246 - val_recall: 0.9717\n",
      "Epoch 9/10\n",
      "329/329 [==============================] - 253s 768ms/step - loss: 0.7742 - accuracy: 0.7450 - f1_score: 0.3697 - precision: 0.2280 - recall: 0.9773 - val_loss: 0.8540 - val_accuracy: 0.7138 - val_f1_score: 0.3652 - val_precision: 0.2249 - val_recall: 0.9721\n",
      "Epoch 10/10\n",
      "329/329 [==============================] - 253s 770ms/step - loss: 0.7619 - accuracy: 0.7490 - f1_score: 0.3698 - precision: 0.2281 - recall: 0.9780 - val_loss: 0.8458 - val_accuracy: 0.7145 - val_f1_score: 0.3654 - val_precision: 0.2250 - val_recall: 0.9717\n"
     ]
    }
   ],
   "source": [
    "model_inceptionresnetv2 = tf.keras.applications.inception_resnet_v2.InceptionResNetV2(input_shape=input_shapeIR+(3,), \n",
    "                                                                                      include_top=False, weights='imagenet')\n",
    "model_inceptionresnetv2.trainable = False\n",
    "\n",
    "inceptionresnetv2 = keras.Sequential([\n",
    "    model_inceptionresnetv2,\n",
    "    keras.layers.GlobalAveragePooling2D(),\n",
    "    keras.layers.Dense(len(labels))                  \n",
    "])\n",
    "\n",
    "inceptionresnetv2.compile(optimizer=tf.keras.optimizers.legacy.SGD(learning_rate=1e-2, momentum=0.9, decay=1e-2/epoch),\n",
    "              loss=keras.losses.CategoricalCrossentropy(from_logits=True),\n",
    "              metrics=['accuracy', f1_score, precision, recall])\n",
    "\n",
    "history_inceptionresnetv2 = inceptionresnetv2.fit(train_batchesIR,\n",
    "                    epochs=epoch,\n",
    "                    validation_data=val_batchesIR,\n",
    "                    verbose=1,\n",
    "                    shuffle=True)"
   ]
  },
  {
   "cell_type": "code",
   "execution_count": 14,
   "metadata": {},
   "outputs": [
    {
     "name": "stdout",
     "output_type": "stream",
     "text": [
      "Epoch 10/25\n",
      "329/329 [==============================] - 1661s 5s/step - loss: 0.5296 - accuracy: 0.8346 - f1_score: 0.3713 - precision: 0.2290 - recall: 0.9817 - val_loss: 0.7143 - val_accuracy: 0.8825 - val_f1_score: 0.3891 - val_precision: 0.2419 - val_recall: 0.9953\n",
      "Epoch 11/25\n",
      "329/329 [==============================] - 1832s 6s/step - loss: 0.1403 - accuracy: 0.9545 - f1_score: 0.3770 - precision: 0.2324 - recall: 0.9981 - val_loss: 0.2896 - val_accuracy: 0.8997 - val_f1_score: 0.3821 - val_precision: 0.2363 - val_recall: 0.9987\n",
      "Epoch 12/25\n",
      "329/329 [==============================] - 1900s 6s/step - loss: 0.0568 - accuracy: 0.9819 - f1_score: 0.3782 - precision: 0.2333 - recall: 0.9998 - val_loss: 0.1663 - val_accuracy: 0.9535 - val_f1_score: 0.3788 - val_precision: 0.2338 - val_recall: 0.9987\n",
      "Epoch 13/25\n",
      "329/329 [==============================] - 1867s 6s/step - loss: 0.0297 - accuracy: 0.9902 - f1_score: 0.3790 - precision: 0.2339 - recall: 0.9998 - val_loss: 0.1299 - val_accuracy: 0.9657 - val_f1_score: 0.3834 - val_precision: 0.2373 - val_recall: 0.9997\n",
      "Epoch 14/25\n",
      "329/329 [==============================] - 1885s 6s/step - loss: 0.0102 - accuracy: 0.9975 - f1_score: 0.3817 - precision: 0.2359 - recall: 1.0000 - val_loss: 0.1328 - val_accuracy: 0.9684 - val_f1_score: 0.3852 - val_precision: 0.2386 - val_recall: 0.9997\n",
      "Epoch 15/25\n",
      "329/329 [==============================] - 1854s 6s/step - loss: 0.0026 - accuracy: 0.9993 - f1_score: 0.3825 - precision: 0.2365 - recall: 1.0000 - val_loss: 0.1284 - val_accuracy: 0.9690 - val_f1_score: 0.3849 - val_precision: 0.2384 - val_recall: 0.9997\n",
      "Epoch 16/25\n",
      "329/329 [==============================] - 1447s 4s/step - loss: 8.8648e-04 - accuracy: 0.9998 - f1_score: 0.3826 - precision: 0.2366 - recall: 1.0000 - val_loss: 0.1289 - val_accuracy: 0.9700 - val_f1_score: 0.3850 - val_precision: 0.2385 - val_recall: 0.9997\n",
      "Epoch 17/25\n",
      "329/329 [==============================] - 1449s 4s/step - loss: 3.9412e-04 - accuracy: 1.0000 - f1_score: 0.3827 - precision: 0.2366 - recall: 1.0000 - val_loss: 0.1286 - val_accuracy: 0.9710 - val_f1_score: 0.3847 - val_precision: 0.2382 - val_recall: 0.9993\n",
      "Epoch 18/25\n",
      "329/329 [==============================] - 1445s 4s/step - loss: 2.7620e-04 - accuracy: 1.0000 - f1_score: 0.3828 - precision: 0.2368 - recall: 1.0000 - val_loss: 0.1285 - val_accuracy: 0.9707 - val_f1_score: 0.3850 - val_precision: 0.2385 - val_recall: 0.9993\n",
      "Epoch 19/25\n",
      "329/329 [==============================] - 1450s 4s/step - loss: 2.3307e-04 - accuracy: 1.0000 - f1_score: 0.3831 - precision: 0.2369 - recall: 1.0000 - val_loss: 0.1284 - val_accuracy: 0.9707 - val_f1_score: 0.3851 - val_precision: 0.2386 - val_recall: 0.9993\n",
      "Epoch 20/25\n",
      "329/329 [==============================] - 1453s 4s/step - loss: 2.0624e-04 - accuracy: 1.0000 - f1_score: 0.3832 - precision: 0.2370 - recall: 1.0000 - val_loss: 0.1284 - val_accuracy: 0.9707 - val_f1_score: 0.3852 - val_precision: 0.2386 - val_recall: 0.9993\n",
      "Epoch 21/25\n",
      "329/329 [==============================] - 1451s 4s/step - loss: 1.8733e-04 - accuracy: 1.0000 - f1_score: 0.3832 - precision: 0.2371 - recall: 1.0000 - val_loss: 0.1284 - val_accuracy: 0.9707 - val_f1_score: 0.3853 - val_precision: 0.2387 - val_recall: 0.9993\n",
      "Epoch 22/25\n",
      "329/329 [==============================] - 1553s 5s/step - loss: 1.7313e-04 - accuracy: 1.0000 - f1_score: 0.3834 - precision: 0.2372 - recall: 1.0000 - val_loss: 0.1284 - val_accuracy: 0.9710 - val_f1_score: 0.3852 - val_precision: 0.2387 - val_recall: 0.9993\n",
      "Epoch 23/25\n",
      "329/329 [==============================] - 1455s 4s/step - loss: 1.6202e-04 - accuracy: 1.0000 - f1_score: 0.3834 - precision: 0.2372 - recall: 1.0000 - val_loss: 0.1285 - val_accuracy: 0.9714 - val_f1_score: 0.3853 - val_precision: 0.2387 - val_recall: 0.9993\n",
      "Epoch 24/25\n",
      "329/329 [==============================] - 1446s 4s/step - loss: 1.5291e-04 - accuracy: 1.0000 - f1_score: 0.3835 - precision: 0.2373 - recall: 1.0000 - val_loss: 0.1285 - val_accuracy: 0.9714 - val_f1_score: 0.3853 - val_precision: 0.2387 - val_recall: 0.9993\n",
      "Epoch 25/25\n",
      "329/329 [==============================] - 1445s 4s/step - loss: 1.4526e-04 - accuracy: 1.0000 - f1_score: 0.3835 - precision: 0.2373 - recall: 1.0000 - val_loss: 0.1285 - val_accuracy: 0.9710 - val_f1_score: 0.3853 - val_precision: 0.2387 - val_recall: 0.9993\n"
     ]
    }
   ],
   "source": [
    "model_inceptionresnetv2.trainable = True\n",
    "fine_tune_at = int(len(model_inceptionresnetv2.layers)*0.7)\n",
    "for layer in model_inceptionresnetv2.layers[:fine_tune_at]:\n",
    "    layer.trainble = False\n",
    "    \n",
    "inceptionresnetv2.compile(optimizer=keras.optimizers.SGD(learning_rate=1e-2, momentum=0.9, decay=1e-2/fine_tune_epochs),\n",
    "              loss=keras.losses.CategoricalCrossentropy(from_logits=True),\n",
    "              metrics=['accuracy', f1_score, precision, recall])\n",
    "\n",
    "history_inceptionresnetv2_fine = inceptionresnetv2.fit(train_batchesIR,\n",
    "                    epochs=total_epochs,\n",
    "                    initial_epoch=history_inceptionresnetv2.epoch[-1],\n",
    "                    validation_data=val_batchesIR,\n",
    "                    verbose=1,\n",
    "                    shuffle=True)"
   ]
  },
  {
   "cell_type": "code",
   "execution_count": 18,
   "metadata": {},
   "outputs": [
    {
     "name": "stdout",
     "output_type": "stream",
     "text": [
      "95/95 - 87s - 87s/epoch - 912ms/step\n"
     ]
    },
    {
     "data": {
      "text/plain": [
       "(0.9723051409618574,\n",
       " 0.9723409226434793,\n",
       " 0.9723051409618574,\n",
       " 0.9722750884300165)"
      ]
     },
     "execution_count": 18,
     "metadata": {},
     "output_type": "execute_result"
    }
   ],
   "source": [
    "metric_calc(inceptionresnetv2)"
   ]
  },
  {
   "cell_type": "code",
   "execution_count": 19,
   "metadata": {},
   "outputs": [
    {
     "name": "stdout",
     "output_type": "stream",
     "text": [
      "95/95 - 92s - loss: 0.1323 - accuracy: 0.9723 - f1_score: 0.3858 - precision: 0.2390 - recall: 0.9995 - 92s/epoch - 964ms/step\n"
     ]
    }
   ],
   "source": [
    "test_loss, test_acc, test_f1, test_prec, test_rec = inceptionresnetv2.evaluate(test_batchesIR, verbose=2)"
   ]
  },
  {
   "cell_type": "code",
   "execution_count": 20,
   "metadata": {},
   "outputs": [
    {
     "name": "stderr",
     "output_type": "stream",
     "text": [
      "WARNING:absl:Found untraced functions such as _jit_compiled_convolution_op, _jit_compiled_convolution_op, _jit_compiled_convolution_op, _jit_compiled_convolution_op, _jit_compiled_convolution_op while saving (showing 5 of 244). These functions will not be directly callable after loading.\n"
     ]
    },
    {
     "name": "stdout",
     "output_type": "stream",
     "text": [
      "INFO:tensorflow:Assets written to: models/inceptionresnetv2_weights\\assets\n"
     ]
    },
    {
     "name": "stderr",
     "output_type": "stream",
     "text": [
      "INFO:tensorflow:Assets written to: models/inceptionresnetv2_weights\\assets\n"
     ]
    }
   ],
   "source": [
    "inceptionresnetv2.save(\"models/inceptionresnetv2_weights\")"
   ]
  },
  {
   "cell_type": "markdown",
   "metadata": {},
   "source": [
    "# Xception"
   ]
  },
  {
   "cell_type": "code",
   "execution_count": 17,
   "metadata": {},
   "outputs": [],
   "source": [
    "input_shapeX = (128,71)\n",
    "\n",
    "train_msX,train_labelsX = preprocess_dataset(train_files, input_shapeX)\n",
    "test_msX,test_labelsX = preprocess_dataset(test_files, input_shapeX)\n",
    "val_msX,val_labelsX = preprocess_dataset(val_files, input_shapeX)\n",
    "\n",
    "train_datasetX = tf.data.Dataset.from_tensor_slices((train_msX, train_labelsX))\n",
    "test_datasetX = tf.data.Dataset.from_tensor_slices((test_msX, test_labelsX))\n",
    "val_datasetX = tf.data.Dataset.from_tensor_slices((val_msX, val_labelsX))\n",
    "\n",
    "train_batchesX = train_datasetX.batch(batch_size)\n",
    "test_batchesX = test_datasetX.batch(batch_size)\n",
    "val_batchesX = val_datasetX.batch(batch_size)"
   ]
  },
  {
   "cell_type": "code",
   "execution_count": 18,
   "metadata": {},
   "outputs": [
    {
     "name": "stdout",
     "output_type": "stream",
     "text": [
      "Epoch 1/10\n",
      "329/329 [==============================] - 206s 615ms/step - loss: 1.4743 - accuracy: 0.4998 - f1_score: 0.3737 - precision: 0.2485 - recall: 0.7741 - val_loss: 1.2242 - val_accuracy: 0.6104 - val_f1_score: 0.3966 - val_precision: 0.2554 - val_recall: 0.8878\n",
      "Epoch 2/10\n",
      "329/329 [==============================] - 202s 615ms/step - loss: 1.1422 - accuracy: 0.6279 - f1_score: 0.3947 - precision: 0.2522 - recall: 0.9093 - val_loss: 1.1060 - val_accuracy: 0.6485 - val_f1_score: 0.3942 - val_precision: 0.2514 - val_recall: 0.9134\n",
      "Epoch 3/10\n",
      "329/329 [==============================] - 202s 614ms/step - loss: 1.0475 - accuracy: 0.6649 - f1_score: 0.3946 - precision: 0.2506 - recall: 0.9291 - val_loss: 1.0489 - val_accuracy: 0.6616 - val_f1_score: 0.3937 - val_precision: 0.2501 - val_recall: 0.9257\n",
      "Epoch 4/10\n",
      "329/329 [==============================] - 202s 614ms/step - loss: 0.9931 - accuracy: 0.6842 - f1_score: 0.3941 - precision: 0.2495 - recall: 0.9387 - val_loss: 1.0160 - val_accuracy: 0.6734 - val_f1_score: 0.3923 - val_precision: 0.2486 - val_recall: 0.9307\n",
      "Epoch 5/10\n",
      "329/329 [==============================] - 202s 615ms/step - loss: 0.9564 - accuracy: 0.6974 - f1_score: 0.3941 - precision: 0.2491 - recall: 0.9440 - val_loss: 0.9938 - val_accuracy: 0.6822 - val_f1_score: 0.3921 - val_precision: 0.2480 - val_recall: 0.9363\n",
      "Epoch 6/10\n",
      "329/329 [==============================] - 202s 614ms/step - loss: 0.9294 - accuracy: 0.7041 - f1_score: 0.3944 - precision: 0.2491 - recall: 0.9484 - val_loss: 0.9773 - val_accuracy: 0.6882 - val_f1_score: 0.3929 - val_precision: 0.2483 - val_recall: 0.9410\n",
      "Epoch 7/10\n",
      "329/329 [==============================] - 202s 615ms/step - loss: 0.9084 - accuracy: 0.7119 - f1_score: 0.3944 - precision: 0.2488 - recall: 0.9518 - val_loss: 0.9642 - val_accuracy: 0.6923 - val_f1_score: 0.3925 - val_precision: 0.2479 - val_recall: 0.9430\n",
      "Epoch 8/10\n",
      "329/329 [==============================] - 202s 614ms/step - loss: 0.8915 - accuracy: 0.7165 - f1_score: 0.3942 - precision: 0.2485 - recall: 0.9546 - val_loss: 0.9532 - val_accuracy: 0.6953 - val_f1_score: 0.3921 - val_precision: 0.2474 - val_recall: 0.9453\n",
      "Epoch 9/10\n",
      "329/329 [==============================] - 202s 614ms/step - loss: 0.8773 - accuracy: 0.7200 - f1_score: 0.3942 - precision: 0.2483 - recall: 0.9565 - val_loss: 0.9436 - val_accuracy: 0.6970 - val_f1_score: 0.3916 - val_precision: 0.2469 - val_recall: 0.9467\n",
      "Epoch 10/10\n",
      "329/329 [==============================] - 202s 615ms/step - loss: 0.8654 - accuracy: 0.7248 - f1_score: 0.3940 - precision: 0.2481 - recall: 0.9580 - val_loss: 0.9350 - val_accuracy: 0.7000 - val_f1_score: 0.3912 - val_precision: 0.2465 - val_recall: 0.9483\n"
     ]
    }
   ],
   "source": [
    "model_xception = tf.keras.applications.xception.Xception(input_shape=input_shapeX+(3,), include_top=False, weights='imagenet')\n",
    "model_xception.trainable = False\n",
    "\n",
    "xception = keras.Sequential([\n",
    "    model_xception,\n",
    "    keras.layers.GlobalAveragePooling2D(),\n",
    "    keras.layers.Dense(len(labels))                \n",
    "])\n",
    "\n",
    "xception.compile(optimizer=tf.keras.optimizers.SGD(learning_rate=1e-2, momentum=0.9, decay=1e-2/epoch),\n",
    "              loss=keras.losses.CategoricalCrossentropy(from_logits=True),\n",
    "              metrics=['accuracy', f1_score, precision, recall])\n",
    "\n",
    "history_xception = xception.fit(train_batchesX,\n",
    "                    epochs=epoch,\n",
    "                    validation_data=val_batchesX,\n",
    "                    verbose=1,\n",
    "                    shuffle=True)"
   ]
  },
  {
   "cell_type": "code",
   "execution_count": 19,
   "metadata": {},
   "outputs": [
    {
     "name": "stdout",
     "output_type": "stream",
     "text": [
      "Epoch 10/25\n",
      "329/329 [==============================] - 1098s 3s/step - loss: 0.5198 - accuracy: 0.8158 - f1_score: 0.3960 - precision: 0.2536 - recall: 0.9488 - val_loss: 0.2938 - val_accuracy: 0.9071 - val_f1_score: 0.4168 - val_precision: 0.2636 - val_recall: 0.9963\n",
      "Epoch 11/25\n",
      "329/329 [==============================] - 1088s 3s/step - loss: 0.0742 - accuracy: 0.9764 - f1_score: 0.4247 - precision: 0.2697 - recall: 0.9997 - val_loss: 0.1211 - val_accuracy: 0.9650 - val_f1_score: 0.4341 - val_precision: 0.2774 - val_recall: 0.9990\n",
      "Epoch 12/25\n",
      "329/329 [==============================] - 1077s 3s/step - loss: 0.0144 - accuracy: 0.9965 - f1_score: 0.4301 - precision: 0.2740 - recall: 1.0000 - val_loss: 0.1118 - val_accuracy: 0.9704 - val_f1_score: 0.4354 - val_precision: 0.2784 - val_recall: 0.9993\n",
      "Epoch 13/25\n",
      "329/329 [==============================] - 1060s 3s/step - loss: 0.0030 - accuracy: 0.9997 - f1_score: 0.4342 - precision: 0.2774 - recall: 1.0000 - val_loss: 0.1029 - val_accuracy: 0.9714 - val_f1_score: 0.4403 - val_precision: 0.2824 - val_recall: 0.9993\n",
      "Epoch 14/25\n",
      "329/329 [==============================] - 1081s 3s/step - loss: 0.0014 - accuracy: 1.0000 - f1_score: 0.4359 - precision: 0.2787 - recall: 1.0000 - val_loss: 0.1044 - val_accuracy: 0.9717 - val_f1_score: 0.4410 - val_precision: 0.2830 - val_recall: 0.9990\n",
      "Epoch 15/25\n",
      "329/329 [==============================] - 1082s 3s/step - loss: 8.7669e-04 - accuracy: 1.0000 - f1_score: 0.4370 - precision: 0.2796 - recall: 1.0000 - val_loss: 0.1041 - val_accuracy: 0.9721 - val_f1_score: 0.4413 - val_precision: 0.2833 - val_recall: 0.9990\n",
      "Epoch 16/25\n",
      "329/329 [==============================] - 1091s 3s/step - loss: 7.1830e-04 - accuracy: 1.0000 - f1_score: 0.4379 - precision: 0.2804 - recall: 1.0000 - val_loss: 0.1041 - val_accuracy: 0.9724 - val_f1_score: 0.4421 - val_precision: 0.2839 - val_recall: 0.9990\n",
      "Epoch 17/25\n",
      "329/329 [==============================] - 1090s 3s/step - loss: 6.2157e-04 - accuracy: 1.0000 - f1_score: 0.4387 - precision: 0.2810 - recall: 1.0000 - val_loss: 0.1044 - val_accuracy: 0.9724 - val_f1_score: 0.4426 - val_precision: 0.2843 - val_recall: 0.9990\n",
      "Epoch 18/25\n",
      "329/329 [==============================] - 1085s 3s/step - loss: 5.5449e-04 - accuracy: 1.0000 - f1_score: 0.4394 - precision: 0.2816 - recall: 1.0000 - val_loss: 0.1046 - val_accuracy: 0.9727 - val_f1_score: 0.4430 - val_precision: 0.2847 - val_recall: 0.9990\n",
      "Epoch 19/25\n",
      "329/329 [==============================] - 1084s 3s/step - loss: 5.0457e-04 - accuracy: 1.0000 - f1_score: 0.4398 - precision: 0.2820 - recall: 1.0000 - val_loss: 0.1049 - val_accuracy: 0.9727 - val_f1_score: 0.4434 - val_precision: 0.2850 - val_recall: 0.9990\n",
      "Epoch 20/25\n",
      "329/329 [==============================] - 1085s 3s/step - loss: 4.6576e-04 - accuracy: 1.0000 - f1_score: 0.4401 - precision: 0.2822 - recall: 1.0000 - val_loss: 0.1051 - val_accuracy: 0.9727 - val_f1_score: 0.4436 - val_precision: 0.2851 - val_recall: 0.9990\n",
      "Epoch 21/25\n",
      "329/329 [==============================] - 1083s 3s/step - loss: 4.3459e-04 - accuracy: 1.0000 - f1_score: 0.4405 - precision: 0.2825 - recall: 1.0000 - val_loss: 0.1054 - val_accuracy: 0.9727 - val_f1_score: 0.4441 - val_precision: 0.2856 - val_recall: 0.9990\n",
      "Epoch 22/25\n",
      "329/329 [==============================] - 1084s 3s/step - loss: 4.0895e-04 - accuracy: 1.0000 - f1_score: 0.4409 - precision: 0.2828 - recall: 1.0000 - val_loss: 0.1056 - val_accuracy: 0.9727 - val_f1_score: 0.4445 - val_precision: 0.2859 - val_recall: 0.9990\n",
      "Epoch 23/25\n",
      "329/329 [==============================] - 1082s 3s/step - loss: 3.8743e-04 - accuracy: 1.0000 - f1_score: 0.4411 - precision: 0.2831 - recall: 1.0000 - val_loss: 0.1058 - val_accuracy: 0.9727 - val_f1_score: 0.4447 - val_precision: 0.2861 - val_recall: 0.9990\n",
      "Epoch 24/25\n",
      "329/329 [==============================] - 1084s 3s/step - loss: 3.6909e-04 - accuracy: 1.0000 - f1_score: 0.4413 - precision: 0.2832 - recall: 1.0000 - val_loss: 0.1060 - val_accuracy: 0.9724 - val_f1_score: 0.4451 - val_precision: 0.2864 - val_recall: 0.9990\n",
      "Epoch 25/25\n",
      "329/329 [==============================] - 1083s 3s/step - loss: 3.5322e-04 - accuracy: 1.0000 - f1_score: 0.4416 - precision: 0.2834 - recall: 1.0000 - val_loss: 0.1062 - val_accuracy: 0.9724 - val_f1_score: 0.4454 - val_precision: 0.2867 - val_recall: 0.9990\n"
     ]
    }
   ],
   "source": [
    "model_xception.trainable = True\n",
    "fine_tune_at = int(len(model_xception.layers)*0.7)\n",
    "for layer in model_xception.layers[:fine_tune_at]:\n",
    "    layer.trainble = False\n",
    "    \n",
    "xception.compile(optimizer=keras.optimizers.SGD(learning_rate=1e-2, momentum=0.9, decay=1e-2/fine_tune_epochs),\n",
    "              loss=keras.losses.CategoricalCrossentropy(from_logits=True),\n",
    "              metrics=['accuracy', f1_score, precision, recall])\n",
    "\n",
    "history_xception_fine = xception.fit(train_batchesX,\n",
    "                    epochs=total_epochs,\n",
    "                    initial_epoch=history_xception.epoch[-1],\n",
    "                    validation_data=val_batchesX,\n",
    "                    verbose=1,\n",
    "                    shuffle=True)"
   ]
  },
  {
   "cell_type": "code",
   "execution_count": 23,
   "metadata": {},
   "outputs": [
    {
     "name": "stdout",
     "output_type": "stream",
     "text": [
      "95/95 - 47s - 47s/epoch - 494ms/step\n"
     ]
    },
    {
     "data": {
      "text/plain": [
       "(0.9733001658374792,\n",
       " 0.9733766505244987,\n",
       " 0.9733001658374792,\n",
       " 0.9732853701001281)"
      ]
     },
     "execution_count": 23,
     "metadata": {},
     "output_type": "execute_result"
    }
   ],
   "source": [
    "metric_calc(xception)"
   ]
  },
  {
   "cell_type": "code",
   "execution_count": 20,
   "metadata": {},
   "outputs": [
    {
     "name": "stdout",
     "output_type": "stream",
     "text": [
      "95/95 - 52s - loss: 0.1100 - accuracy: 0.9733 - f1_score: 0.4448 - precision: 0.2862 - recall: 0.9987 - 52s/epoch - 552ms/step\n"
     ]
    }
   ],
   "source": [
    "test_loss, test_acc, test_f1, test_prec, test_rec = xception.evaluate(test_batchesX, verbose=2)"
   ]
  },
  {
   "cell_type": "code",
   "execution_count": 21,
   "metadata": {},
   "outputs": [
    {
     "name": "stderr",
     "output_type": "stream",
     "text": [
      "WARNING:absl:Found untraced functions such as _jit_compiled_convolution_op, _jit_compiled_convolution_op, _jit_compiled_convolution_op, _jit_compiled_convolution_op, _jit_compiled_convolution_op while saving (showing 5 of 40). These functions will not be directly callable after loading.\n"
     ]
    },
    {
     "name": "stdout",
     "output_type": "stream",
     "text": [
      "INFO:tensorflow:Assets written to: models/xception_weights\\assets\n"
     ]
    },
    {
     "name": "stderr",
     "output_type": "stream",
     "text": [
      "INFO:tensorflow:Assets written to: models/xception_weights\\assets\n"
     ]
    }
   ],
   "source": [
    "xception.save(\"models/xception_weights\")"
   ]
  },
  {
   "cell_type": "code",
   "execution_count": null,
   "metadata": {},
   "outputs": [],
   "source": []
  }
 ],
 "metadata": {
  "colab": {
   "collapsed_sections": [],
   "provenance": []
  },
  "kernelspec": {
   "display_name": "Python 3 (ipykernel)",
   "language": "python",
   "name": "python3"
  },
  "language_info": {
   "codemirror_mode": {
    "name": "ipython",
    "version": 3
   },
   "file_extension": ".py",
   "mimetype": "text/x-python",
   "name": "python",
   "nbconvert_exporter": "python",
   "pygments_lexer": "ipython3",
   "version": "3.9.12"
  }
 },
 "nbformat": 4,
 "nbformat_minor": 4
}
